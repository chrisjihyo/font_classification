{
 "cells": [
  {
   "cell_type": "code",
   "execution_count": 1,
   "id": "475d8c4c",
   "metadata": {},
   "outputs": [],
   "source": [
    "from keras.preprocessing.image import ImageDataGenerator\n",
    "\n",
    "from keras.utils import np_utils\n",
    "from keras.models import Sequential\n",
    "from keras.utils import array_to_img, img_to_array, load_img\n",
    "from keras.layers import *\n",
    "from keras.callbacks import ModelCheckpoint, EarlyStopping\n",
    "\n",
    "import os\n",
    "import pandas as pd\n",
    "import numpy as np\n",
    "\n",
    "from sklearn.metrics import accuracy_score"
   ]
  },
  {
   "cell_type": "code",
   "execution_count": 2,
   "id": "c158437d",
   "metadata": {},
   "outputs": [],
   "source": [
    "path = r\"C:\\\\Users\\\\USER\\\\Desktop\\\\font_classifier\" #원본 이미지 경로 C:\\Users\\USER\\Desktop\\font_classifier\n",
    "copy_path = r\"C:\\\\Users\\\\USER\\\\Desktop\\\\font_classifier_copy\" #복사 및 분류된 이미지 경로\n",
    "#font_classifier 안에 모든 글꼴 이미지들이 다 저장되어 있음 (따로 하위폴더 없음)\n",
    "#노트북 경로"
   ]
  },
  {
   "cell_type": "code",
   "execution_count": 3,
   "id": "cc571bb2",
   "metadata": {},
   "outputs": [
    {
     "name": "stderr",
     "output_type": "stream",
     "text": [
      "Copying files: 0 files [00:00, ? files/s]"
     ]
    },
    {
     "name": "stderr",
     "output_type": "stream",
     "text": [
      "Copying files: 55860 files [16:54, 55.05 files/s]\n"
     ]
    }
   ],
   "source": [
    "import splitfolders\n",
    "\n",
    "splitfolders.ratio(path, output=copy_path, seed = 43, ratio = (.7,.2,.1))"
   ]
  },
  {
   "cell_type": "code",
   "execution_count": 12,
   "id": "dba93ccd",
   "metadata": {},
   "outputs": [],
   "source": [
    "#각 train, test, vali 폴더 안에서 글꼴별로 구별되어 있는 걸 풀어서 섞고, 글꼴별 폴더 삭제하기\n",
    "\n",
    "import shutil\n",
    "import os\n",
    "\n",
    "font_list = [\"01\",\"02\",\"03\",\"04\",\"05\"]\n",
    "folder_list = [\"val\",\"test\",\"train\"]\n",
    "\n",
    "for folder in folder_list :\n",
    "\n",
    "\n",
    "    for font in font_list :\n",
    "        currentPath = copy_path + f'\\\\{folder}'+ f'\\\\{font}'\n",
    "\n",
    "        trainFileList = os.listdir(currentPath)\n",
    "        trainFileList = [x for x in trainFileList if 'png' in x]\n",
    "\n",
    "        for image in trainFileList :\n",
    "            try :\n",
    "                shutil.move(currentPath + f'\\\\{image}', copy_path + f'\\\\{folder}' + f'\\\\{image}')\n",
    "            except :\n",
    "                pass\n",
    "    \n",
    "        os.rmdir(currentPath)\n"
   ]
  },
  {
   "cell_type": "code",
   "execution_count": 14,
   "id": "5578965a",
   "metadata": {},
   "outputs": [
    {
     "name": "stdout",
     "output_type": "stream",
     "text": [
      "5591\n",
      "39101\n",
      "11171\n"
     ]
    }
   ],
   "source": [
    "print(len(os.listdir(copy_path + '\\\\test')))\n",
    "print(len(os.listdir(copy_path + '\\\\train')))\n",
    "print(len(os.listdir(copy_path + '\\\\val')))"
   ]
  },
  {
   "cell_type": "code",
   "execution_count": null,
   "id": "bdedf9a7",
   "metadata": {},
   "outputs": [],
   "source": [
    "trainFileList = os.listdir(path)"
   ]
  },
  {
   "cell_type": "code",
   "execution_count": null,
   "id": "2bfce67c",
   "metadata": {},
   "outputs": [],
   "source": [
    "trainFileList = [x for x in trainFileList if 'png' in x]"
   ]
  },
  {
   "cell_type": "code",
   "execution_count": null,
   "id": "a071155f",
   "metadata": {},
   "outputs": [],
   "source": [
    "label_list = list(set(map(lambda x : x[:-7], trainFileList))) # ex. a_b_c <-- 이런 거로 폴더명 리스트 만들기"
   ]
  },
  {
   "cell_type": "code",
   "execution_count": 15,
   "id": "162f1c3b",
   "metadata": {},
   "outputs": [],
   "source": [
    "folder_list = [\"val\",\"test\",\"train\"]"
   ]
  },
  {
   "cell_type": "code",
   "execution_count": 17,
   "id": "673c2a0e",
   "metadata": {},
   "outputs": [],
   "source": [
    "import shutil\n",
    "import os\n",
    "\n",
    "for folder in folder_list :\n",
    "    currentPath = copy_path + f'\\\\{folder}'\n",
    "\n",
    "    trainFileList = os.listdir(currentPath)\n",
    "    trainFileList = [x for x in trainFileList if 'png' in x]\n",
    "\n",
    "    label_list = list(set(map(lambda x : x[:-7], trainFileList))) \n",
    "    \n",
    "    try:\n",
    "        for key in label_list: # 글자마다 폴더가 생김\n",
    "            os.makedirs(currentPath + f'\\\\{key}')\n",
    "    except:\n",
    "        pass\n",
    "\n",
    "    # 여기까지는 정상적으로 처리 됨.\n",
    "\n",
    "    # font_classifier 폴더에 있던 마구자비로 섞여있던 이미지 데이터들이 train 폴더 안에 있는 글자 폴더별로 옮겨짐\n",
    "    for file in trainFileList:\n",
    "        label = file.split('.')[0]\n",
    "        targetPath = currentPath + f'\\\\{label}'\n",
    "        try :\n",
    "            shutil.move(currentPath+f'\\\\{file}', targetPath+f'\\\\{file}')\n",
    "        except:\n",
    "            pass\n",
    "\n",
    "\n",
    "#여기까지 자료 준비 완료 (글자별로 분류된 상태)"
   ]
  },
  {
   "attachments": {},
   "cell_type": "markdown",
   "id": "88be1942",
   "metadata": {},
   "source": [
    "### 데이터 준비 완료 -----------"
   ]
  },
  {
   "cell_type": "code",
   "execution_count": null,
   "id": "ee55f687",
   "metadata": {},
   "outputs": [],
   "source": [
    "#데이터 변형\n",
    "\n",
    "currentPath = copy_path + f'\\\\train'  #val, test도 해야 함.\n",
    "\n",
    "trainDataGen = ImageDataGenerator(rescale=1./255,\n",
    "                                 rotation_range = 10,\n",
    "                                 width_shift_range=0.1,\n",
    "                                 height_shift_range=0.1,\n",
    "                                 shear_range=0.1,\n",
    "                                 zoom_range=0.1,\n",
    "                                 horizontal_flip=False,\n",
    "                                 vertical_flip=False,\n",
    "                                 fill_mode='nearest'\n",
    "                                 )\n",
    "# 밑에서 데이터를 가져옴."
   ]
  },
  {
   "cell_type": "code",
   "execution_count": null,
   "id": "6b36eff1",
   "metadata": {},
   "outputs": [
    {
     "name": "stdout",
     "output_type": "stream",
     "text": [
      "Found 55860 images belonging to 11172 classes.\n"
     ]
    }
   ],
   "source": [
    "trainGenSet = trainDataGen.flow_from_directory(\n",
    "    currentPath,\n",
    "    batch_size=64,\n",
    "    target_size=(28,28),\n",
    "    class_mode='categorical'\n",
    ")"
   ]
  },
  {
   "attachments": {},
   "cell_type": "markdown",
   "id": "cf3b54bc",
   "metadata": {},
   "source": [
    "### 데이터 변형까지 완료"
   ]
  },
  {
   "cell_type": "code",
   "execution_count": null,
   "id": "c6050b13",
   "metadata": {},
   "outputs": [],
   "source": [
    "from sklearn import model_selection\n",
    "from sklearn.model_selection import cross_val_score\n",
    "from sklearn.model_selection import KFold\n",
    "from skimage.transform import resize\n",
    "import numpy as np\n",
    "import matplotlib.pyplot as plt\n",
    "from keras.preprocessing.image import ImageDataGenerator"
   ]
  },
  {
   "cell_type": "code",
   "execution_count": null,
   "id": "4e5567d2",
   "metadata": {},
   "outputs": [],
   "source": [
    "# Define the K-fold Cross Validator\n",
    "kfold = KFold(n_splits=10, shuffle=True)"
   ]
  },
  {
   "cell_type": "code",
   "execution_count": null,
   "id": "363e33cf",
   "metadata": {},
   "outputs": [
    {
     "ename": "NameError",
     "evalue": "name 'inputs' is not defined",
     "output_type": "error",
     "traceback": [
      "\u001b[1;31m---------------------------------------------------------------------------\u001b[0m",
      "\u001b[1;31mNameError\u001b[0m                                 Traceback (most recent call last)",
      "Input \u001b[1;32mIn [17]\u001b[0m, in \u001b[0;36m<cell line: 2>\u001b[1;34m()\u001b[0m\n\u001b[0;32m      1\u001b[0m \u001b[38;5;66;03m# 모델 구성\u001b[39;00m\n\u001b[1;32m----> 2\u001b[0m \u001b[38;5;28;01mfor\u001b[39;00m train, test \u001b[38;5;129;01min\u001b[39;00m kfold\u001b[38;5;241m.\u001b[39msplit(\u001b[43minputs\u001b[49m, targets):\n\u001b[0;32m      3\u001b[0m     model \u001b[38;5;241m=\u001b[39m Sequential()\n\u001b[0;32m      4\u001b[0m     model\u001b[38;5;241m.\u001b[39madd(Conv2D(\u001b[38;5;241m64\u001b[39m, kernel_size\u001b[38;5;241m=\u001b[39m(\u001b[38;5;241m3\u001b[39m,\u001b[38;5;241m3\u001b[39m), padding\u001b[38;5;241m=\u001b[39m\u001b[38;5;124m'\u001b[39m\u001b[38;5;124msame\u001b[39m\u001b[38;5;124m'\u001b[39m, input_shape\u001b[38;5;241m=\u001b[39m(\u001b[38;5;241m28\u001b[39m,\u001b[38;5;241m28\u001b[39m,\u001b[38;5;241m3\u001b[39m), activation\u001b[38;5;241m=\u001b[39m\u001b[38;5;124m'\u001b[39m\u001b[38;5;124mrelu\u001b[39m\u001b[38;5;124m'\u001b[39m))\n",
      "\u001b[1;31mNameError\u001b[0m: name 'inputs' is not defined"
     ]
    }
   ],
   "source": [
    "# 모델 구성\n",
    "for train, test in kfold.split(inputs, targets):\n",
    "    model = Sequential()\n",
    "    model.add(Conv2D(64, kernel_size=(3,3), padding='same', input_shape=(28,28,3), activation='relu'))\n",
    "    model.add(MaxPooling2D(pool_size=(2,2)))\n",
    "    model.add(Dropout(0.2))\n",
    "    \n",
    "    model.add(Conv2D(128, kernel_size=(3,3),padding='same', activation='relu'))\n",
    "    model.add(MaxPooling2D(pool_size=(2,2)))\n",
    "    model.add(Dropout(0.2))\n",
    "\n",
    "    model.add(Conv2D(256, kernel_size=(3,3), padding='same', activation='relu'))\n",
    "    model.add(MaxPooling2D(pool_size=(2,2)))\n",
    "    model.add(Dropout(0.2))\n",
    "\n",
    "    model.add(Flatten())\n",
    "    model.add(Dense(256, activation='relu'))\n",
    "    model.add(Dropout(0.2))\n",
    "    model.add(Dense(18, activation='softmax'))\n",
    "    \n",
    "      # Compile the model\n",
    "    model.compile(loss=loss_function,\n",
    "                optimizer=optimizer,\n",
    "                metrics=['accuracy'])"
   ]
  },
  {
   "cell_type": "code",
   "execution_count": null,
   "id": "a0c84478",
   "metadata": {},
   "outputs": [],
   "source": [
    "# Fit data to model\n",
    "history = model.fit(inputs[train], targets[train],\n",
    "              batch_size=batch_size,\n",
    "              epochs=no_epochs,\n",
    "              verbose=verbosity)"
   ]
  },
  {
   "cell_type": "code",
   "execution_count": null,
   "id": "f5b3fd9d",
   "metadata": {},
   "outputs": [],
   "source": [
    "model.summary()"
   ]
  }
 ],
 "metadata": {
  "kernelspec": {
   "display_name": "Python 3 (ipykernel)",
   "language": "python",
   "name": "python3"
  },
  "language_info": {
   "codemirror_mode": {
    "name": "ipython",
    "version": 3
   },
   "file_extension": ".py",
   "mimetype": "text/x-python",
   "name": "python",
   "nbconvert_exporter": "python",
   "pygments_lexer": "ipython3",
   "version": "3.9.13"
  },
  "toc": {
   "base_numbering": 1,
   "nav_menu": {},
   "number_sections": true,
   "sideBar": true,
   "skip_h1_title": false,
   "title_cell": "Table of Contents",
   "title_sidebar": "Contents",
   "toc_cell": false,
   "toc_position": {},
   "toc_section_display": true,
   "toc_window_display": false
  }
 },
 "nbformat": 4,
 "nbformat_minor": 5
}
