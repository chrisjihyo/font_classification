{
  "nbformat": 4,
  "nbformat_minor": 0,
  "metadata": {
    "colab": {
      "provenance": [],
      "gpuType": "T4"
    },
    "kernelspec": {
      "name": "python3",
      "display_name": "Python 3"
    },
    "language_info": {
      "name": "python"
    },
    "accelerator": "GPU"
  },
  "cells": [
    {
      "cell_type": "code",
      "execution_count": 1,
      "metadata": {
        "colab": {
          "base_uri": "https://localhost:8080/"
        },
        "id": "czF-axm5pgEQ",
        "outputId": "08e62126-e110-4e72-9a36-a5250ae37bf3"
      },
      "outputs": [
        {
          "output_type": "stream",
          "name": "stdout",
          "text": [
            "Collecting tensorflow_addons\n",
            "  Downloading tensorflow_addons-0.21.0-cp310-cp310-manylinux_2_17_x86_64.manylinux2014_x86_64.whl (612 kB)\n",
            "\u001b[?25l     \u001b[90m━━━━━━━━━━━━━━━━━━━━━━━━━━━━━━━━━━━━━━━━\u001b[0m \u001b[32m0.0/612.1 kB\u001b[0m \u001b[31m?\u001b[0m eta \u001b[36m-:--:--\u001b[0m\r\u001b[2K     \u001b[91m━━━━\u001b[0m\u001b[90m╺\u001b[0m\u001b[90m━━━━━━━━━━━━━━━━━━━━━━━━━━━━━━━━━━━\u001b[0m \u001b[32m61.4/612.1 kB\u001b[0m \u001b[31m1.9 MB/s\u001b[0m eta \u001b[36m0:00:01\u001b[0m\r\u001b[2K     \u001b[90m━━━━━━━━━━━━━━━━━━━━━━━━━━━━━━━━━━━━━━━\u001b[0m \u001b[32m612.1/612.1 kB\u001b[0m \u001b[31m9.5 MB/s\u001b[0m eta \u001b[36m0:00:00\u001b[0m\n",
            "\u001b[?25hRequirement already satisfied: packaging in /usr/local/lib/python3.10/dist-packages (from tensorflow_addons) (23.1)\n",
            "Collecting typeguard<3.0.0,>=2.7 (from tensorflow_addons)\n",
            "  Downloading typeguard-2.13.3-py3-none-any.whl (17 kB)\n",
            "Installing collected packages: typeguard, tensorflow_addons\n",
            "Successfully installed tensorflow_addons-0.21.0 typeguard-2.13.3\n"
          ]
        }
      ],
      "source": [
        "pip install tensorflow_addons"
      ]
    },
    {
      "cell_type": "code",
      "source": [
        "import tensorflow\n",
        "from tensorflow.keras.activations import gelu\n",
        "import tensorflow_addons as tfa\n",
        "from typing import List, Tuple"
      ],
      "metadata": {
        "colab": {
          "base_uri": "https://localhost:8080/"
        },
        "id": "bzbbKBaQpg4e",
        "outputId": "b08e43f4-74e9-4d96-cbcb-9f3d0a7f575d"
      },
      "execution_count": 2,
      "outputs": [
        {
          "output_type": "stream",
          "name": "stderr",
          "text": [
            "/usr/local/lib/python3.10/dist-packages/tensorflow_addons/utils/tfa_eol_msg.py:23: UserWarning: \n",
            "\n",
            "TensorFlow Addons (TFA) has ended development and introduction of new features.\n",
            "TFA has entered a minimal maintenance and release mode until a planned end of life in May 2024.\n",
            "Please modify downstream libraries to take dependencies from other repositories in our TensorFlow community (e.g. Keras, Keras-CV, and Keras-NLP). \n",
            "\n",
            "For more information see: https://github.com/tensorflow/addons/issues/2807 \n",
            "\n",
            "  warnings.warn(\n"
          ]
        }
      ]
    },
    {
      "cell_type": "code",
      "source": [
        "# MultiHeadAttention 정의\n",
        "\n",
        "class MultiHeadedAttention(tensorflow.keras.Model):\n",
        "    def __init__(self, dimension: int, heads: int = 8):\n",
        "        super(MultiHeadedAttention, self).__init__()\n",
        "        self.heads = heads\n",
        "        self.dimension = dimension\n",
        "        assert dimension // heads\n",
        "        self.depth = dimension // heads\n",
        "        self.wq = tensorflow.keras.layers.Dense(dimension)\n",
        "        self.wk = tensorflow.keras.layers.Dense(dimension)\n",
        "        self.wv = tensorflow.keras.layers.Dense(dimension)\n",
        "        self.dense = tensorflow.keras.layers.Dense(dimension)\n",
        "\n",
        "    def call(self, inputs):\n",
        "        output = None\n",
        "        batch_size = tensorflow.shape(inputs)[0]\n",
        "        q: tensorflow.Tensor = self.wq(inputs)\n",
        "        k: tensorflow.Tensor = self.wk(inputs)\n",
        "        v: tensorflow.Tensor = self.wv(inputs)\n",
        "\n",
        "        def split_heads(x, batch_size):\n",
        "            x = tensorflow.reshape(x, (batch_size, -1, self.heads, self.depth))\n",
        "            return tensorflow.transpose(x, perm=[0,2,1,3])\n",
        "\n",
        "        q = split_heads(q, batch_size)\n",
        "        k = split_heads(k, batch_size)\n",
        "        v = split_heads(v, batch_size)\n",
        "\n",
        "        def scaled_dot_product_attention(q,k,v):\n",
        "            matmul_qk = tensorflow.matmul(q, k, transpose_b = True)\n",
        "            dk = tensorflow.cast(tensorflow.shape(k)[-1], tensorflow.float32)\n",
        "            scaled_attention_logits = matmul_qk / tensorflow.math.sqrt(dk)\n",
        "\n",
        "            softmax = tensorflow.nn.softmax(scaled_attention_logits, axis=-1)\n",
        "            scaled_dot_product_attention_output = tensorflow.matmul(softmax, v)\n",
        "            return scaled_dot_product_attention_output, softmax\n",
        "\n",
        "        attention_weights, softmax = scaled_dot_product_attention(q, k, v)\n",
        "        scaled_attention = tensorflow.transpose(attention_weights, perm=[0,2,1,3])\n",
        "        concat_attention = tensorflow.reshape(scaled_attention, (batch_size, -1, self.dimension))\n",
        "        output = self.dense(concat_attention)\n",
        "        return output"
      ],
      "metadata": {
        "id": "6CZkipz2pg6c"
      },
      "execution_count": 3,
      "outputs": []
    },
    {
      "cell_type": "code",
      "source": [
        "# ResidualBlock 정의\n",
        "\n",
        "class ResidualBlock(tensorflow.keras.Model):\n",
        "    def __init__(self, residual_function):\n",
        "        super(ResidualBlock, self).__init__()\n",
        "        self.residual_function = residual_function\n",
        "\n",
        "    def call(self, inputs):\n",
        "        return self.residual_function(inputs) + inputs"
      ],
      "metadata": {
        "id": "nFhgkBg9pg8S"
      },
      "execution_count": 4,
      "outputs": []
    },
    {
      "cell_type": "code",
      "source": [
        "# LayerNormalization 정의\n",
        "\n",
        "class NormalizationBlock(tensorflow.keras.Model):\n",
        "    def __init__(self, norm_function, epsilon=1e-5):\n",
        "        super(NormalizationBlock, self).__init__()\n",
        "        self.norm_function = norm_function\n",
        "        self.normalize = tensorflow.keras.layers.LayerNormalization(epsilon=1e-6)\n",
        "\n",
        "    def call(self, inputs):\n",
        "        return self.norm_function(self.normalize(inputs))"
      ],
      "metadata": {
        "id": "lv8NUhHspk86"
      },
      "execution_count": 5,
      "outputs": []
    },
    {
      "cell_type": "code",
      "source": [
        "# MLP BLOCK 정의\n",
        "\n",
        "class MLPBlock(tensorflow.keras.Model):\n",
        "    def __init__(self, output_dimension, hidden_dimension):\n",
        "        super(MLPBlock, self).__init__()\n",
        "        self.output_dimension = tensorflow.keras.layers.Dense(output_dimension)\n",
        "        self.hidden_dimension = tensorflow.keras.layers.Dense(hidden_dimension)\n",
        "        self.dropout1 = tensorflow.keras.layers.Dropout(0.1)\n",
        "        self.dropout2 = tensorflow.keras.layers.Dropout(0.1)\n",
        "\n",
        "    def call(self, inputs):\n",
        "        output = None\n",
        "        x = self.hidden_dimension(inputs)\n",
        "        x = gelu(x)\n",
        "        x = self.dropout1(x)\n",
        "        x = self.output_dimension(x)\n",
        "        x = gelu(x)\n",
        "        output = self.dropout2(x)\n",
        "        return output"
      ],
      "metadata": {
        "id": "_yQp4wz3pk_B"
      },
      "execution_count": 6,
      "outputs": []
    },
    {
      "cell_type": "code",
      "source": [
        "# 트랜스포머 인코더 정의\n",
        "\n",
        "class TransformerEncoder(tensorflow.keras.layers.Layer):\n",
        "    def __init__(self, dimension, depth, heads, mlp_dimension):\n",
        "        super(TransformerEncoder, self).__init__()\n",
        "        layers_ = []\n",
        "        layers_.append(tensorflow.keras.Input(shape=((CFG.obj_image_size//CFG.patch_size)*(CFG.obj_image_size//CFG.patch_size)+1,dimension)))\n",
        "        for i in range(depth):\n",
        "            layers_.append(NormalizationBlock(ResidualBlock(MultiHeadedAttention(dimension, heads))))\n",
        "            layers_.append(NormalizationBlock(ResidualBlock(MLPBlock(dimension, mlp_dimension))))\n",
        "\n",
        "        self.layers_ = tensorflow.keras.Sequential(layers_)\n",
        "\n",
        "    def call(self, inputs):\n",
        "        return self.layers_(inputs)"
      ],
      "metadata": {
        "id": "bhFjfKrcplBH"
      },
      "execution_count": 7,
      "outputs": []
    },
    {
      "cell_type": "code",
      "source": [
        "# VIT 전체 구현\n",
        "\n",
        "class ImageTransformer(tensorflow.keras.Model):\n",
        "    def __init__(\n",
        "            self, image_size, patch_size, n_classes, batch_size,\n",
        "            dimension, depth, heads, mlp_dimension, channels=3):\n",
        "        super(ImageTransformer, self).__init__()\n",
        "        assert image_size % patch_size == 0, 'invalid patch size for image size'\n",
        "\n",
        "        num_patches = (image_size // patch_size) ** 2\n",
        "        self.patch_size = patch_size\n",
        "        self.dimension = dimension\n",
        "        self.batch_size = batch_size\n",
        "\n",
        "        self.positional_embedding = self.add_weight(\n",
        "            \"position_embeddings\", shape=[num_patches + 1, dimension],\n",
        "            initializer=tensorflow.keras.initializers.RandomNormal(), dtype=tensorflow.float32\n",
        "        )\n",
        "        self.classification_token = self.add_weight(\n",
        "            \"classification_token\", shape=[1, 1, dimension],\n",
        "            initializer=tensorflow.keras.initializers.RandomNormal(), dtype=tensorflow.float32\n",
        "        )\n",
        "        self.heads = heads\n",
        "        self.depth = depth\n",
        "        self.mlp_dimension = dimension\n",
        "        self.n_classes = n_classes\n",
        "        self.num_patches = num_patches\n",
        "\n",
        "        self.patch_projection = tensorflow.keras.layers.Dense(dimension)\n",
        "        self.normalization2 = tensorflow.keras.layers.LayerNormalization(epsilon=1e-6)\n",
        "        self.MLP = MLPBlock(self.dimension, self.mlp_dimension)\n",
        "        self.output_classes = tensorflow.keras.layers.Dense(self.n_classes)\n",
        "        self.transformer = TransformerEncoder(self.dimension, self.depth, self.heads, self.mlp_dimension)\n",
        "        self.dropout1 = tensorflow.keras.layers.Dropout(0.5)\n",
        "\n",
        "    def call(self, inputs):\n",
        "        output = None\n",
        "        batch_size = tensorflow.shape(inputs)[0]\n",
        "\n",
        "        # 이미지를 patch_size로 조각낸다.\n",
        "        patches = tensorflow.image.extract_patches(\n",
        "            images = inputs,\n",
        "            sizes = [1, self.patch_size, self.patch_size, 1],\n",
        "            strides = [1, self.patch_size, self.patch_size, 1],\n",
        "            rates = [1,1,1,1],\n",
        "            padding=\"VALID\",\n",
        "        )\n",
        "\n",
        "        patch_dims = patches.shape[-1]\n",
        "        patches = tensorflow.reshape(patches, [batch_size, patches.shape[1]*patches.shape[2], patch_dims])\n",
        "        x = self.patch_projection(patches)\n",
        "\n",
        "        cls_pos = tensorflow.broadcast_to(\n",
        "            self.classification_token, [batch_size, 1, self.dimension]\n",
        "        )\n",
        "        x = tensorflow.concat([cls_pos, x], axis=1)\n",
        "        x = x + self.positional_embedding\n",
        "        x = self.transformer(x)\n",
        "        x = self.normalization2(x)\n",
        "        x = x[:,0,:]\n",
        "        x_keep = tensorflow.identity(x)\n",
        "        x = self.dropout1(x)\n",
        "        output = self.output_classes(x)\n",
        "        return output"
      ],
      "metadata": {
        "id": "yAQ2b60YpzFq"
      },
      "execution_count": 8,
      "outputs": []
    },
    {
      "cell_type": "code",
      "source": [
        "from google.colab import drive\n",
        "drive.mount('/content/drive')"
      ],
      "metadata": {
        "colab": {
          "base_uri": "https://localhost:8080/"
        },
        "id": "ZA_qlAHRpzHv",
        "outputId": "20e0817d-d239-4149-d6eb-fa643883d537"
      },
      "execution_count": 9,
      "outputs": [
        {
          "output_type": "stream",
          "name": "stdout",
          "text": [
            "Mounted at /content/drive\n"
          ]
        }
      ]
    },
    {
      "cell_type": "code",
      "source": [
        "import os\n",
        "import cv2\n",
        "import numpy as np\n",
        "from sklearn.model_selection import train_test_split\n",
        "\n",
        "# 데이터 경로 설정\n",
        "train_dir = \"/content/drive/MyDrive/font_train_test_9/train\"\n",
        "test_dir = \"/content/drive/MyDrive/font_train_test_9/test\""
      ],
      "metadata": {
        "id": "taNBUsHtp1y3"
      },
      "execution_count": 10,
      "outputs": []
    },
    {
      "cell_type": "code",
      "source": [
        "def load_images_and_labels(root_dir, subfolders):\n",
        "    images = []\n",
        "    labels = []\n",
        "    for label, subfolder in enumerate(subfolders):\n",
        "        folder_path = os.path.join(root_dir, subfolder)\n",
        "        for filename in os.listdir(folder_path):\n",
        "            image_path = os.path.join(folder_path, filename)\n",
        "            image = cv2.imread(image_path)\n",
        "            image = cv2.resize(image, (32, 32))  # 이미지 크기 조정\n",
        "            images.append(image)\n",
        "            labels.append(label)\n",
        "    return images, labels\n",
        "\n",
        "labels = ['01', '02', '03', '04', '05', '06', '07', '08', '09']\n",
        "\n",
        "train_images, train_labels = load_images_and_labels(train_dir, labels)\n",
        "test_images, test_labels = load_images_and_labels(test_dir, labels)"
      ],
      "metadata": {
        "id": "BAn3Zfq3p108"
      },
      "execution_count": 11,
      "outputs": []
    },
    {
      "cell_type": "code",
      "source": [
        "train_images = np.array(train_images)\n",
        "train_labels = np.array(train_labels)\n",
        "test_images = np.array(test_images)\n",
        "test_labels = np.array(test_labels)"
      ],
      "metadata": {
        "id": "_sqk2jdZqNW_"
      },
      "execution_count": 12,
      "outputs": []
    },
    {
      "cell_type": "code",
      "source": [
        "class CFG:\n",
        "    num_classes = 10\n",
        "    input_shape = (32, 32, 3)\n",
        "    learning_rate = 0.001\n",
        "    weight_decay = 0.0001\n",
        "    batch_size = 256\n",
        "    num_epochs = 100\n",
        "    image_size = 32\n",
        "    obj_image_size = 32\n",
        "    patch_size = 4\n",
        "    num_patches = (image_size // patch_size) ** 2\n",
        "    projection_dim = 64\n",
        "    num_heads = 8\n",
        "    transformer_layers = 2\n",
        "\n",
        "CFG = CFG()\n",
        "optimizer = tfa.optimizers.AdamW(learning_rate = CFG.learning_rate, weight_decay=CFG.weight_decay)"
      ],
      "metadata": {
        "id": "PWSS3onyqNY3"
      },
      "execution_count": 13,
      "outputs": []
    },
    {
      "cell_type": "code",
      "source": [
        "model_vit = ImageTransformer(CFG.image_size, CFG.patch_size, CFG.num_classes, CFG.batch_size, CFG.projection_dim, CFG.transformer_layers, CFG.num_heads, CFG.projection_dim)\n",
        "model_vit.compile(\n",
        "        optimizer=optimizer,\n",
        "        loss=tensorflow.keras.losses.SparseCategoricalCrossentropy(from_logits=True),\n",
        "        metrics=[tensorflow.keras.metrics.SparseCategoricalAccuracy(name=\"accuracy\")])"
      ],
      "metadata": {
        "id": "LE_KBqZ2qQCJ"
      },
      "execution_count": 14,
      "outputs": []
    },
    {
      "cell_type": "code",
      "source": [
        "results = model_vit.fit(x=train_images, y=train_labels, batch_size=CFG.batch_size, epochs=CFG.num_epochs, validation_data=(test_images, test_labels), shuffle=True)\n",
        "print('==============Training Finished===============')"
      ],
      "metadata": {
        "colab": {
          "base_uri": "https://localhost:8080/"
        },
        "id": "oSw0u6djqR0p",
        "outputId": "cbb480cf-af6b-46fb-861d-943763fa2ef8"
      },
      "execution_count": 15,
      "outputs": [
        {
          "output_type": "stream",
          "name": "stdout",
          "text": [
            "Epoch 1/100\n",
            "114/114 [==============================] - 17s 91ms/step - loss: 1.0517 - accuracy: 0.5968 - val_loss: 2.8479 - val_accuracy: 0.5663\n",
            "Epoch 2/100\n",
            "114/114 [==============================] - 8s 71ms/step - loss: 0.2508 - accuracy: 0.9120 - val_loss: 3.0934 - val_accuracy: 0.6110\n",
            "Epoch 3/100\n",
            "114/114 [==============================] - 11s 97ms/step - loss: 0.1490 - accuracy: 0.9508 - val_loss: 3.1735 - val_accuracy: 0.6280\n",
            "Epoch 4/100\n",
            "114/114 [==============================] - 11s 98ms/step - loss: 0.1138 - accuracy: 0.9617 - val_loss: 3.2925 - val_accuracy: 0.6330\n",
            "Epoch 5/100\n",
            "114/114 [==============================] - 9s 80ms/step - loss: 0.0842 - accuracy: 0.9727 - val_loss: 3.3136 - val_accuracy: 0.6367\n",
            "Epoch 6/100\n",
            "114/114 [==============================] - 10s 89ms/step - loss: 0.0794 - accuracy: 0.9738 - val_loss: 3.3418 - val_accuracy: 0.6458\n",
            "Epoch 7/100\n",
            "114/114 [==============================] - 10s 87ms/step - loss: 0.0645 - accuracy: 0.9790 - val_loss: 3.4284 - val_accuracy: 0.6322\n",
            "Epoch 8/100\n",
            "114/114 [==============================] - 11s 100ms/step - loss: 0.0526 - accuracy: 0.9833 - val_loss: 3.4577 - val_accuracy: 0.6468\n",
            "Epoch 9/100\n",
            "114/114 [==============================] - 10s 88ms/step - loss: 0.0525 - accuracy: 0.9825 - val_loss: 3.5305 - val_accuracy: 0.6383\n",
            "Epoch 10/100\n",
            "114/114 [==============================] - 10s 88ms/step - loss: 0.0472 - accuracy: 0.9853 - val_loss: 3.5922 - val_accuracy: 0.6200\n",
            "Epoch 11/100\n",
            "114/114 [==============================] - 9s 81ms/step - loss: 0.0622 - accuracy: 0.9803 - val_loss: 3.5225 - val_accuracy: 0.6478\n",
            "Epoch 12/100\n",
            "114/114 [==============================] - 10s 88ms/step - loss: 0.0357 - accuracy: 0.9884 - val_loss: 3.5612 - val_accuracy: 0.6509\n",
            "Epoch 13/100\n",
            "114/114 [==============================] - 8s 69ms/step - loss: 0.0302 - accuracy: 0.9912 - val_loss: 3.5542 - val_accuracy: 0.6505\n",
            "Epoch 14/100\n",
            "114/114 [==============================] - 9s 80ms/step - loss: 0.0285 - accuracy: 0.9915 - val_loss: 3.5436 - val_accuracy: 0.6492\n",
            "Epoch 15/100\n",
            "114/114 [==============================] - 9s 75ms/step - loss: 0.0315 - accuracy: 0.9902 - val_loss: 3.5655 - val_accuracy: 0.6575\n",
            "Epoch 16/100\n",
            "114/114 [==============================] - 11s 93ms/step - loss: 0.0330 - accuracy: 0.9896 - val_loss: 3.5957 - val_accuracy: 0.6540\n",
            "Epoch 17/100\n",
            "114/114 [==============================] - 9s 79ms/step - loss: 0.0212 - accuracy: 0.9938 - val_loss: 3.6508 - val_accuracy: 0.6490\n",
            "Epoch 18/100\n",
            "114/114 [==============================] - 10s 88ms/step - loss: 0.0212 - accuracy: 0.9936 - val_loss: 3.7018 - val_accuracy: 0.6526\n",
            "Epoch 19/100\n",
            "114/114 [==============================] - 8s 69ms/step - loss: 0.0282 - accuracy: 0.9910 - val_loss: 3.6398 - val_accuracy: 0.6500\n",
            "Epoch 20/100\n",
            "114/114 [==============================] - 11s 99ms/step - loss: 0.0181 - accuracy: 0.9946 - val_loss: 3.7375 - val_accuracy: 0.6550\n",
            "Epoch 21/100\n",
            "114/114 [==============================] - 9s 82ms/step - loss: 0.0255 - accuracy: 0.9918 - val_loss: 3.6115 - val_accuracy: 0.6584\n",
            "Epoch 22/100\n",
            "114/114 [==============================] - 10s 88ms/step - loss: 0.0154 - accuracy: 0.9953 - val_loss: 3.7485 - val_accuracy: 0.6511\n",
            "Epoch 23/100\n",
            "114/114 [==============================] - 9s 79ms/step - loss: 0.0218 - accuracy: 0.9933 - val_loss: 3.7706 - val_accuracy: 0.6566\n",
            "Epoch 24/100\n",
            "114/114 [==============================] - 10s 88ms/step - loss: 0.0208 - accuracy: 0.9935 - val_loss: 3.7356 - val_accuracy: 0.6523\n",
            "Epoch 25/100\n",
            "114/114 [==============================] - 10s 89ms/step - loss: 0.0217 - accuracy: 0.9930 - val_loss: 3.6700 - val_accuracy: 0.6531\n",
            "Epoch 26/100\n",
            "114/114 [==============================] - 8s 75ms/step - loss: 0.0206 - accuracy: 0.9936 - val_loss: 3.8208 - val_accuracy: 0.6559\n",
            "Epoch 27/100\n",
            "114/114 [==============================] - 9s 81ms/step - loss: 0.0145 - accuracy: 0.9955 - val_loss: 3.7494 - val_accuracy: 0.6585\n",
            "Epoch 28/100\n",
            "114/114 [==============================] - 8s 69ms/step - loss: 0.0148 - accuracy: 0.9959 - val_loss: 3.8751 - val_accuracy: 0.6265\n",
            "Epoch 29/100\n",
            "114/114 [==============================] - 9s 80ms/step - loss: 0.0191 - accuracy: 0.9935 - val_loss: 3.8447 - val_accuracy: 0.6461\n",
            "Epoch 30/100\n",
            "114/114 [==============================] - 11s 93ms/step - loss: 0.0124 - accuracy: 0.9961 - val_loss: 3.8142 - val_accuracy: 0.6579\n",
            "Epoch 31/100\n",
            "114/114 [==============================] - 10s 88ms/step - loss: 0.0141 - accuracy: 0.9954 - val_loss: 3.8046 - val_accuracy: 0.6493\n",
            "Epoch 32/100\n",
            "114/114 [==============================] - 9s 78ms/step - loss: 0.0114 - accuracy: 0.9968 - val_loss: 3.8198 - val_accuracy: 0.6603\n",
            "Epoch 33/100\n",
            "114/114 [==============================] - 10s 90ms/step - loss: 0.0131 - accuracy: 0.9963 - val_loss: 3.8315 - val_accuracy: 0.6577\n",
            "Epoch 34/100\n",
            "114/114 [==============================] - 10s 88ms/step - loss: 0.0166 - accuracy: 0.9951 - val_loss: 3.8371 - val_accuracy: 0.6539\n",
            "Epoch 35/100\n",
            "114/114 [==============================] - 8s 71ms/step - loss: 0.0104 - accuracy: 0.9969 - val_loss: 3.9513 - val_accuracy: 0.6466\n",
            "Epoch 36/100\n",
            "114/114 [==============================] - 9s 80ms/step - loss: 0.0136 - accuracy: 0.9958 - val_loss: 3.8695 - val_accuracy: 0.6584\n",
            "Epoch 37/100\n",
            "114/114 [==============================] - 10s 88ms/step - loss: 0.0089 - accuracy: 0.9972 - val_loss: 3.9708 - val_accuracy: 0.6513\n",
            "Epoch 38/100\n",
            "114/114 [==============================] - 10s 89ms/step - loss: 0.0186 - accuracy: 0.9939 - val_loss: 3.8889 - val_accuracy: 0.6595\n",
            "Epoch 39/100\n",
            "114/114 [==============================] - 11s 100ms/step - loss: 0.0143 - accuracy: 0.9956 - val_loss: 3.9607 - val_accuracy: 0.6555\n",
            "Epoch 40/100\n",
            "114/114 [==============================] - 9s 82ms/step - loss: 0.0120 - accuracy: 0.9961 - val_loss: 3.9170 - val_accuracy: 0.6493\n",
            "Epoch 41/100\n",
            "114/114 [==============================] - 8s 68ms/step - loss: 0.0154 - accuracy: 0.9949 - val_loss: 3.9267 - val_accuracy: 0.6622\n",
            "Epoch 42/100\n",
            "114/114 [==============================] - 11s 99ms/step - loss: 0.0083 - accuracy: 0.9975 - val_loss: 4.0569 - val_accuracy: 0.6503\n",
            "Epoch 43/100\n",
            "114/114 [==============================] - 9s 81ms/step - loss: 0.0150 - accuracy: 0.9950 - val_loss: 3.9532 - val_accuracy: 0.6565\n",
            "Epoch 44/100\n",
            "114/114 [==============================] - 8s 68ms/step - loss: 0.0121 - accuracy: 0.9963 - val_loss: 3.9073 - val_accuracy: 0.6608\n",
            "Epoch 45/100\n",
            "114/114 [==============================] - 9s 79ms/step - loss: 0.0088 - accuracy: 0.9970 - val_loss: 4.0170 - val_accuracy: 0.6602\n",
            "Epoch 46/100\n",
            "114/114 [==============================] - 10s 87ms/step - loss: 0.0148 - accuracy: 0.9952 - val_loss: 3.9850 - val_accuracy: 0.6522\n",
            "Epoch 47/100\n",
            "114/114 [==============================] - 8s 69ms/step - loss: 0.0149 - accuracy: 0.9956 - val_loss: 4.0079 - val_accuracy: 0.6534\n",
            "Epoch 48/100\n",
            "114/114 [==============================] - 11s 99ms/step - loss: 0.0100 - accuracy: 0.9970 - val_loss: 4.0397 - val_accuracy: 0.6585\n",
            "Epoch 49/100\n",
            "114/114 [==============================] - 9s 81ms/step - loss: 0.0105 - accuracy: 0.9965 - val_loss: 4.0720 - val_accuracy: 0.6596\n",
            "Epoch 50/100\n",
            "114/114 [==============================] - 8s 69ms/step - loss: 0.0096 - accuracy: 0.9971 - val_loss: 4.0246 - val_accuracy: 0.6598\n",
            "Epoch 51/100\n",
            "114/114 [==============================] - 9s 78ms/step - loss: 0.0123 - accuracy: 0.9965 - val_loss: 4.1586 - val_accuracy: 0.6556\n",
            "Epoch 52/100\n",
            "114/114 [==============================] - 10s 88ms/step - loss: 0.0088 - accuracy: 0.9974 - val_loss: 4.1029 - val_accuracy: 0.6531\n",
            "Epoch 53/100\n",
            "114/114 [==============================] - 9s 79ms/step - loss: 0.0107 - accuracy: 0.9970 - val_loss: 4.0801 - val_accuracy: 0.6567\n",
            "Epoch 54/100\n",
            "114/114 [==============================] - 9s 80ms/step - loss: 0.0114 - accuracy: 0.9965 - val_loss: 4.1012 - val_accuracy: 0.6579\n",
            "Epoch 55/100\n",
            "114/114 [==============================] - 8s 68ms/step - loss: 0.0067 - accuracy: 0.9979 - val_loss: 4.1875 - val_accuracy: 0.6594\n",
            "Epoch 56/100\n",
            "114/114 [==============================] - 9s 79ms/step - loss: 0.0093 - accuracy: 0.9971 - val_loss: 4.1168 - val_accuracy: 0.6533\n",
            "Epoch 57/100\n",
            "114/114 [==============================] - 10s 87ms/step - loss: 0.0159 - accuracy: 0.9946 - val_loss: 4.0566 - val_accuracy: 0.6546\n",
            "Epoch 58/100\n",
            "114/114 [==============================] - 10s 88ms/step - loss: 0.0087 - accuracy: 0.9975 - val_loss: 4.1509 - val_accuracy: 0.6594\n",
            "Epoch 59/100\n",
            "114/114 [==============================] - 11s 96ms/step - loss: 0.0108 - accuracy: 0.9965 - val_loss: 4.2124 - val_accuracy: 0.6583\n",
            "Epoch 60/100\n",
            "114/114 [==============================] - 9s 80ms/step - loss: 0.0196 - accuracy: 0.9939 - val_loss: 4.0635 - val_accuracy: 0.6594\n",
            "Epoch 61/100\n",
            "114/114 [==============================] - 8s 71ms/step - loss: 0.0083 - accuracy: 0.9975 - val_loss: 4.1085 - val_accuracy: 0.6623\n",
            "Epoch 62/100\n",
            "114/114 [==============================] - 11s 98ms/step - loss: 0.0071 - accuracy: 0.9980 - val_loss: 4.1746 - val_accuracy: 0.6603\n",
            "Epoch 63/100\n",
            "114/114 [==============================] - 11s 97ms/step - loss: 0.0034 - accuracy: 0.9992 - val_loss: 4.3527 - val_accuracy: 0.6575\n",
            "Epoch 64/100\n",
            "114/114 [==============================] - 9s 79ms/step - loss: 0.0072 - accuracy: 0.9979 - val_loss: 4.2261 - val_accuracy: 0.6581\n",
            "Epoch 65/100\n",
            "114/114 [==============================] - 10s 89ms/step - loss: 0.0093 - accuracy: 0.9970 - val_loss: 4.1890 - val_accuracy: 0.6562\n",
            "Epoch 66/100\n",
            "114/114 [==============================] - 9s 79ms/step - loss: 0.0130 - accuracy: 0.9959 - val_loss: 4.2117 - val_accuracy: 0.6601\n",
            "Epoch 67/100\n",
            "114/114 [==============================] - 10s 87ms/step - loss: 0.0107 - accuracy: 0.9966 - val_loss: 4.4366 - val_accuracy: 0.6522\n",
            "Epoch 68/100\n",
            "114/114 [==============================] - 8s 68ms/step - loss: 0.0089 - accuracy: 0.9974 - val_loss: 4.2342 - val_accuracy: 0.6537\n",
            "Epoch 69/100\n",
            "114/114 [==============================] - 9s 78ms/step - loss: 0.0163 - accuracy: 0.9950 - val_loss: 4.2023 - val_accuracy: 0.6580\n",
            "Epoch 70/100\n",
            "114/114 [==============================] - 8s 70ms/step - loss: 0.0052 - accuracy: 0.9984 - val_loss: 4.3314 - val_accuracy: 0.6570\n",
            "Epoch 71/100\n",
            "114/114 [==============================] - 9s 77ms/step - loss: 0.0038 - accuracy: 0.9989 - val_loss: 4.3717 - val_accuracy: 0.6584\n",
            "Epoch 72/100\n",
            "114/114 [==============================] - 9s 80ms/step - loss: 0.0198 - accuracy: 0.9943 - val_loss: 4.3402 - val_accuracy: 0.6570\n",
            "Epoch 73/100\n",
            "114/114 [==============================] - 10s 88ms/step - loss: 0.0072 - accuracy: 0.9980 - val_loss: 4.3820 - val_accuracy: 0.6566\n",
            "Epoch 74/100\n",
            "114/114 [==============================] - 11s 96ms/step - loss: 0.0058 - accuracy: 0.9983 - val_loss: 4.3779 - val_accuracy: 0.6596\n",
            "Epoch 75/100\n",
            "114/114 [==============================] - 11s 95ms/step - loss: 0.0056 - accuracy: 0.9983 - val_loss: 4.3632 - val_accuracy: 0.6601\n",
            "Epoch 76/100\n",
            "114/114 [==============================] - 8s 68ms/step - loss: 0.0119 - accuracy: 0.9964 - val_loss: 4.3783 - val_accuracy: 0.6609\n",
            "Epoch 77/100\n",
            "114/114 [==============================] - 11s 98ms/step - loss: 0.0052 - accuracy: 0.9983 - val_loss: 4.5137 - val_accuracy: 0.6606\n",
            "Epoch 78/100\n",
            "114/114 [==============================] - 9s 81ms/step - loss: 0.0093 - accuracy: 0.9967 - val_loss: 4.5305 - val_accuracy: 0.6616\n",
            "Epoch 79/100\n",
            "114/114 [==============================] - 8s 68ms/step - loss: 0.0083 - accuracy: 0.9971 - val_loss: 4.5948 - val_accuracy: 0.6553\n",
            "Epoch 80/100\n",
            "114/114 [==============================] - 9s 79ms/step - loss: 0.0141 - accuracy: 0.9956 - val_loss: 4.4932 - val_accuracy: 0.6578\n",
            "Epoch 81/100\n",
            "114/114 [==============================] - 10s 87ms/step - loss: 0.0113 - accuracy: 0.9964 - val_loss: 4.4890 - val_accuracy: 0.6582\n",
            "Epoch 82/100\n",
            "114/114 [==============================] - 8s 68ms/step - loss: 0.0051 - accuracy: 0.9986 - val_loss: 4.4624 - val_accuracy: 0.6576\n",
            "Epoch 83/100\n",
            "114/114 [==============================] - 9s 79ms/step - loss: 0.0053 - accuracy: 0.9982 - val_loss: 4.6048 - val_accuracy: 0.6593\n",
            "Epoch 84/100\n",
            "114/114 [==============================] - 10s 87ms/step - loss: 0.0050 - accuracy: 0.9985 - val_loss: 4.5747 - val_accuracy: 0.6591\n",
            "Epoch 85/100\n",
            "114/114 [==============================] - 8s 68ms/step - loss: 0.0050 - accuracy: 0.9985 - val_loss: 4.6219 - val_accuracy: 0.6582\n",
            "Epoch 86/100\n",
            "114/114 [==============================] - 9s 80ms/step - loss: 0.0135 - accuracy: 0.9955 - val_loss: 4.5900 - val_accuracy: 0.6491\n",
            "Epoch 87/100\n",
            "114/114 [==============================] - 10s 87ms/step - loss: 0.0205 - accuracy: 0.9933 - val_loss: 4.6650 - val_accuracy: 0.6491\n",
            "Epoch 88/100\n",
            "114/114 [==============================] - 8s 68ms/step - loss: 0.0083 - accuracy: 0.9977 - val_loss: 4.5638 - val_accuracy: 0.6537\n",
            "Epoch 89/100\n",
            "114/114 [==============================] - 9s 80ms/step - loss: 0.0129 - accuracy: 0.9959 - val_loss: 4.6136 - val_accuracy: 0.6566\n",
            "Epoch 90/100\n",
            "114/114 [==============================] - 8s 68ms/step - loss: 0.0051 - accuracy: 0.9982 - val_loss: 4.6455 - val_accuracy: 0.6535\n",
            "Epoch 91/100\n",
            "114/114 [==============================] - 11s 99ms/step - loss: 0.0038 - accuracy: 0.9991 - val_loss: 4.6488 - val_accuracy: 0.6617\n",
            "Epoch 92/100\n",
            "114/114 [==============================] - 9s 81ms/step - loss: 0.0013 - accuracy: 0.9998 - val_loss: 4.7199 - val_accuracy: 0.6602\n",
            "Epoch 93/100\n",
            "114/114 [==============================] - 8s 68ms/step - loss: 0.0084 - accuracy: 0.9975 - val_loss: 4.6977 - val_accuracy: 0.6599\n",
            "Epoch 94/100\n",
            "114/114 [==============================] - 9s 79ms/step - loss: 0.0132 - accuracy: 0.9952 - val_loss: 4.7448 - val_accuracy: 0.6486\n",
            "Epoch 95/100\n",
            "114/114 [==============================] - 9s 77ms/step - loss: 0.0083 - accuracy: 0.9976 - val_loss: 4.5179 - val_accuracy: 0.6597\n",
            "Epoch 96/100\n",
            "114/114 [==============================] - 8s 71ms/step - loss: 0.0052 - accuracy: 0.9986 - val_loss: 4.5895 - val_accuracy: 0.6584\n",
            "Epoch 97/100\n",
            "114/114 [==============================] - 11s 95ms/step - loss: 0.0091 - accuracy: 0.9973 - val_loss: 4.5735 - val_accuracy: 0.6603\n",
            "Epoch 98/100\n",
            "114/114 [==============================] - 9s 76ms/step - loss: 0.0110 - accuracy: 0.9964 - val_loss: 4.5291 - val_accuracy: 0.6502\n",
            "Epoch 99/100\n",
            "114/114 [==============================] - 10s 86ms/step - loss: 0.0404 - accuracy: 0.9883 - val_loss: 4.5912 - val_accuracy: 0.6567\n",
            "Epoch 100/100\n",
            "114/114 [==============================] - 9s 81ms/step - loss: 0.0039 - accuracy: 0.9992 - val_loss: 4.6031 - val_accuracy: 0.6599\n",
            "==============Training Finished===============\n"
          ]
        }
      ]
    },
    {
      "cell_type": "code",
      "source": [
        "loss, accuracy = model_vit.evaluate(test_images, test_labels)\n",
        "print(f\"테스트 데이터셋 손실: {loss:.4f}, 정확도: {accuracy:.4f}\")"
      ],
      "metadata": {
        "colab": {
          "base_uri": "https://localhost:8080/"
        },
        "id": "KMzPOsS2qUwc",
        "outputId": "daf65718-749f-4373-deb2-9975c93c86b0"
      },
      "execution_count": 16,
      "outputs": [
        {
          "output_type": "stream",
          "name": "stdout",
          "text": [
            "943/943 [==============================] - 10s 11ms/step - loss: 4.6031 - accuracy: 0.6599\n",
            "테스트 데이터셋 손실: 4.6031, 정확도: 0.6599\n"
          ]
        }
      ]
    },
    {
      "cell_type": "code",
      "source": [
        "import matplotlib.pyplot as plt\n",
        "\n",
        "# summarize history for accuracy\n",
        "plt.plot(results.history['accuracy'])\n",
        "plt.title('model accuracy')\n",
        "plt.ylabel('accuracy')\n",
        "plt.xlabel('epoch')\n",
        "plt.legend(['train', 'test'], loc='upper left')\n",
        "plt.show()\n",
        "\n",
        "# summarize history for loss\n",
        "plt.plot(results.history['loss'])\n",
        "plt.title('model loss')\n",
        "plt.ylabel('loss')\n",
        "plt.xlabel('epoch')\n",
        "plt.legend(['train', 'test'], loc='upper left')\n",
        "plt.show()"
      ],
      "metadata": {
        "colab": {
          "base_uri": "https://localhost:8080/",
          "height": 927
        },
        "id": "frGDoIMnqUyz",
        "outputId": "12fb7c24-2506-4f40-89f6-0a7f4668155d"
      },
      "execution_count": 17,
      "outputs": [
        {
          "output_type": "display_data",
          "data": {
            "text/plain": [
              "<Figure size 640x480 with 1 Axes>"
            ],
            "image/png": "[encoded data removed]"
          },
          "metadata": {}
        },
        {
          "output_type": "display_data",
          "data": {
            "text/plain": [
              "<Figure size 640x480 with 1 Axes>"
            ],
            "image/png": "[encoded data removed]"
          },
          "metadata": {}
        }
      ]
    }
  ]
}