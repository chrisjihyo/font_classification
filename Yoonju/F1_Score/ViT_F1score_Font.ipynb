{
  "cells": [
    {
      "cell_type": "code",
      "execution_count": null,
      "metadata": {
        "colab": {
          "base_uri": "https://localhost:8080/"
        },
        "id": "5g6WS4pSToRG",
        "outputId": "34f53019-b2b0-41ae-d416-395c2ded45a1"
      },
      "outputs": [
        {
          "output_type": "stream",
          "name": "stdout",
          "text": [
            "Collecting tensorflow_addons\n",
            "  Downloading tensorflow_addons-0.21.0-cp310-cp310-manylinux_2_17_x86_64.manylinux2014_x86_64.whl (612 kB)\n",
            "\u001b[?25l     \u001b[90m━━━━━━━━━━━━━━━━━━━━━━━━━━━━━━━━━━━━━━━━\u001b[0m \u001b[32m0.0/612.1 kB\u001b[0m \u001b[31m?\u001b[0m eta \u001b[36m-:--:--\u001b[0m\r\u001b[2K     \u001b[91m━━━━━━━\u001b[0m\u001b[91m╸\u001b[0m\u001b[90m━━━━━━━━━━━━━━━━━━━━━━━━━━━━━━━\u001b[0m \u001b[32m122.9/612.1 kB\u001b[0m \u001b[31m3.7 MB/s\u001b[0m eta \u001b[36m0:00:01\u001b[0m\r\u001b[2K     \u001b[90m━━━━━━━━━━━━━━━━━━━━━━━━━━━━━━━━━━━━━━\u001b[0m \u001b[32m612.1/612.1 kB\u001b[0m \u001b[31m11.6 MB/s\u001b[0m eta \u001b[36m0:00:00\u001b[0m\n",
            "\u001b[?25hRequirement already satisfied: packaging in /usr/local/lib/python3.10/dist-packages (from tensorflow_addons) (23.1)\n",
            "Collecting typeguard<3.0.0,>=2.7 (from tensorflow_addons)\n",
            "  Downloading typeguard-2.13.3-py3-none-any.whl (17 kB)\n",
            "Installing collected packages: typeguard, tensorflow_addons\n",
            "Successfully installed tensorflow_addons-0.21.0 typeguard-2.13.3\n"
          ]
        }
      ],
      "source": [
        "pip install tensorflow_addons"
      ]
    },
    {
      "cell_type": "code",
      "execution_count": null,
      "metadata": {
        "colab": {
          "base_uri": "https://localhost:8080/"
        },
        "id": "BHnJX7p4Togc",
        "outputId": "73ec586e-500a-4199-bea2-2e25a8dc2482"
      },
      "outputs": [
        {
          "output_type": "stream",
          "name": "stderr",
          "text": [
            "/usr/local/lib/python3.10/dist-packages/tensorflow_addons/utils/tfa_eol_msg.py:23: UserWarning: \n",
            "\n",
            "TensorFlow Addons (TFA) has ended development and introduction of new features.\n",
            "TFA has entered a minimal maintenance and release mode until a planned end of life in May 2024.\n",
            "Please modify downstream libraries to take dependencies from other repositories in our TensorFlow community (e.g. Keras, Keras-CV, and Keras-NLP). \n",
            "\n",
            "For more information see: https://github.com/tensorflow/addons/issues/2807 \n",
            "\n",
            "  warnings.warn(\n"
          ]
        }
      ],
      "source": [
        "import tensorflow\n",
        "from tensorflow.keras.activations import gelu\n",
        "import tensorflow_addons as tfa\n",
        "from typing import List, Tuple"
      ]
    },
    {
      "cell_type": "code",
      "execution_count": null,
      "metadata": {
        "id": "Y28aY0tmTpc3"
      },
      "outputs": [],
      "source": [
        "# MultiHeadaAttention 정의\n",
        "\n",
        "class MultiHeadedAttention(tensorflow.keras.Model):\n",
        "    def __init__(self, dimension: int, heads: int = 8):\n",
        "        super(MultiHeadedAttention, self).__init__()\n",
        "        self.heads = heads\n",
        "        self.dimension = dimension\n",
        "        assert dimension // heads\n",
        "        self.depth = dimension // heads\n",
        "        self.wq = tensorflow.keras.layers.Dense(dimension)\n",
        "        self.wk = tensorflow.keras.layers.Dense(dimension)\n",
        "        self.wv = tensorflow.keras.layers.Dense(dimension)\n",
        "        self.dense = tensorflow.keras.layers.Dense(dimension)\n",
        "\n",
        "    def call(self, inputs):\n",
        "        output = None\n",
        "        batch_size = tensorflow.shape(inputs)[0]\n",
        "        q: tensorflow.Tensor = self.wq(inputs)\n",
        "        k: tensorflow.Tensor = self.wk(inputs)\n",
        "        v: tensorflow.Tensor = self.wv(inputs)\n",
        "\n",
        "        def split_heads(x, batch_size):\n",
        "            x = tensorflow.reshape(x, (batch_size, -1, self.heads, self.depth))\n",
        "            return tensorflow.transpose(x, perm=[0,2,1,3])\n",
        "\n",
        "        q = split_heads(q, batch_size)\n",
        "        k = split_heads(k, batch_size)\n",
        "        v = split_heads(v, batch_size)\n",
        "\n",
        "        def scaled_dot_product_attention(q,k,v):\n",
        "            matmul_qk = tensorflow.matmul(q, k, transpose_b = True)\n",
        "            dk = tensorflow.cast(tensorflow.shape(k)[-1], tensorflow.float32)\n",
        "            scaled_attention_logits = matmul_qk / tensorflow.math.sqrt(dk)\n",
        "\n",
        "            softmax = tensorflow.nn.softmax(scaled_attention_logits, axis=-1)\n",
        "            scaled_dot_product_attention_output = tensorflow.matmul(softmax, v)\n",
        "            return scaled_dot_product_attention_output, softmax\n",
        "\n",
        "        attention_weights, softmax = scaled_dot_product_attention(q, k, v)\n",
        "        scaled_attention = tensorflow.transpose(attention_weights, perm=[0,2,1,3])\n",
        "        concat_attention = tensorflow.reshape(scaled_attention, (batch_size, -1, self.dimension))\n",
        "        output = self.dense(concat_attention)\n",
        "        return output"
      ]
    },
    {
      "cell_type": "code",
      "execution_count": null,
      "metadata": {
        "id": "b4pbnTnTToio"
      },
      "outputs": [],
      "source": [
        "# ResidualBlock 정의\n",
        "\n",
        "class ResidualBlock(tensorflow.keras.Model):\n",
        "    def __init__(self, residual_function):\n",
        "        super(ResidualBlock, self).__init__()\n",
        "        self.residual_function = residual_function\n",
        "\n",
        "    def call(self, inputs):\n",
        "        return self.residual_function(inputs) + inputs"
      ]
    },
    {
      "cell_type": "code",
      "execution_count": null,
      "metadata": {
        "id": "srCeh3qATvoD"
      },
      "outputs": [],
      "source": [
        "# LayerNormalization 정의\n",
        "\n",
        "class NormalizationBlock(tensorflow.keras.Model):\n",
        "    def __init__(self, norm_function, epsilon=1e-5):\n",
        "        super(NormalizationBlock, self).__init__()\n",
        "        self.norm_function = norm_function\n",
        "        self.normalize = tensorflow.keras.layers.LayerNormalization(epsilon=1e-6)\n",
        "\n",
        "    def call(self, inputs):\n",
        "        return self.norm_function(self.normalize(inputs))"
      ]
    },
    {
      "cell_type": "code",
      "execution_count": null,
      "metadata": {
        "id": "rl2CBqL2Tokq"
      },
      "outputs": [],
      "source": [
        "# MLP BLOCK 정의\n",
        "\n",
        "class MLPBlock(tensorflow.keras.Model):\n",
        "    def __init__(self, output_dimension, hidden_dimension):\n",
        "        super(MLPBlock, self).__init__()\n",
        "        self.output_dimension = tensorflow.keras.layers.Dense(output_dimension)\n",
        "        self.hidden_dimension = tensorflow.keras.layers.Dense(hidden_dimension)\n",
        "        self.dropout1 = tensorflow.keras.layers.Dropout(0.1)\n",
        "        self.dropout2 = tensorflow.keras.layers.Dropout(0.1)\n",
        "\n",
        "    def call(self, inputs):\n",
        "        output = None\n",
        "        x = self.hidden_dimension(inputs)\n",
        "        x = gelu(x)\n",
        "        x = self.dropout1(x)\n",
        "        x = self.output_dimension(x)\n",
        "        x = gelu(x)\n",
        "        output = self.dropout2(x)\n",
        "        return output"
      ]
    },
    {
      "cell_type": "code",
      "execution_count": null,
      "metadata": {
        "id": "KOwjoOfoTom4"
      },
      "outputs": [],
      "source": [
        "# 트랜스포머 인코더 정의\n",
        "\n",
        "class TransformerEncoder(tensorflow.keras.layers.Layer):\n",
        "    def __init__(self, dimension, depth, heads, mlp_dimension):\n",
        "        super(TransformerEncoder, self).__init__()\n",
        "        layers_ = []\n",
        "        layers_.append(tensorflow.keras.Input(shape=((CFG.obj_image_size//CFG.patch_size)*(CFG.obj_image_size//CFG.patch_size)+1,dimension)))\n",
        "        for i in range(depth):\n",
        "            layers_.append(NormalizationBlock(ResidualBlock(MultiHeadedAttention(dimension, heads))))\n",
        "            layers_.append(NormalizationBlock(ResidualBlock(MLPBlock(dimension, mlp_dimension))))\n",
        "\n",
        "        self.layers_ = tensorflow.keras.Sequential(layers_)\n",
        "\n",
        "    def call(self, inputs):\n",
        "        return self.layers_(inputs)"
      ]
    },
    {
      "cell_type": "code",
      "execution_count": null,
      "metadata": {
        "id": "k8JWdIxsToon"
      },
      "outputs": [],
      "source": [
        "# VIT 전체 구현\n",
        "\n",
        "class ImageTransformer(tensorflow.keras.Model):\n",
        "    def __init__(\n",
        "            self, image_size, patch_size, n_classes, batch_size,\n",
        "            dimension, depth, heads, mlp_dimension, channels=3):\n",
        "        super(ImageTransformer, self).__init__()\n",
        "        assert image_size % patch_size == 0, 'invalid patch size for image size'\n",
        "\n",
        "        num_patches = (image_size // patch_size) ** 2\n",
        "        self.patch_size = patch_size\n",
        "        self.dimension = dimension\n",
        "        self.batch_size = batch_size\n",
        "\n",
        "        self.positional_embedding = self.add_weight(\n",
        "            \"position_embeddings\", shape=[num_patches + 1, dimension],\n",
        "            initializer=tensorflow.keras.initializers.RandomNormal(), dtype=tensorflow.float32\n",
        "        )\n",
        "        self.classification_token = self.add_weight(\n",
        "            \"classification_token\", shape=[1, 1, dimension],\n",
        "            initializer=tensorflow.keras.initializers.RandomNormal(), dtype=tensorflow.float32\n",
        "        )\n",
        "        self.heads = heads\n",
        "        self.depth = depth\n",
        "        self.mlp_dimension = dimension\n",
        "        self.n_classes = n_classes\n",
        "        self.num_patches = num_patches\n",
        "\n",
        "        self.patch_projection = tensorflow.keras.layers.Dense(dimension)\n",
        "        self.normalization2 = tensorflow.keras.layers.LayerNormalization(epsilon=1e-6)\n",
        "        self.MLP = MLPBlock(self.dimension, self.mlp_dimension)\n",
        "        self.output_classes = tensorflow.keras.layers.Dense(self.n_classes)\n",
        "        self.transformer = TransformerEncoder(self.dimension, self.depth, self.heads, self.mlp_dimension)\n",
        "        self.dropout1 = tensorflow.keras.layers.Dropout(0.5)\n",
        "\n",
        "    def call(self, inputs):\n",
        "        output = None\n",
        "        batch_size = tensorflow.shape(inputs)[0]\n",
        "\n",
        "        # 이미지를 patch_size로 조각낸다.\n",
        "        patches = tensorflow.image.extract_patches(\n",
        "            images = inputs,\n",
        "            sizes = [1, self.patch_size, self.patch_size, 1],\n",
        "            strides = [1, self.patch_size, self.patch_size, 1],\n",
        "            rates = [1,1,1,1],\n",
        "            padding=\"VALID\",\n",
        "        )\n",
        "\n",
        "        patch_dims = patches.shape[-1]\n",
        "        patches = tensorflow.reshape(patches, [batch_size, patches.shape[1]*patches.shape[2], patch_dims])\n",
        "        x = self.patch_projection(patches)\n",
        "\n",
        "        cls_pos = tensorflow.broadcast_to(\n",
        "            self.classification_token, [batch_size, 1, self.dimension]\n",
        "        )\n",
        "        x = tensorflow.concat([cls_pos, x], axis=1)\n",
        "        x = x + self.positional_embedding\n",
        "        x = self.transformer(x)\n",
        "        x = self.normalization2(x)\n",
        "        x = x[:,0,:]\n",
        "        x_keep = tensorflow.identity(x)\n",
        "        x = self.dropout1(x)\n",
        "        output = self.output_classes(x)\n",
        "        return output"
      ]
    },
    {
      "cell_type": "code",
      "execution_count": null,
      "metadata": {
        "colab": {
          "base_uri": "https://localhost:8080/"
        },
        "id": "atPJGqNIS4GP",
        "outputId": "b7fdb148-e1a6-41e7-c1da-5d236197203d"
      },
      "outputs": [
        {
          "output_type": "stream",
          "name": "stdout",
          "text": [
            "Mounted at /content/drive\n"
          ]
        }
      ],
      "source": [
        "from google.colab import drive\n",
        "drive.mount('/content/drive')"
      ]
    },
    {
      "cell_type": "code",
      "execution_count": null,
      "metadata": {
        "id": "0zsSbB-qT2bM"
      },
      "outputs": [],
      "source": [
        "import os\n",
        "import cv2\n",
        "import numpy as np\n",
        "from sklearn.model_selection import train_test_split\n",
        "\n",
        "# 데이터 경로 설정\n",
        "train_dir = \"/content/drive/MyDrive/font_train_test_9/train\"\n",
        "test_dir = \"/content/drive/MyDrive/font_train_test_9/test\""
      ]
    },
    {
      "cell_type": "code",
      "execution_count": null,
      "metadata": {
        "id": "qe4cmQ4VT2dO"
      },
      "outputs": [],
      "source": [
        "def load_images_and_labels(root_dir, subfolders):\n",
        "    images = []\n",
        "    labels = []\n",
        "    for label, subfolder in enumerate(subfolders):\n",
        "        folder_path = os.path.join(root_dir, subfolder)\n",
        "        for filename in os.listdir(folder_path):\n",
        "            image_path = os.path.join(folder_path, filename)\n",
        "            image = cv2.imread(image_path)\n",
        "            image = cv2.resize(image, (32, 32))  # 이미지 크기 조정\n",
        "            images.append(image)\n",
        "            labels.append(label)\n",
        "    return images, labels\n",
        "\n",
        "labels = ['01', '02', '03', '04', '05', '06', '07', '08', '09']\n",
        "\n",
        "train_images, train_labels = load_images_and_labels(train_dir, labels)\n",
        "test_images, test_labels = load_images_and_labels(test_dir, labels)"
      ]
    },
    {
      "cell_type": "code",
      "execution_count": null,
      "metadata": {
        "id": "qlRc7RI2UAV2"
      },
      "outputs": [],
      "source": [
        "train_images = np.array(train_images)\n",
        "train_labels = np.array(train_labels)\n",
        "test_images = np.array(test_images)\n",
        "test_labels = np.array(test_labels)"
      ]
    },
    {
      "cell_type": "code",
      "execution_count": null,
      "metadata": {
        "id": "PS2aUrXFUKIc"
      },
      "outputs": [],
      "source": [
        "class CFG:\n",
        "    num_classes = 10\n",
        "    input_shape = (32, 32, 3)\n",
        "    learning_rate = 0.001\n",
        "    weight_decay = 0.0001\n",
        "    batch_size = 256\n",
        "    num_epochs = 100\n",
        "    image_size = 32\n",
        "    obj_image_size = 32\n",
        "    patch_size = 4\n",
        "    num_patches = (image_size // patch_size) ** 2\n",
        "    projection_dim = 64\n",
        "    num_heads = 8\n",
        "    transformer_layers = 2\n",
        "\n",
        "CFG = CFG()\n",
        "optimizer = tfa.optimizers.AdamW(learning_rate = CFG.learning_rate, weight_decay=CFG.weight_decay)"
      ]
    },
    {
      "cell_type": "code",
      "execution_count": null,
      "metadata": {
        "id": "XIL9sRT5T8K9"
      },
      "outputs": [],
      "source": [
        "from sklearn.model_selection import train_test_split\n",
        "from sklearn.linear_model import LogisticRegression\n",
        "from sklearn.metrics import f1_score, classification_report, confusion_matrix\n",
        "from sklearn.metrics import classification_report"
      ]
    },
    {
      "cell_type": "code",
      "execution_count": null,
      "metadata": {
        "id": "_nG30wG2T8ND"
      },
      "outputs": [],
      "source": [
        "X_train, X_test, y_train, y_test = train_test_split(train_images, train_labels, test_size=0.2, random_state=42)"
      ]
    },
    {
      "cell_type": "code",
      "execution_count": null,
      "metadata": {
        "id": "xT58oq5xoT92"
      },
      "outputs": [],
      "source": []
    },
    {
      "cell_type": "code",
      "execution_count": null,
      "metadata": {
        "id": "OSzPb-nrT8PC"
      },
      "outputs": [],
      "source": [
        "model_vit = ImageTransformer(CFG.image_size, CFG.patch_size, CFG.num_classes, CFG.batch_size, CFG.projection_dim, CFG.transformer_layers, CFG.num_heads, CFG.projection_dim)\n",
        "model_vit.compile(\n",
        "        optimizer=optimizer,\n",
        "        loss=tensorflow.keras.losses.SparseCategoricalCrossentropy(from_logits=True),\n",
        "        metrics=[tensorflow.keras.metrics.SparseCategoricalAccuracy(name=\"accuracy\")])"
      ]
    },
    {
      "cell_type": "code",
      "execution_count": null,
      "metadata": {
        "id": "sOn1AnpDULwP",
        "colab": {
          "base_uri": "https://localhost:8080/"
        },
        "outputId": "92ce7a8e-bc7c-45f7-8707-c699a0f85f14"
      },
      "outputs": [
        {
          "output_type": "stream",
          "name": "stdout",
          "text": [
            "Epoch 1/100\n",
            "114/114 [==============================] - 18s 98ms/step - loss: 1.1045 - accuracy: 0.5997 - val_loss: 2.9208 - val_accuracy: 0.5387\n",
            "Epoch 2/100\n",
            "114/114 [==============================] - 9s 76ms/step - loss: 0.2888 - accuracy: 0.8992 - val_loss: 3.0477 - val_accuracy: 0.5933\n",
            "Epoch 3/100\n",
            "114/114 [==============================] - 10s 87ms/step - loss: 0.1591 - accuracy: 0.9478 - val_loss: 3.0535 - val_accuracy: 0.6101\n",
            "Epoch 4/100\n",
            "114/114 [==============================] - 10s 87ms/step - loss: 0.1130 - accuracy: 0.9620 - val_loss: 3.1399 - val_accuracy: 0.6340\n",
            "Epoch 5/100\n",
            "114/114 [==============================] - 10s 90ms/step - loss: 0.0989 - accuracy: 0.9682 - val_loss: 3.2586 - val_accuracy: 0.6374\n",
            "Epoch 6/100\n",
            "114/114 [==============================] - 11s 94ms/step - loss: 0.0758 - accuracy: 0.9748 - val_loss: 3.2638 - val_accuracy: 0.6412\n",
            "Epoch 7/100\n",
            "114/114 [==============================] - 12s 105ms/step - loss: 0.0724 - accuracy: 0.9760 - val_loss: 3.3071 - val_accuracy: 0.6426\n",
            "Epoch 8/100\n",
            "114/114 [==============================] - 12s 103ms/step - loss: 0.0683 - accuracy: 0.9772 - val_loss: 3.3760 - val_accuracy: 0.6416\n",
            "Epoch 9/100\n",
            "114/114 [==============================] - 10s 91ms/step - loss: 0.0609 - accuracy: 0.9808 - val_loss: 3.3954 - val_accuracy: 0.6491\n",
            "Epoch 10/100\n",
            "114/114 [==============================] - 9s 77ms/step - loss: 0.0397 - accuracy: 0.9877 - val_loss: 3.4388 - val_accuracy: 0.6541\n",
            "Epoch 11/100\n",
            "114/114 [==============================] - 10s 91ms/step - loss: 0.0354 - accuracy: 0.9892 - val_loss: 3.5365 - val_accuracy: 0.6463\n",
            "Epoch 12/100\n",
            "114/114 [==============================] - 10s 91ms/step - loss: 0.0389 - accuracy: 0.9874 - val_loss: 3.6244 - val_accuracy: 0.6458\n",
            "Epoch 13/100\n",
            "114/114 [==============================] - 9s 77ms/step - loss: 0.0396 - accuracy: 0.9876 - val_loss: 3.6145 - val_accuracy: 0.6507\n",
            "Epoch 14/100\n",
            "114/114 [==============================] - 12s 106ms/step - loss: 0.0327 - accuracy: 0.9897 - val_loss: 3.6246 - val_accuracy: 0.6440\n",
            "Epoch 15/100\n",
            "114/114 [==============================] - 12s 104ms/step - loss: 0.0302 - accuracy: 0.9904 - val_loss: 3.6323 - val_accuracy: 0.6544\n",
            "Epoch 16/100\n",
            "114/114 [==============================] - 10s 92ms/step - loss: 0.0275 - accuracy: 0.9914 - val_loss: 3.7680 - val_accuracy: 0.6410\n",
            "Epoch 17/100\n",
            "114/114 [==============================] - 9s 77ms/step - loss: 0.0242 - accuracy: 0.9926 - val_loss: 3.6806 - val_accuracy: 0.6496\n",
            "Epoch 18/100\n",
            "114/114 [==============================] - 10s 91ms/step - loss: 0.0356 - accuracy: 0.9889 - val_loss: 3.7176 - val_accuracy: 0.6453\n",
            "Epoch 19/100\n",
            "114/114 [==============================] - 10s 92ms/step - loss: 0.0239 - accuracy: 0.9920 - val_loss: 3.6699 - val_accuracy: 0.6557\n",
            "Epoch 20/100\n",
            "114/114 [==============================] - 10s 92ms/step - loss: 0.0255 - accuracy: 0.9920 - val_loss: 3.8325 - val_accuracy: 0.6506\n",
            "Epoch 21/100\n",
            "114/114 [==============================] - 9s 79ms/step - loss: 0.0216 - accuracy: 0.9936 - val_loss: 3.8184 - val_accuracy: 0.6522\n",
            "Epoch 22/100\n",
            "114/114 [==============================] - 10s 89ms/step - loss: 0.0158 - accuracy: 0.9953 - val_loss: 3.7495 - val_accuracy: 0.6583\n",
            "Epoch 23/100\n",
            "114/114 [==============================] - 10s 87ms/step - loss: 0.0230 - accuracy: 0.9927 - val_loss: 3.7827 - val_accuracy: 0.6539\n",
            "Epoch 24/100\n",
            "114/114 [==============================] - 9s 78ms/step - loss: 0.0208 - accuracy: 0.9934 - val_loss: 3.8166 - val_accuracy: 0.6575\n",
            "Epoch 25/100\n",
            "114/114 [==============================] - 10s 90ms/step - loss: 0.0278 - accuracy: 0.9913 - val_loss: 3.8994 - val_accuracy: 0.6501\n",
            "Epoch 26/100\n",
            "114/114 [==============================] - 10s 92ms/step - loss: 0.0209 - accuracy: 0.9938 - val_loss: 3.7785 - val_accuracy: 0.6578\n",
            "Epoch 27/100\n",
            "114/114 [==============================] - 11s 93ms/step - loss: 0.0179 - accuracy: 0.9939 - val_loss: 3.8965 - val_accuracy: 0.6423\n",
            "Epoch 28/100\n",
            "114/114 [==============================] - 10s 88ms/step - loss: 0.0175 - accuracy: 0.9949 - val_loss: 3.8844 - val_accuracy: 0.6514\n",
            "Epoch 29/100\n",
            "114/114 [==============================] - 11s 94ms/step - loss: 0.0160 - accuracy: 0.9952 - val_loss: 3.8578 - val_accuracy: 0.6568\n",
            "Epoch 30/100\n",
            "114/114 [==============================] - 11s 93ms/step - loss: 0.0188 - accuracy: 0.9942 - val_loss: 3.8581 - val_accuracy: 0.6514\n",
            "Epoch 31/100\n",
            "114/114 [==============================] - 11s 93ms/step - loss: 0.0173 - accuracy: 0.9948 - val_loss: 3.8118 - val_accuracy: 0.6509\n",
            "Epoch 32/100\n",
            "114/114 [==============================] - 10s 91ms/step - loss: 0.0208 - accuracy: 0.9931 - val_loss: 3.8721 - val_accuracy: 0.6548\n",
            "Epoch 33/100\n",
            "114/114 [==============================] - 11s 100ms/step - loss: 0.0138 - accuracy: 0.9965 - val_loss: 3.8708 - val_accuracy: 0.6524\n",
            "Epoch 34/100\n",
            "114/114 [==============================] - 10s 88ms/step - loss: 0.0166 - accuracy: 0.9945 - val_loss: 3.9123 - val_accuracy: 0.6591\n",
            "Epoch 35/100\n",
            "114/114 [==============================] - 9s 81ms/step - loss: 0.0142 - accuracy: 0.9960 - val_loss: 4.0389 - val_accuracy: 0.6520\n",
            "Epoch 36/100\n",
            "114/114 [==============================] - 12s 106ms/step - loss: 0.0300 - accuracy: 0.9908 - val_loss: 3.8798 - val_accuracy: 0.6549\n",
            "Epoch 37/100\n",
            "114/114 [==============================] - 11s 96ms/step - loss: 0.0175 - accuracy: 0.9943 - val_loss: 3.9514 - val_accuracy: 0.6525\n",
            "Epoch 38/100\n",
            "114/114 [==============================] - 11s 93ms/step - loss: 0.0156 - accuracy: 0.9951 - val_loss: 3.9754 - val_accuracy: 0.6564\n",
            "Epoch 39/100\n",
            "114/114 [==============================] - 11s 94ms/step - loss: 0.0162 - accuracy: 0.9944 - val_loss: 3.9630 - val_accuracy: 0.6474\n",
            "Epoch 40/100\n",
            "114/114 [==============================] - 12s 107ms/step - loss: 0.0085 - accuracy: 0.9975 - val_loss: 3.9471 - val_accuracy: 0.6549\n",
            "Epoch 41/100\n",
            "114/114 [==============================] - 12s 106ms/step - loss: 0.0328 - accuracy: 0.9900 - val_loss: 3.9496 - val_accuracy: 0.6434\n",
            "Epoch 42/100\n",
            "114/114 [==============================] - 11s 95ms/step - loss: 0.0117 - accuracy: 0.9963 - val_loss: 4.0400 - val_accuracy: 0.6508\n",
            "Epoch 43/100\n",
            "114/114 [==============================] - 9s 79ms/step - loss: 0.0075 - accuracy: 0.9978 - val_loss: 4.1027 - val_accuracy: 0.6491\n",
            "Epoch 44/100\n",
            "114/114 [==============================] - 12s 103ms/step - loss: 0.0153 - accuracy: 0.9953 - val_loss: 3.8930 - val_accuracy: 0.6496\n",
            "Epoch 45/100\n",
            "114/114 [==============================] - 10s 92ms/step - loss: 0.0150 - accuracy: 0.9953 - val_loss: 4.1338 - val_accuracy: 0.6546\n",
            "Epoch 46/100\n",
            "114/114 [==============================] - 10s 89ms/step - loss: 0.0186 - accuracy: 0.9938 - val_loss: 4.0225 - val_accuracy: 0.6564\n",
            "Epoch 47/100\n",
            "114/114 [==============================] - 11s 94ms/step - loss: 0.0109 - accuracy: 0.9967 - val_loss: 4.0360 - val_accuracy: 0.6563\n",
            "Epoch 48/100\n",
            "114/114 [==============================] - 10s 91ms/step - loss: 0.0098 - accuracy: 0.9969 - val_loss: 4.1296 - val_accuracy: 0.6534\n",
            "Epoch 49/100\n",
            "114/114 [==============================] - 11s 98ms/step - loss: 0.0144 - accuracy: 0.9954 - val_loss: 4.1577 - val_accuracy: 0.6533\n",
            "Epoch 50/100\n",
            "114/114 [==============================] - 11s 93ms/step - loss: 0.0065 - accuracy: 0.9981 - val_loss: 4.1681 - val_accuracy: 0.6573\n",
            "Epoch 51/100\n",
            "114/114 [==============================] - 11s 94ms/step - loss: 0.0080 - accuracy: 0.9975 - val_loss: 4.3514 - val_accuracy: 0.6247\n",
            "Epoch 52/100\n",
            "114/114 [==============================] - 12s 105ms/step - loss: 0.0244 - accuracy: 0.9921 - val_loss: 3.9554 - val_accuracy: 0.6533\n",
            "Epoch 53/100\n",
            "114/114 [==============================] - 10s 92ms/step - loss: 0.0207 - accuracy: 0.9933 - val_loss: 4.0664 - val_accuracy: 0.6551\n",
            "Epoch 54/100\n",
            "114/114 [==============================] - 11s 93ms/step - loss: 0.0128 - accuracy: 0.9961 - val_loss: 4.1251 - val_accuracy: 0.6559\n",
            "Epoch 55/100\n",
            "114/114 [==============================] - 9s 77ms/step - loss: 0.0128 - accuracy: 0.9963 - val_loss: 4.1774 - val_accuracy: 0.6520\n",
            "Epoch 56/100\n",
            "114/114 [==============================] - 12s 106ms/step - loss: 0.0116 - accuracy: 0.9965 - val_loss: 4.2990 - val_accuracy: 0.6522\n",
            "Epoch 57/100\n",
            "114/114 [==============================] - 11s 100ms/step - loss: 0.0086 - accuracy: 0.9970 - val_loss: 4.1849 - val_accuracy: 0.6568\n",
            "Epoch 58/100\n",
            "114/114 [==============================] - 10s 87ms/step - loss: 0.0080 - accuracy: 0.9973 - val_loss: 4.2464 - val_accuracy: 0.6457\n",
            "Epoch 59/100\n",
            "114/114 [==============================] - 11s 96ms/step - loss: 0.0161 - accuracy: 0.9949 - val_loss: 4.2400 - val_accuracy: 0.6458\n",
            "Epoch 60/100\n",
            "114/114 [==============================] - 10s 92ms/step - loss: 0.0138 - accuracy: 0.9954 - val_loss: 4.1378 - val_accuracy: 0.6554\n",
            "Epoch 61/100\n",
            "114/114 [==============================] - 11s 96ms/step - loss: 0.0119 - accuracy: 0.9966 - val_loss: 4.3119 - val_accuracy: 0.6606\n",
            "Epoch 62/100\n",
            "114/114 [==============================] - 11s 93ms/step - loss: 0.0079 - accuracy: 0.9975 - val_loss: 4.1632 - val_accuracy: 0.6543\n",
            "Epoch 63/100\n",
            "114/114 [==============================] - 9s 79ms/step - loss: 0.0194 - accuracy: 0.9939 - val_loss: 4.0734 - val_accuracy: 0.6578\n",
            "Epoch 64/100\n",
            "114/114 [==============================] - 12s 105ms/step - loss: 0.0157 - accuracy: 0.9947 - val_loss: 4.3161 - val_accuracy: 0.6577\n",
            "Epoch 65/100\n",
            "114/114 [==============================] - 11s 93ms/step - loss: 0.0080 - accuracy: 0.9978 - val_loss: 4.2290 - val_accuracy: 0.6582\n",
            "Epoch 66/100\n",
            "114/114 [==============================] - 9s 80ms/step - loss: 0.0108 - accuracy: 0.9962 - val_loss: 4.3134 - val_accuracy: 0.6568\n",
            "Epoch 67/100\n",
            "114/114 [==============================] - 12s 104ms/step - loss: 0.0072 - accuracy: 0.9977 - val_loss: 4.2850 - val_accuracy: 0.6539\n",
            "Epoch 68/100\n",
            "114/114 [==============================] - 12s 106ms/step - loss: 0.0072 - accuracy: 0.9977 - val_loss: 4.4348 - val_accuracy: 0.6490\n",
            "Epoch 69/100\n",
            "114/114 [==============================] - 11s 97ms/step - loss: 0.0148 - accuracy: 0.9949 - val_loss: 4.2286 - val_accuracy: 0.6543\n",
            "Epoch 70/100\n",
            "114/114 [==============================] - 9s 83ms/step - loss: 0.0149 - accuracy: 0.9954 - val_loss: 4.3329 - val_accuracy: 0.6524\n",
            "Epoch 71/100\n",
            "114/114 [==============================] - 11s 101ms/step - loss: 0.0115 - accuracy: 0.9963 - val_loss: 4.4446 - val_accuracy: 0.6455\n",
            "Epoch 72/100\n",
            "114/114 [==============================] - 12s 106ms/step - loss: 0.0065 - accuracy: 0.9980 - val_loss: 4.3984 - val_accuracy: 0.6534\n",
            "Epoch 73/100\n",
            "114/114 [==============================] - 11s 100ms/step - loss: 0.0175 - accuracy: 0.9944 - val_loss: 4.3686 - val_accuracy: 0.6488\n",
            "Epoch 74/100\n",
            "114/114 [==============================] - 10s 87ms/step - loss: 0.0080 - accuracy: 0.9976 - val_loss: 4.4914 - val_accuracy: 0.6422\n",
            "Epoch 75/100\n",
            "114/114 [==============================] - 11s 96ms/step - loss: 0.0112 - accuracy: 0.9965 - val_loss: 4.4830 - val_accuracy: 0.6499\n",
            "Epoch 76/100\n",
            "114/114 [==============================] - 10s 92ms/step - loss: 0.0113 - accuracy: 0.9964 - val_loss: 4.3601 - val_accuracy: 0.6570\n",
            "Epoch 77/100\n",
            "114/114 [==============================] - 11s 96ms/step - loss: 0.0074 - accuracy: 0.9975 - val_loss: 4.4549 - val_accuracy: 0.6519\n",
            "Epoch 78/100\n",
            "114/114 [==============================] - 9s 83ms/step - loss: 0.0133 - accuracy: 0.9956 - val_loss: 4.3681 - val_accuracy: 0.6558\n",
            "Epoch 79/100\n",
            "114/114 [==============================] - 11s 101ms/step - loss: 0.0232 - accuracy: 0.9928 - val_loss: 4.4806 - val_accuracy: 0.6417\n",
            "Epoch 80/100\n",
            "114/114 [==============================] - 12s 107ms/step - loss: 0.0070 - accuracy: 0.9976 - val_loss: 4.5784 - val_accuracy: 0.6567\n",
            "Epoch 81/100\n",
            "114/114 [==============================] - 11s 93ms/step - loss: 0.0066 - accuracy: 0.9982 - val_loss: 4.5495 - val_accuracy: 0.6582\n",
            "Epoch 82/100\n",
            "114/114 [==============================] - 9s 83ms/step - loss: 0.0142 - accuracy: 0.9954 - val_loss: 4.5760 - val_accuracy: 0.6568\n",
            "Epoch 83/100\n",
            "114/114 [==============================] - 10s 84ms/step - loss: 0.0086 - accuracy: 0.9971 - val_loss: 4.4295 - val_accuracy: 0.6590\n",
            "Epoch 84/100\n",
            "114/114 [==============================] - 10s 92ms/step - loss: 0.0110 - accuracy: 0.9965 - val_loss: 4.4868 - val_accuracy: 0.6569\n",
            "Epoch 85/100\n",
            "114/114 [==============================] - 11s 93ms/step - loss: 0.0152 - accuracy: 0.9953 - val_loss: 4.5012 - val_accuracy: 0.6572\n",
            "Epoch 86/100\n",
            "114/114 [==============================] - 9s 78ms/step - loss: 0.0128 - accuracy: 0.9957 - val_loss: 4.4412 - val_accuracy: 0.6553\n",
            "Epoch 87/100\n",
            "114/114 [==============================] - 10s 90ms/step - loss: 0.0059 - accuracy: 0.9983 - val_loss: 4.6125 - val_accuracy: 0.6467\n",
            "Epoch 88/100\n",
            "114/114 [==============================] - 10s 92ms/step - loss: 0.0262 - accuracy: 0.9922 - val_loss: 4.1459 - val_accuracy: 0.6407\n",
            "Epoch 89/100\n",
            "114/114 [==============================] - 9s 77ms/step - loss: 0.0132 - accuracy: 0.9961 - val_loss: 4.4732 - val_accuracy: 0.6579\n",
            "Epoch 90/100\n",
            "114/114 [==============================] - 12s 106ms/step - loss: 0.0042 - accuracy: 0.9988 - val_loss: 4.4887 - val_accuracy: 0.6538\n",
            "Epoch 91/100\n",
            "114/114 [==============================] - 11s 93ms/step - loss: 0.0082 - accuracy: 0.9974 - val_loss: 4.6702 - val_accuracy: 0.6460\n",
            "Epoch 92/100\n",
            "114/114 [==============================] - 11s 93ms/step - loss: 0.0069 - accuracy: 0.9978 - val_loss: 4.5455 - val_accuracy: 0.6582\n",
            "Epoch 93/100\n",
            "114/114 [==============================] - 11s 93ms/step - loss: 0.0046 - accuracy: 0.9988 - val_loss: 4.4900 - val_accuracy: 0.6606\n",
            "Epoch 94/100\n",
            "114/114 [==============================] - 12s 104ms/step - loss: 0.0130 - accuracy: 0.9958 - val_loss: 4.5980 - val_accuracy: 0.6442\n",
            "Epoch 95/100\n",
            "114/114 [==============================] - 10s 91ms/step - loss: 0.0068 - accuracy: 0.9979 - val_loss: 4.7644 - val_accuracy: 0.6515\n",
            "Epoch 96/100\n",
            "114/114 [==============================] - 11s 93ms/step - loss: 0.0035 - accuracy: 0.9990 - val_loss: 4.6654 - val_accuracy: 0.6557\n",
            "Epoch 97/100\n",
            "114/114 [==============================] - 9s 77ms/step - loss: 0.0100 - accuracy: 0.9968 - val_loss: 4.7455 - val_accuracy: 0.6532\n",
            "Epoch 98/100\n",
            "114/114 [==============================] - 10s 90ms/step - loss: 0.0142 - accuracy: 0.9952 - val_loss: 4.6541 - val_accuracy: 0.6509\n",
            "Epoch 99/100\n",
            "114/114 [==============================] - 11s 92ms/step - loss: 0.0082 - accuracy: 0.9972 - val_loss: 4.7017 - val_accuracy: 0.6526\n",
            "Epoch 100/100\n",
            "114/114 [==============================] - 9s 77ms/step - loss: 0.0106 - accuracy: 0.9967 - val_loss: 4.6266 - val_accuracy: 0.6559\n",
            "==============Training Finished===============\n"
          ]
        }
      ],
      "source": [
        "results = model_vit.fit(x=train_images, y=train_labels, batch_size=CFG.batch_size, epochs=CFG.num_epochs, validation_data=(test_images, test_labels), shuffle=True)\n",
        "print('==============Training Finished===============')"
      ]
    },
    {
      "cell_type": "code",
      "execution_count": null,
      "metadata": {
        "id": "68Jn6V-cULyF",
        "colab": {
          "base_uri": "https://localhost:8080/"
        },
        "outputId": "ebe86210-2ab3-4e5f-ef24-6b348b96713b"
      },
      "outputs": [
        {
          "output_type": "stream",
          "name": "stdout",
          "text": [
            "182/182 [==============================] - 4s 15ms/step\n",
            "F1-score: 0.9962235816911496\n",
            "              precision    recall  f1-score   support\n",
            "\n",
            "           0       1.00      0.98      0.99      1080\n",
            "           1       1.00      1.00      1.00      1118\n",
            "           2       0.99      1.00      1.00      1134\n",
            "           3       1.00      1.00      1.00      1129\n",
            "           4       1.00      1.00      1.00      1123\n",
            "           6       0.95      1.00      0.98       232\n",
            "\n",
            "    accuracy                           1.00      5816\n",
            "   macro avg       0.99      1.00      0.99      5816\n",
            "weighted avg       1.00      1.00      1.00      5816\n",
            "\n",
            "[[1058    1   10    0    0   11]\n",
            " [   0 1118    0    0    0    0]\n",
            " [   0    0 1134    0    0    0]\n",
            " [   0    0    0 1129    0    0]\n",
            " [   0    0    0    0 1123    0]\n",
            " [   0    0    0    0    0  232]]\n"
          ]
        }
      ],
      "source": [
        "y_true = y_test\n",
        "y_pred = model_vit.predict(X_test)\n",
        "y_pred = np.argmax(y_pred, axis=1)\n",
        "\n",
        "f1 = f1_score(y_true, y_pred, average='weighted')\n",
        "print(f\"F1-score: {f1}\")\n",
        "\n",
        "print(classification_report(y_true, y_pred))\n",
        "print(confusion_matrix(y_true, y_pred))\n"
      ]
    },
    {
      "cell_type": "code",
      "execution_count": null,
      "metadata": {
        "id": "d25TnqFaUOZD",
        "colab": {
          "base_uri": "https://localhost:8080/",
          "height": 927
        },
        "outputId": "0d6f6517-4768-4d6a-81c3-12052db9ef44"
      },
      "outputs": [
        {
          "output_type": "display_data",
          "data": {
            "text/plain": [
              "<Figure size 640x480 with 1 Axes>"
            ],
            "image/png": "[encoded data removed]"
          },
          "metadata": {}
        },
        {
          "output_type": "display_data",
          "data": {
            "text/plain": [
              "<Figure size 640x480 with 1 Axes>"
            ],
            "image/png": "[encoded data removed]"
          },
          "metadata": {}
        }
      ],
      "source": [
        "import matplotlib.pyplot as plt\n",
        "\n",
        "# summarize history for accuracy\n",
        "plt.plot(results.history['accuracy'])\n",
        "plt.title('model accuracy')\n",
        "plt.ylabel('accuracy')\n",
        "plt.xlabel('epoch')\n",
        "plt.legend(['train', 'val'], loc='upper left')\n",
        "plt.show()\n",
        "\n",
        "# summarize history for loss\n",
        "plt.plot(results.history['loss'])\n",
        "plt.title('model loss')\n",
        "plt.ylabel('loss')\n",
        "plt.xlabel('epoch')\n",
        "plt.legend(['train', 'val'], loc='upper left')\n",
        "plt.show()"
      ]
    },
    {
      "cell_type": "code",
      "execution_count": null,
      "metadata": {
        "id": "_nkusHPwUOat"
      },
      "outputs": [],
      "source": []
    }
  ],
  "metadata": {
    "accelerator": "GPU",
    "colab": {
      "provenance": []
    },
    "kernelspec": {
      "display_name": "Python 3",
      "name": "python3"
    },
    "language_info": {
      "name": "python"
    }
  },
  "nbformat": 4,
  "nbformat_minor": 0
}