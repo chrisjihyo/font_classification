{
  "nbformat": 4,
  "nbformat_minor": 0,
  "metadata": {
    "colab": {
      "provenance": [],
      "gpuType": "T4"
    },
    "kernelspec": {
      "name": "python3",
      "display_name": "Python 3"
    },
    "language_info": {
      "name": "python"
    },
    "accelerator": "GPU"
  },
  "cells": [
    {
      "cell_type": "code",
      "execution_count": 1,
      "metadata": {
        "colab": {
          "base_uri": "https://localhost:8080/"
        },
        "id": "Ji5dSR-A5e84",
        "outputId": "e6acddf8-0284-4e4f-8ea7-21f0af8d740f"
      },
      "outputs": [
        {
          "output_type": "stream",
          "name": "stdout",
          "text": [
            "Collecting tensorflow_addons\n",
            "  Downloading tensorflow_addons-0.21.0-cp310-cp310-manylinux_2_17_x86_64.manylinux2014_x86_64.whl (612 kB)\n",
            "\u001b[?25l     \u001b[90m━━━━━━━━━━━━━━━━━━━━━━━━━━━━━━━━━━━━━━━━\u001b[0m \u001b[32m0.0/612.1 kB\u001b[0m \u001b[31m?\u001b[0m eta \u001b[36m-:--:--\u001b[0m\r\u001b[2K     \u001b[91m━━━━━━━\u001b[0m\u001b[91m╸\u001b[0m\u001b[90m━━━━━━━━━━━━━━━━━━━━━━━━━━━━━━━\u001b[0m \u001b[32m122.9/612.1 kB\u001b[0m \u001b[31m3.1 MB/s\u001b[0m eta \u001b[36m0:00:01\u001b[0m\r\u001b[2K     \u001b[90m━━━━━━━━━━━━━━━━━━━━━━━━━━━━━━━━━━━━━━━\u001b[0m \u001b[32m612.1/612.1 kB\u001b[0m \u001b[31m9.3 MB/s\u001b[0m eta \u001b[36m0:00:00\u001b[0m\n",
            "\u001b[?25hRequirement already satisfied: packaging in /usr/local/lib/python3.10/dist-packages (from tensorflow_addons) (23.1)\n",
            "Collecting typeguard<3.0.0,>=2.7 (from tensorflow_addons)\n",
            "  Downloading typeguard-2.13.3-py3-none-any.whl (17 kB)\n",
            "Installing collected packages: typeguard, tensorflow_addons\n",
            "Successfully installed tensorflow_addons-0.21.0 typeguard-2.13.3\n"
          ]
        }
      ],
      "source": [
        "pip install tensorflow_addons"
      ]
    },
    {
      "cell_type": "code",
      "source": [
        "import tensorflow\n",
        "from tensorflow.keras.activations import gelu\n",
        "import tensorflow_addons as tfa\n",
        "from typing import List, Tuple"
      ],
      "metadata": {
        "colab": {
          "base_uri": "https://localhost:8080/"
        },
        "id": "SvWS6kMk5ovK",
        "outputId": "273f7f90-f07b-4bbd-9123-6c917e7b02b2"
      },
      "execution_count": 2,
      "outputs": [
        {
          "output_type": "stream",
          "name": "stderr",
          "text": [
            "/usr/local/lib/python3.10/dist-packages/tensorflow_addons/utils/tfa_eol_msg.py:23: UserWarning: \n",
            "\n",
            "TensorFlow Addons (TFA) has ended development and introduction of new features.\n",
            "TFA has entered a minimal maintenance and release mode until a planned end of life in May 2024.\n",
            "Please modify downstream libraries to take dependencies from other repositories in our TensorFlow community (e.g. Keras, Keras-CV, and Keras-NLP). \n",
            "\n",
            "For more information see: https://github.com/tensorflow/addons/issues/2807 \n",
            "\n",
            "  warnings.warn(\n"
          ]
        }
      ]
    },
    {
      "cell_type": "code",
      "source": [
        "# MultiHeadAttention 정의\n",
        "\n",
        "class MultiHeadedAttention(tensorflow.keras.Model):\n",
        "    def __init__(self, dimension: int, heads: int = 8):\n",
        "        super(MultiHeadedAttention, self).__init__()\n",
        "        self.heads = heads\n",
        "        self.dimension = dimension\n",
        "        assert dimension // heads\n",
        "        self.depth = dimension // heads\n",
        "        self.wq = tensorflow.keras.layers.Dense(dimension)\n",
        "        self.wk = tensorflow.keras.layers.Dense(dimension)\n",
        "        self.wv = tensorflow.keras.layers.Dense(dimension)\n",
        "        self.dense = tensorflow.keras.layers.Dense(dimension)\n",
        "\n",
        "    def call(self, inputs):\n",
        "        output = None\n",
        "        batch_size = tensorflow.shape(inputs)[0]\n",
        "        q: tensorflow.Tensor = self.wq(inputs)\n",
        "        k: tensorflow.Tensor = self.wk(inputs)\n",
        "        v: tensorflow.Tensor = self.wv(inputs)\n",
        "\n",
        "        def split_heads(x, batch_size):\n",
        "            x = tensorflow.reshape(x, (batch_size, -1, self.heads, self.depth))\n",
        "            return tensorflow.transpose(x, perm=[0,2,1,3])\n",
        "\n",
        "        q = split_heads(q, batch_size)\n",
        "        k = split_heads(k, batch_size)\n",
        "        v = split_heads(v, batch_size)\n",
        "\n",
        "        def scaled_dot_product_attention(q,k,v):\n",
        "            matmul_qk = tensorflow.matmul(q, k, transpose_b = True)\n",
        "            dk = tensorflow.cast(tensorflow.shape(k)[-1], tensorflow.float32)\n",
        "            scaled_attention_logits = matmul_qk / tensorflow.math.sqrt(dk)\n",
        "\n",
        "            softmax = tensorflow.nn.softmax(scaled_attention_logits, axis=-1)\n",
        "            scaled_dot_product_attention_output = tensorflow.matmul(softmax, v)\n",
        "            return scaled_dot_product_attention_output, softmax\n",
        "\n",
        "        attention_weights, softmax = scaled_dot_product_attention(q, k, v)\n",
        "        scaled_attention = tensorflow.transpose(attention_weights, perm=[0,2,1,3])\n",
        "        concat_attention = tensorflow.reshape(scaled_attention, (batch_size, -1, self.dimension))\n",
        "        output = self.dense(concat_attention)\n",
        "        return output"
      ],
      "metadata": {
        "id": "b2zAut475oxX"
      },
      "execution_count": 3,
      "outputs": []
    },
    {
      "cell_type": "code",
      "source": [
        "# ResidualBlock 정의\n",
        "\n",
        "class ResidualBlock(tensorflow.keras.Model):\n",
        "    def __init__(self, residual_function):\n",
        "        super(ResidualBlock, self).__init__()\n",
        "        self.residual_function = residual_function\n",
        "\n",
        "    def call(self, inputs):\n",
        "        return self.residual_function(inputs) + inputs"
      ],
      "metadata": {
        "id": "_VKpdxjN5ozY"
      },
      "execution_count": 4,
      "outputs": []
    },
    {
      "cell_type": "code",
      "source": [
        "# LayerNormalization 정의\n",
        "\n",
        "class NormalizationBlock(tensorflow.keras.Model):\n",
        "    def __init__(self, norm_function, epsilon=1e-5):\n",
        "        super(NormalizationBlock, self).__init__()\n",
        "        self.norm_function = norm_function\n",
        "        self.normalize = tensorflow.keras.layers.LayerNormalization(epsilon=1e-6)\n",
        "\n",
        "    def call(self, inputs):\n",
        "        return self.norm_function(self.normalize(inputs))"
      ],
      "metadata": {
        "id": "9Ty4_ye35o1F"
      },
      "execution_count": 5,
      "outputs": []
    },
    {
      "cell_type": "code",
      "source": [
        "# MLP BLOCK 정의\n",
        "\n",
        "class MLPBlock(tensorflow.keras.Model):\n",
        "    def __init__(self, output_dimension, hidden_dimension):\n",
        "        super(MLPBlock, self).__init__()\n",
        "        self.output_dimension = tensorflow.keras.layers.Dense(output_dimension)\n",
        "        self.hidden_dimension = tensorflow.keras.layers.Dense(hidden_dimension)\n",
        "        self.dropout1 = tensorflow.keras.layers.Dropout(0.1)\n",
        "        self.dropout2 = tensorflow.keras.layers.Dropout(0.1)\n",
        "\n",
        "    def call(self, inputs):\n",
        "        output = None\n",
        "        x = self.hidden_dimension(inputs)\n",
        "        x = gelu(x)\n",
        "        x = self.dropout1(x)\n",
        "        x = self.output_dimension(x)\n",
        "        x = gelu(x)\n",
        "        output = self.dropout2(x)\n",
        "        return output"
      ],
      "metadata": {
        "id": "WEmgfGwS5o2w"
      },
      "execution_count": 6,
      "outputs": []
    },
    {
      "cell_type": "code",
      "source": [
        "# 트랜스포머 인코더 정의\n",
        "\n",
        "class TransformerEncoder(tensorflow.keras.layers.Layer):\n",
        "    def __init__(self, dimension, depth, heads, mlp_dimension):\n",
        "        super(TransformerEncoder, self).__init__()\n",
        "        layers_ = []\n",
        "        layers_.append(tensorflow.keras.Input(shape=((CFG.obj_image_size//CFG.patch_size)*(CFG.obj_image_size//CFG.patch_size)+1,dimension)))\n",
        "        for i in range(depth):\n",
        "            layers_.append(NormalizationBlock(ResidualBlock(MultiHeadedAttention(dimension, heads))))\n",
        "            layers_.append(NormalizationBlock(ResidualBlock(MLPBlock(dimension, mlp_dimension))))\n",
        "\n",
        "        self.layers_ = tensorflow.keras.Sequential(layers_)\n",
        "\n",
        "    def call(self, inputs):\n",
        "        return self.layers_(inputs)"
      ],
      "metadata": {
        "id": "IQzAGGj35wQm"
      },
      "execution_count": 7,
      "outputs": []
    },
    {
      "cell_type": "code",
      "source": [
        "# VIT 전체 구현\n",
        "\n",
        "class ImageTransformer(tensorflow.keras.Model):\n",
        "    def __init__(\n",
        "            self, image_size, patch_size, n_classes, batch_size,\n",
        "            dimension, depth, heads, mlp_dimension, channels=3):\n",
        "        super(ImageTransformer, self).__init__()\n",
        "        assert image_size % patch_size == 0, 'invalid patch size for image size'\n",
        "\n",
        "        num_patches = (image_size // patch_size) ** 2\n",
        "        self.patch_size = patch_size\n",
        "        self.dimension = dimension\n",
        "        self.batch_size = batch_size\n",
        "\n",
        "        self.positional_embedding = self.add_weight(\n",
        "            \"position_embeddings\", shape=[num_patches + 1, dimension],\n",
        "            initializer=tensorflow.keras.initializers.RandomNormal(), dtype=tensorflow.float32\n",
        "        )\n",
        "        self.classification_token = self.add_weight(\n",
        "            \"classification_token\", shape=[1, 1, dimension],\n",
        "            initializer=tensorflow.keras.initializers.RandomNormal(), dtype=tensorflow.float32\n",
        "        )\n",
        "        self.heads = heads\n",
        "        self.depth = depth\n",
        "        self.mlp_dimension = dimension\n",
        "        self.n_classes = n_classes\n",
        "        self.num_patches = num_patches\n",
        "\n",
        "        self.patch_projection = tensorflow.keras.layers.Dense(dimension)\n",
        "        self.normalization2 = tensorflow.keras.layers.LayerNormalization(epsilon=1e-6)\n",
        "        self.MLP = MLPBlock(self.dimension, self.mlp_dimension)\n",
        "        self.output_classes = tensorflow.keras.layers.Dense(self.n_classes)\n",
        "        self.transformer = TransformerEncoder(self.dimension, self.depth, self.heads, self.mlp_dimension)\n",
        "        self.dropout1 = tensorflow.keras.layers.Dropout(0.5)\n",
        "\n",
        "    def call(self, inputs):\n",
        "        output = None\n",
        "        batch_size = tensorflow.shape(inputs)[0]\n",
        "\n",
        "        # 이미지를 patch_size로 조각낸다.\n",
        "        patches = tensorflow.image.extract_patches(\n",
        "            images = inputs,\n",
        "            sizes = [1, self.patch_size, self.patch_size, 1],\n",
        "            strides = [1, self.patch_size, self.patch_size, 1],\n",
        "            rates = [1,1,1,1],\n",
        "            padding=\"VALID\",\n",
        "        )\n",
        "\n",
        "        patch_dims = patches.shape[-1]\n",
        "        patches = tensorflow.reshape(patches, [batch_size, patches.shape[1]*patches.shape[2], patch_dims])\n",
        "        x = self.patch_projection(patches)\n",
        "\n",
        "        cls_pos = tensorflow.broadcast_to(\n",
        "            self.classification_token, [batch_size, 1, self.dimension]\n",
        "        )\n",
        "        x = tensorflow.concat([cls_pos, x], axis=1)\n",
        "        x = x + self.positional_embedding\n",
        "        x = self.transformer(x)\n",
        "        x = self.normalization2(x)\n",
        "        x = x[:,0,:]\n",
        "        x_keep = tensorflow.identity(x)\n",
        "        x = self.dropout1(x)\n",
        "        output = self.output_classes(x)\n",
        "        return output"
      ],
      "metadata": {
        "id": "LzsNz3qU5wSU"
      },
      "execution_count": 8,
      "outputs": []
    },
    {
      "cell_type": "code",
      "source": [
        "from google.colab import drive\n",
        "drive.mount('/content/drive')"
      ],
      "metadata": {
        "colab": {
          "base_uri": "https://localhost:8080/"
        },
        "id": "IREL_fJU5zSw",
        "outputId": "c6fef6c9-bfe2-4f5c-b676-6ce35d596c41"
      },
      "execution_count": 9,
      "outputs": [
        {
          "output_type": "stream",
          "name": "stdout",
          "text": [
            "Mounted at /content/drive\n"
          ]
        }
      ]
    },
    {
      "cell_type": "code",
      "source": [
        "import os\n",
        "import cv2\n",
        "import numpy as np\n",
        "from sklearn.model_selection import train_test_split\n",
        "\n",
        "# 데이터 경로 설정\n",
        "train_dir = \"/content/drive/MyDrive/flower_train_test/train\"\n",
        "test_dir = \"/content/drive/MyDrive/flower_train_test/test\""
      ],
      "metadata": {
        "id": "ZNgStaHJ5zWy"
      },
      "execution_count": 10,
      "outputs": []
    },
    {
      "cell_type": "code",
      "source": [
        "def load_images_and_labels(root_dir, subfolders):\n",
        "    images = []\n",
        "    labels = []\n",
        "    for label, subfolder in enumerate(subfolders):\n",
        "        folder_path = os.path.join(root_dir, subfolder)\n",
        "        for filename in os.listdir(folder_path):\n",
        "            image_path = os.path.join(folder_path, filename)\n",
        "            image = cv2.imread(image_path)\n",
        "            image = cv2.resize(image, (32, 32))  # 이미지 크기 조정\n",
        "            images.append(image)\n",
        "            labels.append(label)\n",
        "    return images, labels\n",
        "\n",
        "labels = ['daisy', 'dandelion', 'roses', 'sunflowers', 'tulips']\n",
        "\n",
        "train_images, train_labels = load_images_and_labels(train_dir, labels)\n",
        "test_images, test_labels = load_images_and_labels(test_dir, labels)"
      ],
      "metadata": {
        "id": "dgi1jOui54nI"
      },
      "execution_count": 12,
      "outputs": []
    },
    {
      "cell_type": "code",
      "source": [
        "train_images = np.array(train_images)\n",
        "train_labels = np.array(train_labels)\n",
        "test_images = np.array(test_images)\n",
        "test_labels = np.array(test_labels)"
      ],
      "metadata": {
        "id": "Czdo1tjx54pB"
      },
      "execution_count": 13,
      "outputs": []
    },
    {
      "cell_type": "code",
      "source": [
        "class CFG:\n",
        "    num_classes = 10\n",
        "    input_shape = (32, 32, 3)\n",
        "    learning_rate = 0.001\n",
        "    weight_decay = 0.0001\n",
        "    batch_size = 256\n",
        "    num_epochs = 100\n",
        "    image_size = 32\n",
        "    obj_image_size = 32\n",
        "    patch_size = 4\n",
        "    num_patches = (image_size // patch_size) ** 2\n",
        "    projection_dim = 64\n",
        "    num_heads = 8\n",
        "    transformer_layers = 2\n",
        "\n",
        "CFG = CFG()\n",
        "optimizer = tfa.optimizers.AdamW(learning_rate = CFG.learning_rate, weight_decay=CFG.weight_decay)"
      ],
      "metadata": {
        "id": "yj7FVJ6F59nR"
      },
      "execution_count": 14,
      "outputs": []
    },
    {
      "cell_type": "code",
      "source": [
        "model_vit = ImageTransformer(CFG.image_size, CFG.patch_size, CFG.num_classes, CFG.batch_size, CFG.projection_dim, CFG.transformer_layers, CFG.num_heads, CFG.projection_dim)\n",
        "model_vit.compile(\n",
        "        optimizer=optimizer,\n",
        "        loss=tensorflow.keras.losses.SparseCategoricalCrossentropy(from_logits=True),\n",
        "        metrics=[tensorflow.keras.metrics.SparseCategoricalAccuracy(name=\"accuracy\")])"
      ],
      "metadata": {
        "id": "Jph7Loah59pi"
      },
      "execution_count": 15,
      "outputs": []
    },
    {
      "cell_type": "code",
      "source": [
        "results = model_vit.fit(x=train_images, y=train_labels, batch_size=CFG.batch_size, epochs=CFG.num_epochs, validation_data=(test_images, test_labels), shuffle=True)\n",
        "print('==============Training Finished===============')"
      ],
      "metadata": {
        "colab": {
          "base_uri": "https://localhost:8080/"
        },
        "id": "29tqAh6u6A34",
        "outputId": "c8525ace-202a-43fc-e000-bfd449237c50"
      },
      "execution_count": 16,
      "outputs": [
        {
          "output_type": "stream",
          "name": "stdout",
          "text": [
            "Epoch 1/100\n",
            "12/12 [==============================] - 9s 135ms/step - loss: 2.2907 - accuracy: 0.2151 - val_loss: 1.5031 - val_accuracy: 0.3234\n",
            "Epoch 2/100\n",
            "12/12 [==============================] - 1s 51ms/step - loss: 1.8956 - accuracy: 0.2563 - val_loss: 1.4315 - val_accuracy: 0.3750\n",
            "Epoch 3/100\n",
            "12/12 [==============================] - 1s 49ms/step - loss: 1.6964 - accuracy: 0.3170 - val_loss: 1.3246 - val_accuracy: 0.4348\n",
            "Epoch 4/100\n",
            "12/12 [==============================] - 1s 55ms/step - loss: 1.5589 - accuracy: 0.3606 - val_loss: 1.2969 - val_accuracy: 0.4144\n",
            "Epoch 5/100\n",
            "12/12 [==============================] - 1s 50ms/step - loss: 1.4604 - accuracy: 0.3988 - val_loss: 1.2788 - val_accuracy: 0.4226\n",
            "Epoch 6/100\n",
            "12/12 [==============================] - 1s 49ms/step - loss: 1.3968 - accuracy: 0.4346 - val_loss: 1.2187 - val_accuracy: 0.4552\n",
            "Epoch 7/100\n",
            "12/12 [==============================] - 1s 49ms/step - loss: 1.3547 - accuracy: 0.4363 - val_loss: 1.1893 - val_accuracy: 0.5000\n",
            "Epoch 8/100\n",
            "12/12 [==============================] - 1s 50ms/step - loss: 1.2978 - accuracy: 0.4710 - val_loss: 1.1500 - val_accuracy: 0.5190\n",
            "Epoch 9/100\n",
            "12/12 [==============================] - 1s 51ms/step - loss: 1.2598 - accuracy: 0.4884 - val_loss: 1.1035 - val_accuracy: 0.5380\n",
            "Epoch 10/100\n",
            "12/12 [==============================] - 1s 49ms/step - loss: 1.1909 - accuracy: 0.5211 - val_loss: 1.0724 - val_accuracy: 0.5557\n",
            "Epoch 11/100\n",
            "12/12 [==============================] - 1s 51ms/step - loss: 1.1583 - accuracy: 0.5399 - val_loss: 1.0827 - val_accuracy: 0.5571\n",
            "Epoch 12/100\n",
            "12/12 [==============================] - 1s 49ms/step - loss: 1.1071 - accuracy: 0.5603 - val_loss: 1.0596 - val_accuracy: 0.5516\n",
            "Epoch 13/100\n",
            "12/12 [==============================] - 1s 51ms/step - loss: 1.0571 - accuracy: 0.5838 - val_loss: 1.0492 - val_accuracy: 0.5734\n",
            "Epoch 14/100\n",
            "12/12 [==============================] - 1s 51ms/step - loss: 1.0646 - accuracy: 0.5941 - val_loss: 1.0212 - val_accuracy: 0.5829\n",
            "Epoch 15/100\n",
            "12/12 [==============================] - 1s 51ms/step - loss: 1.0352 - accuracy: 0.5808 - val_loss: 1.0115 - val_accuracy: 0.5842\n",
            "Epoch 16/100\n",
            "12/12 [==============================] - 1s 59ms/step - loss: 0.9764 - accuracy: 0.6264 - val_loss: 0.9943 - val_accuracy: 0.6005\n",
            "Epoch 17/100\n",
            "12/12 [==============================] - 1s 73ms/step - loss: 0.9528 - accuracy: 0.6350 - val_loss: 1.0026 - val_accuracy: 0.5978\n",
            "Epoch 18/100\n",
            "12/12 [==============================] - 1s 75ms/step - loss: 0.9288 - accuracy: 0.6387 - val_loss: 0.9982 - val_accuracy: 0.6019\n",
            "Epoch 19/100\n",
            "12/12 [==============================] - 1s 76ms/step - loss: 0.9131 - accuracy: 0.6534 - val_loss: 0.9967 - val_accuracy: 0.6046\n",
            "Epoch 20/100\n",
            "12/12 [==============================] - 1s 74ms/step - loss: 0.8826 - accuracy: 0.6605 - val_loss: 0.9873 - val_accuracy: 0.6046\n",
            "Epoch 21/100\n",
            "12/12 [==============================] - 1s 64ms/step - loss: 0.8596 - accuracy: 0.6708 - val_loss: 0.9942 - val_accuracy: 0.6155\n",
            "Epoch 22/100\n",
            "12/12 [==============================] - 1s 50ms/step - loss: 0.8399 - accuracy: 0.6851 - val_loss: 1.0297 - val_accuracy: 0.5951\n",
            "Epoch 23/100\n",
            "12/12 [==============================] - 1s 51ms/step - loss: 0.8356 - accuracy: 0.6885 - val_loss: 0.9915 - val_accuracy: 0.6128\n",
            "Epoch 24/100\n",
            "12/12 [==============================] - 1s 50ms/step - loss: 0.8147 - accuracy: 0.6950 - val_loss: 0.9910 - val_accuracy: 0.6209\n",
            "Epoch 25/100\n",
            "12/12 [==============================] - 1s 49ms/step - loss: 0.7583 - accuracy: 0.7246 - val_loss: 1.0053 - val_accuracy: 0.6073\n",
            "Epoch 26/100\n",
            "12/12 [==============================] - 1s 56ms/step - loss: 0.7344 - accuracy: 0.7239 - val_loss: 1.0319 - val_accuracy: 0.6033\n",
            "Epoch 27/100\n",
            "12/12 [==============================] - 1s 48ms/step - loss: 0.7183 - accuracy: 0.7335 - val_loss: 1.0079 - val_accuracy: 0.6128\n",
            "Epoch 28/100\n",
            "12/12 [==============================] - 1s 52ms/step - loss: 0.6940 - accuracy: 0.7444 - val_loss: 1.0553 - val_accuracy: 0.5978\n",
            "Epoch 29/100\n",
            "12/12 [==============================] - 1s 50ms/step - loss: 0.6873 - accuracy: 0.7396 - val_loss: 1.0674 - val_accuracy: 0.6209\n",
            "Epoch 30/100\n",
            "12/12 [==============================] - 1s 48ms/step - loss: 0.6871 - accuracy: 0.7468 - val_loss: 1.0631 - val_accuracy: 0.5951\n",
            "Epoch 31/100\n",
            "12/12 [==============================] - 1s 50ms/step - loss: 0.6500 - accuracy: 0.7648 - val_loss: 1.0733 - val_accuracy: 0.6101\n",
            "Epoch 32/100\n",
            "12/12 [==============================] - 1s 50ms/step - loss: 0.6144 - accuracy: 0.7785 - val_loss: 1.1151 - val_accuracy: 0.6060\n",
            "Epoch 33/100\n",
            "12/12 [==============================] - 1s 50ms/step - loss: 0.5830 - accuracy: 0.7863 - val_loss: 1.1258 - val_accuracy: 0.5938\n",
            "Epoch 34/100\n",
            "12/12 [==============================] - 1s 51ms/step - loss: 0.5515 - accuracy: 0.7975 - val_loss: 1.1392 - val_accuracy: 0.6223\n",
            "Epoch 35/100\n",
            "12/12 [==============================] - 1s 58ms/step - loss: 0.5307 - accuracy: 0.8112 - val_loss: 1.1885 - val_accuracy: 0.6087\n",
            "Epoch 36/100\n",
            "12/12 [==============================] - 1s 58ms/step - loss: 0.5107 - accuracy: 0.8122 - val_loss: 1.2228 - val_accuracy: 0.6196\n",
            "Epoch 37/100\n",
            "12/12 [==============================] - 1s 51ms/step - loss: 0.4937 - accuracy: 0.8333 - val_loss: 1.3113 - val_accuracy: 0.5938\n",
            "Epoch 38/100\n",
            "12/12 [==============================] - 1s 97ms/step - loss: 0.4868 - accuracy: 0.8279 - val_loss: 1.2582 - val_accuracy: 0.5951\n",
            "Epoch 39/100\n",
            "12/12 [==============================] - 2s 171ms/step - loss: 0.4541 - accuracy: 0.8361 - val_loss: 1.2616 - val_accuracy: 0.6277\n",
            "Epoch 40/100\n",
            "12/12 [==============================] - 2s 143ms/step - loss: 0.4256 - accuracy: 0.8521 - val_loss: 1.2605 - val_accuracy: 0.6182\n",
            "Epoch 41/100\n",
            "12/12 [==============================] - 1s 94ms/step - loss: 0.4070 - accuracy: 0.8592 - val_loss: 1.3152 - val_accuracy: 0.6182\n",
            "Epoch 42/100\n",
            "12/12 [==============================] - 1s 55ms/step - loss: 0.3736 - accuracy: 0.8793 - val_loss: 1.3385 - val_accuracy: 0.6101\n",
            "Epoch 43/100\n",
            "12/12 [==============================] - 1s 49ms/step - loss: 0.3446 - accuracy: 0.8889 - val_loss: 1.4216 - val_accuracy: 0.5938\n",
            "Epoch 44/100\n",
            "12/12 [==============================] - 1s 49ms/step - loss: 0.3359 - accuracy: 0.8899 - val_loss: 1.4360 - val_accuracy: 0.6209\n",
            "Epoch 45/100\n",
            "12/12 [==============================] - 1s 49ms/step - loss: 0.3338 - accuracy: 0.8906 - val_loss: 1.4672 - val_accuracy: 0.6046\n",
            "Epoch 46/100\n",
            "12/12 [==============================] - 1s 50ms/step - loss: 0.3117 - accuracy: 0.9015 - val_loss: 1.4679 - val_accuracy: 0.6060\n",
            "Epoch 47/100\n",
            "12/12 [==============================] - 1s 50ms/step - loss: 0.3016 - accuracy: 0.8964 - val_loss: 1.5230 - val_accuracy: 0.6223\n",
            "Epoch 48/100\n",
            "12/12 [==============================] - 1s 49ms/step - loss: 0.3022 - accuracy: 0.8991 - val_loss: 1.5944 - val_accuracy: 0.6033\n",
            "Epoch 49/100\n",
            "12/12 [==============================] - 1s 50ms/step - loss: 0.3337 - accuracy: 0.8885 - val_loss: 1.5470 - val_accuracy: 0.5992\n",
            "Epoch 50/100\n",
            "12/12 [==============================] - 1s 50ms/step - loss: 0.2896 - accuracy: 0.9025 - val_loss: 1.6026 - val_accuracy: 0.6155\n",
            "Epoch 51/100\n",
            "12/12 [==============================] - 1s 53ms/step - loss: 0.2470 - accuracy: 0.9192 - val_loss: 1.6741 - val_accuracy: 0.6046\n",
            "Epoch 52/100\n",
            "12/12 [==============================] - 1s 50ms/step - loss: 0.2174 - accuracy: 0.9315 - val_loss: 1.6820 - val_accuracy: 0.6101\n",
            "Epoch 53/100\n",
            "12/12 [==============================] - 1s 50ms/step - loss: 0.2023 - accuracy: 0.9373 - val_loss: 1.7088 - val_accuracy: 0.6182\n",
            "Epoch 54/100\n",
            "12/12 [==============================] - 1s 50ms/step - loss: 0.2154 - accuracy: 0.9335 - val_loss: 1.9040 - val_accuracy: 0.5870\n",
            "Epoch 55/100\n",
            "12/12 [==============================] - 1s 50ms/step - loss: 0.2049 - accuracy: 0.9346 - val_loss: 1.8680 - val_accuracy: 0.5815\n",
            "Epoch 56/100\n",
            "12/12 [==============================] - 1s 59ms/step - loss: 0.1953 - accuracy: 0.9417 - val_loss: 1.8492 - val_accuracy: 0.6019\n",
            "Epoch 57/100\n",
            "12/12 [==============================] - 1s 77ms/step - loss: 0.1584 - accuracy: 0.9461 - val_loss: 1.8329 - val_accuracy: 0.6019\n",
            "Epoch 58/100\n",
            "12/12 [==============================] - 1s 71ms/step - loss: 0.1569 - accuracy: 0.9479 - val_loss: 1.8489 - val_accuracy: 0.6046\n",
            "Epoch 59/100\n",
            "12/12 [==============================] - 1s 72ms/step - loss: 0.1638 - accuracy: 0.9472 - val_loss: 1.9048 - val_accuracy: 0.5951\n",
            "Epoch 60/100\n",
            "12/12 [==============================] - 1s 73ms/step - loss: 0.1463 - accuracy: 0.9560 - val_loss: 1.9674 - val_accuracy: 0.5829\n",
            "Epoch 61/100\n",
            "12/12 [==============================] - 1s 60ms/step - loss: 0.1432 - accuracy: 0.9530 - val_loss: 1.9030 - val_accuracy: 0.6155\n",
            "Epoch 62/100\n",
            "12/12 [==============================] - 1s 51ms/step - loss: 0.1321 - accuracy: 0.9598 - val_loss: 1.9960 - val_accuracy: 0.5856\n",
            "Epoch 63/100\n",
            "12/12 [==============================] - 1s 49ms/step - loss: 0.1143 - accuracy: 0.9673 - val_loss: 2.0114 - val_accuracy: 0.5870\n",
            "Epoch 64/100\n",
            "12/12 [==============================] - 1s 51ms/step - loss: 0.0983 - accuracy: 0.9707 - val_loss: 1.9964 - val_accuracy: 0.6087\n",
            "Epoch 65/100\n",
            "12/12 [==============================] - 1s 55ms/step - loss: 0.1083 - accuracy: 0.9700 - val_loss: 2.0520 - val_accuracy: 0.6033\n",
            "Epoch 66/100\n",
            "12/12 [==============================] - 1s 51ms/step - loss: 0.1026 - accuracy: 0.9680 - val_loss: 2.1090 - val_accuracy: 0.5870\n",
            "Epoch 67/100\n",
            "12/12 [==============================] - 1s 57ms/step - loss: 0.1365 - accuracy: 0.9550 - val_loss: 2.1398 - val_accuracy: 0.6114\n",
            "Epoch 68/100\n",
            "12/12 [==============================] - 1s 51ms/step - loss: 0.1526 - accuracy: 0.9530 - val_loss: 2.0877 - val_accuracy: 0.5856\n",
            "Epoch 69/100\n",
            "12/12 [==============================] - 1s 52ms/step - loss: 0.1442 - accuracy: 0.9502 - val_loss: 2.1369 - val_accuracy: 0.6060\n",
            "Epoch 70/100\n",
            "12/12 [==============================] - 1s 52ms/step - loss: 0.1303 - accuracy: 0.9543 - val_loss: 2.1061 - val_accuracy: 0.5883\n",
            "Epoch 71/100\n",
            "12/12 [==============================] - 1s 51ms/step - loss: 0.1003 - accuracy: 0.9738 - val_loss: 2.1538 - val_accuracy: 0.6073\n",
            "Epoch 72/100\n",
            "12/12 [==============================] - 1s 59ms/step - loss: 0.0873 - accuracy: 0.9738 - val_loss: 2.1590 - val_accuracy: 0.6141\n",
            "Epoch 73/100\n",
            "12/12 [==============================] - 1s 56ms/step - loss: 0.0717 - accuracy: 0.9778 - val_loss: 2.1444 - val_accuracy: 0.5965\n",
            "Epoch 74/100\n",
            "12/12 [==============================] - 1s 51ms/step - loss: 0.0648 - accuracy: 0.9833 - val_loss: 2.1941 - val_accuracy: 0.5870\n",
            "Epoch 75/100\n",
            "12/12 [==============================] - 1s 58ms/step - loss: 0.0603 - accuracy: 0.9840 - val_loss: 2.2105 - val_accuracy: 0.6087\n",
            "Epoch 76/100\n",
            "12/12 [==============================] - 1s 50ms/step - loss: 0.0502 - accuracy: 0.9877 - val_loss: 2.2088 - val_accuracy: 0.6128\n",
            "Epoch 77/100\n",
            "12/12 [==============================] - 1s 68ms/step - loss: 0.0629 - accuracy: 0.9840 - val_loss: 2.2666 - val_accuracy: 0.6033\n",
            "Epoch 78/100\n",
            "12/12 [==============================] - 1s 75ms/step - loss: 0.0461 - accuracy: 0.9874 - val_loss: 2.3328 - val_accuracy: 0.6019\n",
            "Epoch 79/100\n",
            "12/12 [==============================] - 1s 76ms/step - loss: 0.0400 - accuracy: 0.9925 - val_loss: 2.3307 - val_accuracy: 0.6046\n",
            "Epoch 80/100\n",
            "12/12 [==============================] - 1s 76ms/step - loss: 0.0452 - accuracy: 0.9901 - val_loss: 2.4034 - val_accuracy: 0.5870\n",
            "Epoch 81/100\n",
            "12/12 [==============================] - 1s 72ms/step - loss: 0.0497 - accuracy: 0.9857 - val_loss: 2.4798 - val_accuracy: 0.5870\n",
            "Epoch 82/100\n",
            "12/12 [==============================] - 1s 53ms/step - loss: 0.0495 - accuracy: 0.9850 - val_loss: 2.5078 - val_accuracy: 0.5829\n",
            "Epoch 83/100\n",
            "12/12 [==============================] - 1s 51ms/step - loss: 0.0557 - accuracy: 0.9847 - val_loss: 2.3611 - val_accuracy: 0.6141\n",
            "Epoch 84/100\n",
            "12/12 [==============================] - 1s 50ms/step - loss: 0.0698 - accuracy: 0.9782 - val_loss: 2.5560 - val_accuracy: 0.5815\n",
            "Epoch 85/100\n",
            "12/12 [==============================] - 1s 58ms/step - loss: 0.0790 - accuracy: 0.9741 - val_loss: 2.4415 - val_accuracy: 0.5856\n",
            "Epoch 86/100\n",
            "12/12 [==============================] - 1s 50ms/step - loss: 0.0729 - accuracy: 0.9758 - val_loss: 2.4153 - val_accuracy: 0.5951\n",
            "Epoch 87/100\n",
            "12/12 [==============================] - 1s 50ms/step - loss: 0.0760 - accuracy: 0.9741 - val_loss: 2.4082 - val_accuracy: 0.5897\n",
            "Epoch 88/100\n",
            "12/12 [==============================] - 1s 52ms/step - loss: 0.0774 - accuracy: 0.9758 - val_loss: 2.4779 - val_accuracy: 0.5815\n",
            "Epoch 89/100\n",
            "12/12 [==============================] - 1s 51ms/step - loss: 0.0777 - accuracy: 0.9778 - val_loss: 2.4632 - val_accuracy: 0.5883\n",
            "Epoch 90/100\n",
            "12/12 [==============================] - 1s 57ms/step - loss: 0.0500 - accuracy: 0.9867 - val_loss: 2.4610 - val_accuracy: 0.5938\n",
            "Epoch 91/100\n",
            "12/12 [==============================] - 1s 57ms/step - loss: 0.0498 - accuracy: 0.9850 - val_loss: 2.4800 - val_accuracy: 0.5856\n",
            "Epoch 92/100\n",
            "12/12 [==============================] - 1s 50ms/step - loss: 0.0493 - accuracy: 0.9853 - val_loss: 2.5599 - val_accuracy: 0.5910\n",
            "Epoch 93/100\n",
            "12/12 [==============================] - 1s 56ms/step - loss: 0.0534 - accuracy: 0.9840 - val_loss: 2.4302 - val_accuracy: 0.5965\n",
            "Epoch 94/100\n",
            "12/12 [==============================] - 1s 51ms/step - loss: 0.0410 - accuracy: 0.9905 - val_loss: 2.4359 - val_accuracy: 0.6033\n",
            "Epoch 95/100\n",
            "12/12 [==============================] - 1s 52ms/step - loss: 0.0412 - accuracy: 0.9877 - val_loss: 2.5048 - val_accuracy: 0.5856\n",
            "Epoch 96/100\n",
            "12/12 [==============================] - 1s 49ms/step - loss: 0.0455 - accuracy: 0.9870 - val_loss: 2.5628 - val_accuracy: 0.5747\n",
            "Epoch 97/100\n",
            "12/12 [==============================] - 1s 51ms/step - loss: 0.0505 - accuracy: 0.9864 - val_loss: 2.6041 - val_accuracy: 0.5951\n",
            "Epoch 98/100\n",
            "12/12 [==============================] - 1s 69ms/step - loss: 0.0409 - accuracy: 0.9888 - val_loss: 2.6092 - val_accuracy: 0.5883\n",
            "Epoch 99/100\n",
            "12/12 [==============================] - 1s 75ms/step - loss: 0.0350 - accuracy: 0.9908 - val_loss: 2.6332 - val_accuracy: 0.5870\n",
            "Epoch 100/100\n",
            "12/12 [==============================] - 1s 79ms/step - loss: 0.0297 - accuracy: 0.9918 - val_loss: 2.5977 - val_accuracy: 0.5965\n",
            "==============Training Finished===============\n"
          ]
        }
      ]
    },
    {
      "cell_type": "code",
      "source": [
        "loss, accuracy = model_vit.evaluate(test_images, test_labels)\n",
        "print(f\"테스트 데이터셋 손실: {loss:.4f}, 정확도: {accuracy:.4f}\")"
      ],
      "metadata": {
        "colab": {
          "base_uri": "https://localhost:8080/"
        },
        "id": "tXEf2lbx6A5u",
        "outputId": "eff15199-59a3-40d8-a237-a499c8a4fdbc"
      },
      "execution_count": 17,
      "outputs": [
        {
          "output_type": "stream",
          "name": "stdout",
          "text": [
            "23/23 [==============================] - 0s 10ms/step - loss: 2.5977 - accuracy: 0.5965\n",
            "테스트 데이터셋 손실: 2.5977, 정확도: 0.5965\n"
          ]
        }
      ]
    },
    {
      "cell_type": "code",
      "source": [
        "import matplotlib.pyplot as plt\n",
        "\n",
        "# summarize history for accuracy\n",
        "plt.plot(results.history['accuracy'])\n",
        "plt.title('model accuracy')\n",
        "plt.ylabel('accuracy')\n",
        "plt.xlabel('epoch')\n",
        "plt.legend(['train', 'test'], loc='upper left')\n",
        "plt.show()\n",
        "\n",
        "# summarize history for loss\n",
        "plt.plot(results.history['loss'])\n",
        "plt.title('model loss')\n",
        "plt.ylabel('loss')\n",
        "plt.xlabel('epoch')\n",
        "plt.legend(['train', 'test'], loc='upper left')\n",
        "plt.show()"
      ],
      "metadata": {
        "colab": {
          "base_uri": "https://localhost:8080/",
          "height": 927
        },
        "id": "sVpi5whM6PM-",
        "outputId": "240bf113-9ab2-4613-990d-6a76b9145d09"
      },
      "execution_count": 18,
      "outputs": [
        {
          "output_type": "display_data",
          "data": {
            "text/plain": [
              "<Figure size 640x480 with 1 Axes>"
            ],
            "image/png": "[encoded data removed]"
          },
          "metadata": {}
        },
        {
          "output_type": "display_data",
          "data": {
            "text/plain": [
              "<Figure size 640x480 with 1 Axes>"
            ],
            "image/png": "[encoded data removed]"
          },
          "metadata": {}
        }
      ]
    }
  ]
}