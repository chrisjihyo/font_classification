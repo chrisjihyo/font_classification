{
 "cells": [
  {
   "cell_type": "code",
   "execution_count": 1,
   "id": "4dd80701",
   "metadata": {},
   "outputs": [],
   "source": [
    "import tensorflow as tf\n",
    "from keras import layers, models\n",
    "\n",
    "def VGGNet():\n",
    "    model = models.Sequential()\n",
    "\n",
    "    model.add(layers.Conv2D(64, (3, 3), activation='relu', padding='same', input_shape=(224, 224, 3)))\n",
    "    model.add(layers.Conv2D(64, (3, 3), activation='relu', padding='same'))\n",
    "    model.add(layers.MaxPooling2D((2, 2), strides=(2, 2)))\n",
    "\n",
    "    model.add(layers.Conv2D(128, (3, 3), activation='relu', padding='same'))\n",
    "    model.add(layers.Conv2D(128, (3, 3), activation='relu', padding='same'))\n",
    "    model.add(layers.MaxPooling2D((2, 2), strides=(2, 2)))\n",
    "\n",
    "    model.add(layers.Conv2D(256, (3, 3), activation='relu', padding='same'))\n",
    "    model.add(layers.Conv2D(256, (3, 3), activation='relu', padding='same'))\n",
    "    model.add(layers.Conv2D(256, (3, 3), activation='relu', padding='same'))\n",
    "    model.add(layers.MaxPooling2D((2, 2), strides=(2, 2)))\n",
    "\n",
    "    model.add(layers.Conv2D(512, (3, 3), activation='relu', padding='same'))\n",
    "    model.add(layers.Conv2D(512, (3, 3), activation='relu', padding='same'))\n",
    "    model.add(layers.Conv2D(512, (3, 3), activation='relu', padding='same'))\n",
    "    model.add(layers.MaxPooling2D((2, 2), strides=(2, 2)))\n",
    "\n",
    "    model.add(layers.Conv2D(512, (3, 3), activation='relu', padding='same'))\n",
    "    model.add(layers.Conv2D(512, (3, 3), activation='relu', padding='same'))\n",
    "    model.add(layers.Conv2D(512, (3, 3), activation='relu', padding='same'))\n",
    "    model.add(layers.MaxPooling2D((2, 2), strides=(2, 2)))\n",
    "\n",
    "    model.add(layers.Flatten())\n",
    "    model.add(layers.Dense(4096, activation='relu'))\n",
    "    model.add(layers.Dense(4096, activation='relu'))\n",
    "    model.add(layers.Dense(9, activation='softmax')) # Assuming 1000 classes in the dataset\n",
    "\n",
    "    return model"
   ]
  },
  {
   "cell_type": "code",
   "execution_count": 2,
   "id": "a3ad1e23",
   "metadata": {},
   "outputs": [],
   "source": [
    "# 데이터 경로 설정\n",
    "data_dir = r\"C:\\Users\\angel\\Desktop\\font_original_9\"\n",
    "train_dir = r\"C:\\Users\\angel\\Desktop\\font_classifier_9\\train\"\n",
    "test_dir = r\"C:\\Users\\angel\\Desktop\\font_classifier_9\\test\""
   ]
  },
  {
   "cell_type": "code",
   "execution_count": 3,
   "id": "4f5b10aa",
   "metadata": {},
   "outputs": [
    {
     "name": "stdout",
     "output_type": "stream",
     "text": [
      "Found 50274 images belonging to 9 classes.\n"
     ]
    }
   ],
   "source": [
    "import numpy as np\n",
    "from keras.preprocessing.image import ImageDataGenerator\n",
    "\n",
    "# 이미지 데이터를 불러오기 위한 ImageDataGenerator 설정\n",
    "datagen = ImageDataGenerator(rescale=1./255)\n",
    "train_generator = datagen.flow_from_directory(\n",
    "    train_dir,\n",
    "    target_size=(224, 224),\n",
    "    batch_size=32,\n",
    "    class_mode='categorical'\n",
    ")"
   ]
  },
  {
   "cell_type": "code",
   "execution_count": 4,
   "id": "d5e14c64",
   "metadata": {},
   "outputs": [],
   "source": [
    "# VGGNet 모델 생성\n",
    "model = VGGNet()\n",
    "model.compile(optimizer='adam',\n",
    "              loss='categorical_crossentropy',\n",
    "              metrics=['accuracy'])"
   ]
  },
  {
   "cell_type": "code",
   "execution_count": 5,
   "id": "f9cd3f00",
   "metadata": {},
   "outputs": [
    {
     "name": "stdout",
     "output_type": "stream",
     "text": [
      "Epoch 1/10\n",
      "40/40 [==============================] - 784s 19s/step - loss: 2.3588 - accuracy: 0.0992\n",
      "Epoch 2/10\n",
      "40/40 [==============================] - 789s 20s/step - loss: 2.1986 - accuracy: 0.0961\n",
      "Epoch 3/10\n",
      "40/40 [==============================] - 813s 20s/step - loss: 2.1988 - accuracy: 0.1056\n",
      "Epoch 4/10\n",
      "40/40 [==============================] - 765s 19s/step - loss: 2.1972 - accuracy: 0.1156\n",
      "Epoch 5/10\n",
      "40/40 [==============================] - 756s 19s/step - loss: 2.1966 - accuracy: 0.1297\n",
      "Epoch 6/10\n",
      "40/40 [==============================] - 775s 19s/step - loss: 2.1988 - accuracy: 0.0984\n",
      "Epoch 7/10\n",
      "40/40 [==============================] - 736s 18s/step - loss: 2.1968 - accuracy: 0.1078\n",
      "Epoch 8/10\n",
      "40/40 [==============================] - 726s 18s/step - loss: 2.1971 - accuracy: 0.1219\n",
      "Epoch 9/10\n",
      "40/40 [==============================] - 727s 18s/step - loss: 2.1969 - accuracy: 0.1219\n",
      "Epoch 10/10\n",
      "40/40 [==============================] - 839s 21s/step - loss: 2.1966 - accuracy: 0.1227\n"
     ]
    },
    {
     "data": {
      "text/plain": [
       "<keras.src.callbacks.History at 0x153f4f8d880>"
      ]
     },
     "execution_count": 5,
     "metadata": {},
     "output_type": "execute_result"
    }
   ],
   "source": [
    "# 모델 학습\n",
    "model.fit(train_generator, steps_per_epoch=40, epochs=10)"
   ]
  },
  {
   "cell_type": "code",
   "execution_count": 6,
   "id": "306408ea",
   "metadata": {},
   "outputs": [
    {
     "name": "stdout",
     "output_type": "stream",
     "text": [
      "Found 30168 images belonging to 9 classes.\n"
     ]
    }
   ],
   "source": [
    "\n",
    "# 테스트 데이터셋 불러오기\n",
    "test_generator = datagen.flow_from_directory(\n",
    "    test_dir,\n",
    "    target_size=(224, 224),\n",
    "    batch_size=32,\n",
    "    class_mode='categorical',\n",
    "    shuffle=False  # 테스트 데이터셋은 섞지 않도록 설정\n",
    ")"
   ]
  },
  {
   "cell_type": "code",
   "execution_count": 8,
   "id": "c99915be",
   "metadata": {},
   "outputs": [
    {
     "name": "stdout",
     "output_type": "stream",
     "text": [
      "100/100 [==============================] - 391s 4s/step - loss: 2.1601 - accuracy: 0.0000e+00\n",
      "테스트 데이터셋 손실: 2.1601, 정확도: 0.0000\n"
     ]
    }
   ],
   "source": [
    "# 모델 평가\n",
    "loss, accuracy = model.evaluate(test_generator, steps=100)\n",
    "print(f\"테스트 데이터셋 손실: {loss:.4f}, 정확도: {accuracy:.4f}\")"
   ]
  }
 ],
 "metadata": {
  "kernelspec": {
   "display_name": "Python 3 (ipykernel)",
   "language": "python",
   "name": "python3"
  },
  "language_info": {
   "codemirror_mode": {
    "name": "ipython",
    "version": 3
   },
   "file_extension": ".py",
   "mimetype": "text/x-python",
   "name": "python",
   "nbconvert_exporter": "python",
   "pygments_lexer": "ipython3",
   "version": "3.9.13"
  }
 },
 "nbformat": 4,
 "nbformat_minor": 5
}
