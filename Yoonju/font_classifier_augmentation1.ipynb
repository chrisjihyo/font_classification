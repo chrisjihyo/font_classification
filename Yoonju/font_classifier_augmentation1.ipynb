{
 "cells": [
  {
   "cell_type": "code",
   "execution_count": 1,
   "id": "475d8c4c",
   "metadata": {},
   "outputs": [],
   "source": [
    "from keras.preprocessing.image import ImageDataGenerator\n",
    "\n",
    "from keras.utils import np_utils\n",
    "from keras.models import Sequential\n",
    "from keras.utils import array_to_img, img_to_array, load_img\n",
    "from keras.layers import *\n",
    "from keras.callbacks import ModelCheckpoint, EarlyStopping\n",
    "\n",
    "import os\n",
    "import pandas as pd\n",
    "import numpy as np\n",
    "\n",
    "from sklearn.metrics import accuracy_score"
   ]
  },
  {
   "cell_type": "code",
   "execution_count": 2,
   "id": "c158437d",
   "metadata": {},
   "outputs": [],
   "source": [
    "path = r\"C:\\\\Users\\\\USER\\\\Desktop\\\\font_original\" #원본 이미지 경로 \n",
    "copy_path = r\"C:\\\\Users\\\\USER\\\\Desktop\\\\font_classifier\" #복사 및 분류된 이미지 경로\n",
    "#font_classifier 안에 모든 글꼴 이미지들이 다 저장되어 있음 (따로 하위폴더 없음)\n",
    "#노트북 경로"
   ]
  },
  {
   "cell_type": "markdown",
   "id": "faf8e601",
   "metadata": {},
   "source": [
    "### 데이터셋 준비"
   ]
  },
  {
   "cell_type": "code",
   "execution_count": 3,
   "id": "cc571bb2",
   "metadata": {},
   "outputs": [
    {
     "name": "stderr",
     "output_type": "stream",
     "text": [
      "Copying files: 55860 files [02:43, 342.56 files/s]\n"
     ]
    }
   ],
   "source": [
    "import splitfolders\n",
    "\n",
    "splitfolders.ratio(path, output=copy_path, seed = 43, ratio = (.5,.2,.3))"
   ]
  },
  {
   "cell_type": "code",
   "execution_count": 4,
   "id": "5578965a",
   "metadata": {},
   "outputs": [
    {
     "name": "stdout",
     "output_type": "stream",
     "text": [
      "5\n",
      "5\n",
      "5\n"
     ]
    }
   ],
   "source": [
    "print(len(os.listdir(copy_path + '\\\\val')))\n",
    "print(len(os.listdir(copy_path + '\\\\train')))\n",
    "print(len(os.listdir(copy_path + '\\\\test')))"
   ]
  },
  {
   "cell_type": "markdown",
   "id": "88be1942",
   "metadata": {},
   "source": [
    "### 데이터셋 정형화"
   ]
  },
  {
   "cell_type": "code",
   "execution_count": 5,
   "id": "10c5ffa5",
   "metadata": {},
   "outputs": [],
   "source": [
    "trainDataGen = ImageDataGenerator(rescale=1./255)"
   ]
  },
  {
   "cell_type": "code",
   "execution_count": 6,
   "id": "b7a60c19",
   "metadata": {},
   "outputs": [],
   "source": [
    "currentPath = copy_path + '\\\\train'"
   ]
  },
  {
   "cell_type": "code",
   "execution_count": 7,
   "id": "db494bc0",
   "metadata": {},
   "outputs": [
    {
     "name": "stdout",
     "output_type": "stream",
     "text": [
      "Found 27930 images belonging to 5 classes.\n"
     ]
    }
   ],
   "source": [
    "trainGenSet = trainDataGen.flow_from_directory(\n",
    "    currentPath,\n",
    "    batch_size=64,\n",
    "    target_size=(28,28),\n",
    "    class_mode='categorical'\n",
    ")"
   ]
  },
  {
   "cell_type": "markdown",
   "id": "c1efebc5",
   "metadata": {},
   "source": [
    "-------------"
   ]
  },
  {
   "cell_type": "code",
   "execution_count": 8,
   "id": "011f857d",
   "metadata": {},
   "outputs": [],
   "source": [
    "valDataGen = ImageDataGenerator(rescale=1./255)"
   ]
  },
  {
   "cell_type": "code",
   "execution_count": 9,
   "id": "ebed0644",
   "metadata": {},
   "outputs": [],
   "source": [
    "currentPath = copy_path + '\\\\val'"
   ]
  },
  {
   "cell_type": "code",
   "execution_count": 10,
   "id": "c074a12e",
   "metadata": {},
   "outputs": [
    {
     "name": "stdout",
     "output_type": "stream",
     "text": [
      "Found 11170 images belonging to 5 classes.\n"
     ]
    }
   ],
   "source": [
    "valGenSet = valDataGen.flow_from_directory(\n",
    "    currentPath,\n",
    "    batch_size=64,\n",
    "    target_size=(28,28),\n",
    "    class_mode='categorical'\n",
    ")"
   ]
  },
  {
   "cell_type": "markdown",
   "id": "63275bc8",
   "metadata": {},
   "source": [
    "---------------------"
   ]
  },
  {
   "cell_type": "code",
   "execution_count": 22,
   "id": "00d5afc4",
   "metadata": {},
   "outputs": [],
   "source": [
    "testDataGen = ImageDataGenerator(rescale=1./255,\n",
    "                                 rotation_range = 30,\n",
    "                                 width_shift_range=0.1,\n",
    "                                 height_shift_range=0.1,\n",
    "                                 shear_range=0.2,\n",
    "                                 zoom_range=0.2,\n",
    "                                 horizontal_flip=False,\n",
    "                                 vertical_flip=False,\n",
    "                                 fill_mode='nearest'\n",
    "                                 )"
   ]
  },
  {
   "cell_type": "code",
   "execution_count": 23,
   "id": "f455d6c9",
   "metadata": {},
   "outputs": [],
   "source": [
    "currentPath = copy_path + '\\\\test'"
   ]
  },
  {
   "cell_type": "code",
   "execution_count": 24,
   "id": "0969d353",
   "metadata": {},
   "outputs": [
    {
     "name": "stdout",
     "output_type": "stream",
     "text": [
      "Found 16760 images belonging to 5 classes.\n"
     ]
    }
   ],
   "source": [
    "testGenSet = testDataGen.flow_from_directory(\n",
    "    currentPath,\n",
    "    batch_size=64,\n",
    "    target_size=(28,28),\n",
    "    class_mode='categorical'\n",
    ")"
   ]
  },
  {
   "cell_type": "markdown",
   "id": "6b5027a8",
   "metadata": {},
   "source": [
    "--------"
   ]
  },
  {
   "cell_type": "markdown",
   "id": "11720956",
   "metadata": {},
   "source": [
    "### 모델 구성"
   ]
  },
  {
   "cell_type": "code",
   "execution_count": 25,
   "id": "363e33cf",
   "metadata": {},
   "outputs": [],
   "source": [
    "# 모델 구성\n",
    "model = Sequential()\n",
    "model.add(Conv2D(64, kernel_size=(3,3), padding='same', input_shape=(28,28,3), activation='relu'))\n",
    "model.add(MaxPooling2D(pool_size=(2,2)))\n",
    "model.add(Dropout(0.2))\n",
    "    \n",
    "model.add(Conv2D(128, kernel_size=(3,3),padding='same', activation='relu'))\n",
    "model.add(MaxPooling2D(pool_size=(2,2)))\n",
    "model.add(Dropout(0.2))\n",
    "\n",
    "model.add(Conv2D(256, kernel_size=(3,3), padding='same', activation='relu'))\n",
    "model.add(MaxPooling2D(pool_size=(2,2)))\n",
    "model.add(Dropout(0.2))\n",
    "\n",
    "model.add(Flatten())\n",
    "model.add(Dense(256, activation='relu'))\n",
    "model.add(Dropout(0.2))\n",
    "model.add(Dense(5, activation='softmax'))  #18로 되어있었는데, 출력 라벨을 바꿔야 할 거 같은 구글링 결과가 나와서 바꿔봄...! => 성공!!! (validation, train의 라벨이 다 같아야 함!!)"
   ]
  },
  {
   "cell_type": "code",
   "execution_count": 26,
   "id": "42723ebd",
   "metadata": {},
   "outputs": [
    {
     "name": "stdout",
     "output_type": "stream",
     "text": [
      "Model: \"sequential_1\"\n",
      "_________________________________________________________________\n",
      " Layer (type)                Output Shape              Param #   \n",
      "=================================================================\n",
      " conv2d_3 (Conv2D)           (None, 28, 28, 64)        1792      \n",
      "                                                                 \n",
      " max_pooling2d_3 (MaxPooling  (None, 14, 14, 64)       0         \n",
      " 2D)                                                             \n",
      "                                                                 \n",
      " dropout_4 (Dropout)         (None, 14, 14, 64)        0         \n",
      "                                                                 \n",
      " conv2d_4 (Conv2D)           (None, 14, 14, 128)       73856     \n",
      "                                                                 \n",
      " max_pooling2d_4 (MaxPooling  (None, 7, 7, 128)        0         \n",
      " 2D)                                                             \n",
      "                                                                 \n",
      " dropout_5 (Dropout)         (None, 7, 7, 128)         0         \n",
      "                                                                 \n",
      " conv2d_5 (Conv2D)           (None, 7, 7, 256)         295168    \n",
      "                                                                 \n",
      " max_pooling2d_5 (MaxPooling  (None, 3, 3, 256)        0         \n",
      " 2D)                                                             \n",
      "                                                                 \n",
      " dropout_6 (Dropout)         (None, 3, 3, 256)         0         \n",
      "                                                                 \n",
      " flatten_1 (Flatten)         (None, 2304)              0         \n",
      "                                                                 \n",
      " dense_2 (Dense)             (None, 256)               590080    \n",
      "                                                                 \n",
      " dropout_7 (Dropout)         (None, 256)               0         \n",
      "                                                                 \n",
      " dense_3 (Dense)             (None, 5)                 1285      \n",
      "                                                                 \n",
      "=================================================================\n",
      "Total params: 962,181\n",
      "Trainable params: 962,181\n",
      "Non-trainable params: 0\n",
      "_________________________________________________________________\n"
     ]
    }
   ],
   "source": [
    "model.summary()"
   ]
  },
  {
   "cell_type": "markdown",
   "id": "70e70139",
   "metadata": {},
   "source": [
    "### 모델 훈련"
   ]
  },
  {
   "cell_type": "code",
   "execution_count": 27,
   "id": "df01ae33",
   "metadata": {},
   "outputs": [],
   "source": [
    "# Compile the model\n",
    "model.compile(optimizer='adam', \n",
    "              loss='categorical_crossentropy',\n",
    "              metrics=['accuracy'])"
   ]
  },
  {
   "cell_type": "code",
   "execution_count": 31,
   "id": "b784bbfd",
   "metadata": {},
   "outputs": [
    {
     "name": "stdout",
     "output_type": "stream",
     "text": [
      "Epoch 1/50\n",
      "40/40 [==============================] - 16s 396ms/step - loss: 0.0076 - accuracy: 0.9976 - val_loss: 0.0077 - val_accuracy: 0.9984\n",
      "Epoch 2/50\n",
      "40/40 [==============================] - 15s 376ms/step - loss: 0.0101 - accuracy: 0.9945 - val_loss: 0.0014 - val_accuracy: 0.9992\n",
      "Epoch 3/50\n",
      "40/40 [==============================] - 15s 366ms/step - loss: 0.0201 - accuracy: 0.9941 - val_loss: 0.0027 - val_accuracy: 0.9992\n",
      "Epoch 4/50\n",
      "40/40 [==============================] - 14s 355ms/step - loss: 0.0051 - accuracy: 0.9980 - val_loss: 0.0056 - val_accuracy: 0.9992\n",
      "Epoch 5/50\n",
      "40/40 [==============================] - 14s 348ms/step - loss: 0.0139 - accuracy: 0.9941 - val_loss: 0.0041 - val_accuracy: 0.9984\n",
      "Epoch 6/50\n",
      "40/40 [==============================] - 14s 342ms/step - loss: 0.0092 - accuracy: 0.9965 - val_loss: 0.0030 - val_accuracy: 0.9992\n",
      "Epoch 7/50\n",
      "40/40 [==============================] - 13s 330ms/step - loss: 0.0049 - accuracy: 0.9980 - val_loss: 0.0033 - val_accuracy: 0.9984\n",
      "Epoch 8/50\n",
      "40/40 [==============================] - 13s 331ms/step - loss: 0.0093 - accuracy: 0.9965 - val_loss: 0.0023 - val_accuracy: 0.9992\n",
      "Epoch 9/50\n",
      "40/40 [==============================] - 13s 327ms/step - loss: 0.0055 - accuracy: 0.9984 - val_loss: 0.0125 - val_accuracy: 0.9969\n",
      "Epoch 10/50\n",
      "40/40 [==============================] - 16s 403ms/step - loss: 0.0085 - accuracy: 0.9965 - val_loss: 0.0039 - val_accuracy: 0.9992\n",
      "Epoch 11/50\n",
      "40/40 [==============================] - 15s 374ms/step - loss: 0.0033 - accuracy: 0.9996 - val_loss: 0.0029 - val_accuracy: 0.9984\n",
      "Epoch 12/50\n",
      "40/40 [==============================] - 14s 346ms/step - loss: 0.0035 - accuracy: 0.9988 - val_loss: 1.1510e-04 - val_accuracy: 1.0000\n",
      "Epoch 13/50\n",
      "40/40 [==============================] - 13s 317ms/step - loss: 0.0135 - accuracy: 0.9956 - val_loss: 0.0072 - val_accuracy: 0.9984\n",
      "Epoch 14/50\n",
      "40/40 [==============================] - 13s 315ms/step - loss: 0.0122 - accuracy: 0.9965 - val_loss: 0.0016 - val_accuracy: 0.9992\n",
      "Epoch 15/50\n",
      "40/40 [==============================] - 14s 346ms/step - loss: 0.0019 - accuracy: 0.9996 - val_loss: 0.0020 - val_accuracy: 0.9992\n",
      "Epoch 16/50\n",
      "40/40 [==============================] - 15s 374ms/step - loss: 0.0032 - accuracy: 0.9988 - val_loss: 3.4421e-04 - val_accuracy: 1.0000\n",
      "Epoch 17/50\n",
      "40/40 [==============================] - 14s 346ms/step - loss: 0.0029 - accuracy: 0.9992 - val_loss: 0.0013 - val_accuracy: 1.0000\n",
      "Epoch 18/50\n",
      "40/40 [==============================] - 17s 422ms/step - loss: 0.0061 - accuracy: 0.9980 - val_loss: 0.0050 - val_accuracy: 0.9992\n",
      "Epoch 19/50\n",
      "40/40 [==============================] - 20s 500ms/step - loss: 0.0012 - accuracy: 0.9996 - val_loss: 0.0011 - val_accuracy: 0.9992\n",
      "Epoch 20/50\n",
      "40/40 [==============================] - 18s 451ms/step - loss: 0.0016 - accuracy: 0.9996 - val_loss: 0.0026 - val_accuracy: 0.9992\n",
      "Epoch 21/50\n",
      "40/40 [==============================] - 16s 389ms/step - loss: 0.0080 - accuracy: 0.9973 - val_loss: 0.0020 - val_accuracy: 0.9992\n",
      "Epoch 22/50\n",
      "40/40 [==============================] - 16s 390ms/step - loss: 0.0049 - accuracy: 0.9984 - val_loss: 0.0115 - val_accuracy: 0.9969\n",
      "Epoch 23/50\n",
      "40/40 [==============================] - 15s 378ms/step - loss: 0.0014 - accuracy: 0.9996 - val_loss: 8.8907e-04 - val_accuracy: 1.0000\n",
      "Epoch 24/50\n",
      "40/40 [==============================] - 16s 408ms/step - loss: 0.0061 - accuracy: 0.9973 - val_loss: 6.3469e-04 - val_accuracy: 1.0000\n",
      "Epoch 25/50\n",
      "40/40 [==============================] - 15s 385ms/step - loss: 0.0041 - accuracy: 0.9992 - val_loss: 0.0037 - val_accuracy: 0.9984\n",
      "Epoch 26/50\n",
      "40/40 [==============================] - 15s 368ms/step - loss: 0.0044 - accuracy: 0.9977 - val_loss: 3.5661e-04 - val_accuracy: 1.0000\n",
      "Epoch 27/50\n",
      "40/40 [==============================] - 15s 385ms/step - loss: 0.0032 - accuracy: 0.9992 - val_loss: 7.9918e-04 - val_accuracy: 0.9992\n",
      "Epoch 28/50\n",
      "40/40 [==============================] - 15s 368ms/step - loss: 3.0362e-04 - accuracy: 1.0000 - val_loss: 6.0963e-04 - val_accuracy: 1.0000\n",
      "Epoch 29/50\n",
      "40/40 [==============================] - 15s 370ms/step - loss: 3.2973e-04 - accuracy: 1.0000 - val_loss: 5.9385e-04 - val_accuracy: 1.0000\n",
      "Epoch 30/50\n",
      "40/40 [==============================] - 15s 377ms/step - loss: 7.8982e-04 - accuracy: 1.0000 - val_loss: 3.5210e-04 - val_accuracy: 1.0000\n",
      "Epoch 31/50\n",
      "40/40 [==============================] - 15s 381ms/step - loss: 3.5365e-04 - accuracy: 1.0000 - val_loss: 0.0012 - val_accuracy: 0.9992\n",
      "Epoch 32/50\n",
      "40/40 [==============================] - 17s 413ms/step - loss: 0.0033 - accuracy: 0.9992 - val_loss: 0.0150 - val_accuracy: 0.9969\n",
      "Epoch 33/50\n",
      "40/40 [==============================] - 14s 350ms/step - loss: 0.0141 - accuracy: 0.9953 - val_loss: 0.0273 - val_accuracy: 0.9914\n",
      "Epoch 34/50\n",
      "40/40 [==============================] - 14s 346ms/step - loss: 0.0118 - accuracy: 0.9957 - val_loss: 0.0085 - val_accuracy: 0.9977\n",
      "Epoch 35/50\n",
      "40/40 [==============================] - 14s 348ms/step - loss: 0.0059 - accuracy: 0.9984 - val_loss: 0.0020 - val_accuracy: 0.9992\n",
      "Epoch 36/50\n",
      "40/40 [==============================] - 14s 349ms/step - loss: 0.0030 - accuracy: 0.9988 - val_loss: 3.6180e-04 - val_accuracy: 1.0000\n",
      "Epoch 37/50\n",
      "40/40 [==============================] - 15s 365ms/step - loss: 0.0103 - accuracy: 0.9969 - val_loss: 0.0055 - val_accuracy: 0.9992\n",
      "Epoch 38/50\n",
      "40/40 [==============================] - 14s 359ms/step - loss: 0.0062 - accuracy: 0.9977 - val_loss: 0.0025 - val_accuracy: 0.9984\n",
      "Epoch 39/50\n",
      "40/40 [==============================] - 15s 370ms/step - loss: 8.3691e-04 - accuracy: 1.0000 - val_loss: 8.4563e-04 - val_accuracy: 0.9992\n",
      "Epoch 40/50\n",
      "40/40 [==============================] - 14s 355ms/step - loss: 0.0069 - accuracy: 0.9984 - val_loss: 0.0015 - val_accuracy: 0.9992\n",
      "Epoch 41/50\n",
      "40/40 [==============================] - 15s 362ms/step - loss: 0.0059 - accuracy: 0.9977 - val_loss: 0.0049 - val_accuracy: 0.9992\n",
      "Epoch 42/50\n",
      "40/40 [==============================] - 14s 362ms/step - loss: 0.0030 - accuracy: 0.9992 - val_loss: 0.0042 - val_accuracy: 0.9984\n",
      "Epoch 43/50\n",
      "40/40 [==============================] - 14s 352ms/step - loss: 0.0098 - accuracy: 0.9957 - val_loss: 0.0036 - val_accuracy: 0.9992\n",
      "Epoch 44/50\n",
      "40/40 [==============================] - 14s 337ms/step - loss: 0.0057 - accuracy: 0.9984 - val_loss: 0.0048 - val_accuracy: 0.9984\n",
      "Epoch 45/50\n",
      "40/40 [==============================] - 14s 358ms/step - loss: 0.0021 - accuracy: 0.9992 - val_loss: 0.0026 - val_accuracy: 0.9984\n",
      "Epoch 46/50\n",
      "40/40 [==============================] - 14s 348ms/step - loss: 0.0089 - accuracy: 0.9973 - val_loss: 0.0687 - val_accuracy: 0.9820\n",
      "Epoch 47/50\n",
      "40/40 [==============================] - 14s 359ms/step - loss: 0.0392 - accuracy: 0.9871 - val_loss: 0.0071 - val_accuracy: 0.9977\n",
      "Epoch 48/50\n",
      "40/40 [==============================] - 14s 345ms/step - loss: 0.0104 - accuracy: 0.9961 - val_loss: 4.5540e-04 - val_accuracy: 1.0000\n",
      "Epoch 49/50\n",
      "40/40 [==============================] - 13s 327ms/step - loss: 0.0089 - accuracy: 0.9965 - val_loss: 0.0024 - val_accuracy: 0.9992\n",
      "Epoch 50/50\n",
      "40/40 [==============================] - 13s 325ms/step - loss: 0.0016 - accuracy: 0.9992 - val_loss: 2.0509e-04 - val_accuracy: 1.0000\n"
     ]
    }
   ],
   "source": [
    "results = model.fit(\n",
    "    trainGenSet,\n",
    "    steps_per_epoch=40,\n",
    "    epochs=50,\n",
    "    validation_data=valGenSet,\n",
    "    validation_steps=20\n",
    ")"
   ]
  },
  {
   "cell_type": "markdown",
   "id": "59e502bb",
   "metadata": {},
   "source": [
    "### 모델 accuracy, loss 그래프로 표현"
   ]
  },
  {
   "cell_type": "code",
   "execution_count": 32,
   "id": "79740048",
   "metadata": {},
   "outputs": [
    {
     "data": {
      "image/png": "[encoded data removed]",
      "text/plain": [
       "<Figure size 432x288 with 1 Axes>"
      ]
     },
     "metadata": {
      "needs_background": "light"
     },
     "output_type": "display_data"
    },
    {
     "data": {
      "image/png": "[encoded data removed]",
      "text/plain": [
       "<Figure size 432x288 with 1 Axes>"
      ]
     },
     "metadata": {
      "needs_background": "light"
     },
     "output_type": "display_data"
    }
   ],
   "source": [
    "import matplotlib.pyplot as plt\n",
    "\n",
    "# summarize history for accuracy\n",
    "plt.plot(results.history['accuracy'])\n",
    "plt.plot(results.history['val_accuracy'])\n",
    "plt.title('model accuracy')\n",
    "plt.ylabel('accuracy')\n",
    "plt.xlabel('epoch')\n",
    "plt.legend(['train', 'test'], loc='upper left')\n",
    "plt.show()\n",
    "\n",
    "# summarize history for loss\n",
    "plt.plot(results.history['loss'])\n",
    "plt.plot(results.history['val_loss'])\n",
    "plt.title('model loss')\n",
    "plt.ylabel('loss')\n",
    "plt.xlabel('epoch')\n",
    "plt.legend(['train', 'test'], loc='upper left')\n",
    "plt.show()"
   ]
  },
  {
   "cell_type": "markdown",
   "id": "13a9aa3c",
   "metadata": {},
   "source": [
    "### 모델 테스트 및 정확도 출력 "
   ]
  },
  {
   "cell_type": "code",
   "execution_count": 33,
   "id": "0a4cc82d",
   "metadata": {},
   "outputs": [
    {
     "name": "stderr",
     "output_type": "stream",
     "text": [
      "C:\\Users\\USER\\AppData\\Local\\Temp\\ipykernel_1528\\3026207986.py:1: UserWarning: `Model.evaluate_generator` is deprecated and will be removed in a future version. Please use `Model.evaluate`, which supports generators.\n",
      "  scores = model.evaluate_generator(testGenSet)\n"
     ]
    },
    {
     "name": "stdout",
     "output_type": "stream",
     "text": [
      "[2.0828511714935303, 0.598508358001709]\n"
     ]
    }
   ],
   "source": [
    "scores = model.evaluate_generator(testGenSet)\n",
    "print(scores)"
   ]
  },
  {
   "cell_type": "code",
   "execution_count": null,
   "id": "05ef9f5b",
   "metadata": {},
   "outputs": [],
   "source": []
  }
 ],
 "metadata": {
  "kernelspec": {
   "display_name": "Python 3 (ipykernel)",
   "language": "python",
   "name": "python3"
  },
  "language_info": {
   "codemirror_mode": {
    "name": "ipython",
    "version": 3
   },
   "file_extension": ".py",
   "mimetype": "text/x-python",
   "name": "python",
   "nbconvert_exporter": "python",
   "pygments_lexer": "ipython3",
   "version": "3.9.12"
  },
  "toc": {
   "base_numbering": 1,
   "nav_menu": {},
   "number_sections": true,
   "sideBar": true,
   "skip_h1_title": false,
   "title_cell": "Table of Contents",
   "title_sidebar": "Contents",
   "toc_cell": false,
   "toc_position": {},
   "toc_section_display": true,
   "toc_window_display": false
  }
 },
 "nbformat": 4,
 "nbformat_minor": 5
}
