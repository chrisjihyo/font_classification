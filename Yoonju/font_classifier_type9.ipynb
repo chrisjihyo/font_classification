{
 "cells": [
  {
   "cell_type": "code",
   "execution_count": 1,
   "id": "475d8c4c",
   "metadata": {},
   "outputs": [],
   "source": [
    "from keras.preprocessing.image import ImageDataGenerator\n",
    "\n",
    "from tensorflow.python.keras.utils import np_utils\n",
    "from keras.models import Sequential\n",
    "from keras.utils import array_to_img, img_to_array, load_img\n",
    "from keras.layers import *\n",
    "from keras.callbacks import ModelCheckpoint, EarlyStopping\n",
    "\n",
    "import os\n",
    "import pandas as pd\n",
    "import numpy as np\n",
    "\n",
    "from sklearn.metrics import accuracy_score"
   ]
  },
  {
   "cell_type": "code",
   "execution_count": 2,
   "id": "c158437d",
   "metadata": {},
   "outputs": [],
   "source": [
    "path = r\"C:\\\\Users\\\\angel\\\\Desktop\\\\font_original\" #원본 이미지 경로 \n",
    "copy_path = r\"C:\\\\Users\\\\angel\\\\Desktop\\\\font_classifier\" #복사 및 분류된 이미지 경로\n",
    "#font_classifier 안에 모든 글꼴 이미지들이 다 저장되어 있음 (따로 하위폴더 없음)\n",
    "#노트북 경로"
   ]
  },
  {
   "cell_type": "markdown",
   "id": "faf8e601",
   "metadata": {},
   "source": [
    "### 데이터셋 준비"
   ]
  },
  {
   "cell_type": "code",
   "execution_count": 8,
   "id": "cc571bb2",
   "metadata": {},
   "outputs": [],
   "source": [
    "import splitfolders\n",
    "\n",
    "splitfolders.ratio(path, output=copy_path, seed = 43, ratio = (.5,.2,.3))"
   ]
  },
  {
   "cell_type": "code",
   "execution_count": 3,
   "id": "5578965a",
   "metadata": {},
   "outputs": [
    {
     "name": "stdout",
     "output_type": "stream",
     "text": [
      "9\n",
      "9\n",
      "9\n"
     ]
    }
   ],
   "source": [
    "print(len(os.listdir(copy_path + '\\\\val')))\n",
    "print(len(os.listdir(copy_path + '\\\\train')))\n",
    "print(len(os.listdir(copy_path + '\\\\test')))"
   ]
  },
  {
   "cell_type": "markdown",
   "id": "88be1942",
   "metadata": {},
   "source": [
    "### 데이터셋 정형화"
   ]
  },
  {
   "cell_type": "code",
   "execution_count": 4,
   "id": "10c5ffa5",
   "metadata": {},
   "outputs": [],
   "source": [
    "trainDataGen = ImageDataGenerator(rescale=1./255)"
   ]
  },
  {
   "cell_type": "code",
   "execution_count": 5,
   "id": "b7a60c19",
   "metadata": {},
   "outputs": [],
   "source": [
    "currentPath = copy_path + '\\\\train'"
   ]
  },
  {
   "cell_type": "code",
   "execution_count": 6,
   "id": "db494bc0",
   "metadata": {},
   "outputs": [
    {
     "name": "stdout",
     "output_type": "stream",
     "text": [
      "Found 50274 images belonging to 9 classes.\n"
     ]
    }
   ],
   "source": [
    "trainGenSet = trainDataGen.flow_from_directory(\n",
    "    currentPath,\n",
    "    batch_size=64,\n",
    "    target_size=(28,28),\n",
    "    class_mode='categorical'\n",
    ")"
   ]
  },
  {
   "cell_type": "markdown",
   "id": "c1efebc5",
   "metadata": {},
   "source": [
    "-------------"
   ]
  },
  {
   "cell_type": "code",
   "execution_count": 7,
   "id": "011f857d",
   "metadata": {},
   "outputs": [],
   "source": [
    "valDataGen = ImageDataGenerator(rescale=1./255)"
   ]
  },
  {
   "cell_type": "code",
   "execution_count": 8,
   "id": "ebed0644",
   "metadata": {},
   "outputs": [],
   "source": [
    "currentPath = copy_path + '\\\\val'"
   ]
  },
  {
   "cell_type": "code",
   "execution_count": 9,
   "id": "c074a12e",
   "metadata": {},
   "outputs": [
    {
     "name": "stdout",
     "output_type": "stream",
     "text": [
      "Found 20106 images belonging to 9 classes.\n"
     ]
    }
   ],
   "source": [
    "valGenSet = valDataGen.flow_from_directory(\n",
    "    currentPath,\n",
    "    batch_size=64,\n",
    "    target_size=(28,28),\n",
    "    class_mode='categorical'\n",
    ")"
   ]
  },
  {
   "cell_type": "markdown",
   "id": "63275bc8",
   "metadata": {},
   "source": [
    "---------------------"
   ]
  },
  {
   "cell_type": "code",
   "execution_count": 10,
   "id": "00d5afc4",
   "metadata": {},
   "outputs": [],
   "source": [
    "testDataGen = ImageDataGenerator(rescale=1./255,\n",
    "                                 rotation_range = 30,\n",
    "                                 width_shift_range=0.1,\n",
    "                                 height_shift_range=0.1,\n",
    "                                 shear_range=0.2,\n",
    "                                 zoom_range=0.2,\n",
    "                                 horizontal_flip=False,\n",
    "                                 vertical_flip=False,\n",
    "                                 fill_mode='nearest'\n",
    "                                 )"
   ]
  },
  {
   "cell_type": "code",
   "execution_count": 11,
   "id": "f455d6c9",
   "metadata": {},
   "outputs": [],
   "source": [
    "currentPath = copy_path + '\\\\test'"
   ]
  },
  {
   "cell_type": "code",
   "execution_count": 12,
   "id": "0969d353",
   "metadata": {},
   "outputs": [
    {
     "name": "stdout",
     "output_type": "stream",
     "text": [
      "Found 30168 images belonging to 9 classes.\n"
     ]
    }
   ],
   "source": [
    "testGenSet = testDataGen.flow_from_directory(\n",
    "    currentPath,\n",
    "    batch_size=64,\n",
    "    target_size=(28,28),\n",
    "    class_mode='categorical'\n",
    ")"
   ]
  },
  {
   "cell_type": "markdown",
   "id": "6b5027a8",
   "metadata": {},
   "source": [
    "--------"
   ]
  },
  {
   "cell_type": "markdown",
   "id": "11720956",
   "metadata": {},
   "source": [
    "### 모델 구성"
   ]
  },
  {
   "cell_type": "code",
   "execution_count": 17,
   "id": "363e33cf",
   "metadata": {},
   "outputs": [],
   "source": [
    "# 모델 구성\n",
    "model = Sequential()\n",
    "model.add(Conv2D(64, kernel_size=(3,3), padding='same', input_shape=(28,28,3), activation='relu'))\n",
    "model.add(MaxPooling2D(pool_size=(2,2)))\n",
    "model.add(Dropout(0.2))\n",
    "    \n",
    "model.add(Conv2D(128, kernel_size=(3,3),padding='same', activation='relu'))\n",
    "model.add(MaxPooling2D(pool_size=(2,2)))\n",
    "model.add(Dropout(0.2))\n",
    "\n",
    "model.add(Conv2D(256, kernel_size=(3,3), padding='same', activation='relu'))\n",
    "model.add(MaxPooling2D(pool_size=(2,2)))\n",
    "model.add(Dropout(0.2))\n",
    "\n",
    "model.add(Flatten())\n",
    "model.add(Dense(256, activation='relu'))\n",
    "model.add(Dropout(0.2))\n",
    "model.add(Dense(9, activation='softmax'))  #18로 되어있었는데, 출력 라벨을 바꿔야 할 거 같은 구글링 결과가 나와서 바꿔봄...! => 성공!!! (validation, train의 라벨이 다 같아야 함!!)"
   ]
  },
  {
   "cell_type": "code",
   "execution_count": 18,
   "id": "42723ebd",
   "metadata": {},
   "outputs": [
    {
     "name": "stdout",
     "output_type": "stream",
     "text": [
      "Model: \"sequential_1\"\n",
      "_________________________________________________________________\n",
      " Layer (type)                Output Shape              Param #   \n",
      "=================================================================\n",
      " conv2d_3 (Conv2D)           (None, 28, 28, 64)        1792      \n",
      "                                                                 \n",
      " max_pooling2d_3 (MaxPoolin  (None, 14, 14, 64)        0         \n",
      " g2D)                                                            \n",
      "                                                                 \n",
      " dropout_4 (Dropout)         (None, 14, 14, 64)        0         \n",
      "                                                                 \n",
      " conv2d_4 (Conv2D)           (None, 14, 14, 128)       73856     \n",
      "                                                                 \n",
      " max_pooling2d_4 (MaxPoolin  (None, 7, 7, 128)         0         \n",
      " g2D)                                                            \n",
      "                                                                 \n",
      " dropout_5 (Dropout)         (None, 7, 7, 128)         0         \n",
      "                                                                 \n",
      " conv2d_5 (Conv2D)           (None, 7, 7, 256)         295168    \n",
      "                                                                 \n",
      " max_pooling2d_5 (MaxPoolin  (None, 3, 3, 256)         0         \n",
      " g2D)                                                            \n",
      "                                                                 \n",
      " dropout_6 (Dropout)         (None, 3, 3, 256)         0         \n",
      "                                                                 \n",
      " flatten_1 (Flatten)         (None, 2304)              0         \n",
      "                                                                 \n",
      " dense_2 (Dense)             (None, 256)               590080    \n",
      "                                                                 \n",
      " dropout_7 (Dropout)         (None, 256)               0         \n",
      "                                                                 \n",
      " dense_3 (Dense)             (None, 9)                 2313      \n",
      "                                                                 \n",
      "=================================================================\n",
      "Total params: 963209 (3.67 MB)\n",
      "Trainable params: 963209 (3.67 MB)\n",
      "Non-trainable params: 0 (0.00 Byte)\n",
      "_________________________________________________________________\n"
     ]
    }
   ],
   "source": [
    "model.summary()"
   ]
  },
  {
   "cell_type": "markdown",
   "id": "70e70139",
   "metadata": {},
   "source": [
    "### 모델 훈련"
   ]
  },
  {
   "cell_type": "code",
   "execution_count": 19,
   "id": "df01ae33",
   "metadata": {},
   "outputs": [],
   "source": [
    "# Compile the model\n",
    "model.compile(optimizer='adam', \n",
    "              loss='categorical_crossentropy',\n",
    "              metrics=['accuracy'])"
   ]
  },
  {
   "cell_type": "code",
   "execution_count": 20,
   "id": "b784bbfd",
   "metadata": {},
   "outputs": [
    {
     "name": "stdout",
     "output_type": "stream",
     "text": [
      "Epoch 1/100\n",
      "40/40 [==============================] - 12s 270ms/step - loss: 1.9602 - accuracy: 0.2062 - val_loss: 1.3965 - val_accuracy: 0.3445\n",
      "Epoch 2/100\n",
      "40/40 [==============================] - 10s 248ms/step - loss: 1.2378 - accuracy: 0.4395 - val_loss: 0.8963 - val_accuracy: 0.6719\n",
      "Epoch 3/100\n",
      "40/40 [==============================] - 9s 232ms/step - loss: 0.9014 - accuracy: 0.6004 - val_loss: 0.6019 - val_accuracy: 0.7797\n",
      "Epoch 4/100\n",
      "40/40 [==============================] - 9s 226ms/step - loss: 0.7092 - accuracy: 0.6949 - val_loss: 0.4665 - val_accuracy: 0.8391\n",
      "Epoch 5/100\n",
      "40/40 [==============================] - 9s 218ms/step - loss: 0.5902 - accuracy: 0.7500 - val_loss: 0.4271 - val_accuracy: 0.8680\n",
      "Epoch 6/100\n",
      "40/40 [==============================] - 9s 213ms/step - loss: 0.3944 - accuracy: 0.8418 - val_loss: 0.2408 - val_accuracy: 0.9266\n",
      "Epoch 7/100\n",
      "40/40 [==============================] - 9s 212ms/step - loss: 0.3766 - accuracy: 0.8594 - val_loss: 0.2506 - val_accuracy: 0.9031\n",
      "Epoch 8/100\n",
      "40/40 [==============================] - 8s 202ms/step - loss: 0.2910 - accuracy: 0.8871 - val_loss: 0.1643 - val_accuracy: 0.9398\n",
      "Epoch 9/100\n",
      "40/40 [==============================] - 8s 201ms/step - loss: 0.1883 - accuracy: 0.9309 - val_loss: 0.1705 - val_accuracy: 0.9367\n",
      "Epoch 10/100\n",
      "40/40 [==============================] - 8s 204ms/step - loss: 0.1966 - accuracy: 0.9316 - val_loss: 0.1503 - val_accuracy: 0.9453\n",
      "Epoch 11/100\n",
      "40/40 [==============================] - 8s 194ms/step - loss: 0.1599 - accuracy: 0.9418 - val_loss: 0.0674 - val_accuracy: 0.9766\n",
      "Epoch 12/100\n",
      "40/40 [==============================] - 8s 193ms/step - loss: 0.1308 - accuracy: 0.9547 - val_loss: 0.1242 - val_accuracy: 0.9570\n",
      "Epoch 13/100\n",
      "40/40 [==============================] - 8s 188ms/step - loss: 0.1279 - accuracy: 0.9551 - val_loss: 0.0962 - val_accuracy: 0.9672\n",
      "Epoch 14/100\n",
      "40/40 [==============================] - 7s 186ms/step - loss: 0.1252 - accuracy: 0.9561 - val_loss: 0.0641 - val_accuracy: 0.9805\n",
      "Epoch 15/100\n",
      "40/40 [==============================] - 7s 186ms/step - loss: 0.0964 - accuracy: 0.9660 - val_loss: 0.0755 - val_accuracy: 0.9727\n",
      "Epoch 16/100\n",
      "40/40 [==============================] - 8s 188ms/step - loss: 0.1057 - accuracy: 0.9664 - val_loss: 0.0463 - val_accuracy: 0.9844\n",
      "Epoch 17/100\n",
      "40/40 [==============================] - 7s 182ms/step - loss: 0.0952 - accuracy: 0.9688 - val_loss: 0.0575 - val_accuracy: 0.9812\n",
      "Epoch 18/100\n",
      "40/40 [==============================] - 7s 179ms/step - loss: 0.0780 - accuracy: 0.9754 - val_loss: 0.0471 - val_accuracy: 0.9805\n",
      "Epoch 19/100\n",
      "40/40 [==============================] - 7s 181ms/step - loss: 0.0969 - accuracy: 0.9668 - val_loss: 0.0384 - val_accuracy: 0.9820\n",
      "Epoch 20/100\n",
      "40/40 [==============================] - 7s 179ms/step - loss: 0.0691 - accuracy: 0.9773 - val_loss: 0.0439 - val_accuracy: 0.9875\n",
      "Epoch 21/100\n",
      "40/40 [==============================] - 7s 182ms/step - loss: 0.0683 - accuracy: 0.9777 - val_loss: 0.0489 - val_accuracy: 0.9852\n",
      "Epoch 22/100\n",
      "40/40 [==============================] - 9s 229ms/step - loss: 0.0797 - accuracy: 0.9738 - val_loss: 0.0302 - val_accuracy: 0.9914\n",
      "Epoch 23/100\n",
      "40/40 [==============================] - 10s 260ms/step - loss: 0.0592 - accuracy: 0.9770 - val_loss: 0.0293 - val_accuracy: 0.9898\n",
      "Epoch 24/100\n",
      "40/40 [==============================] - 10s 258ms/step - loss: 0.0597 - accuracy: 0.9801 - val_loss: 0.0246 - val_accuracy: 0.9898\n",
      "Epoch 25/100\n",
      "40/40 [==============================] - 9s 213ms/step - loss: 0.0516 - accuracy: 0.9816 - val_loss: 0.0340 - val_accuracy: 0.9898\n",
      "Epoch 26/100\n",
      "40/40 [==============================] - 8s 198ms/step - loss: 0.0567 - accuracy: 0.9812 - val_loss: 0.0217 - val_accuracy: 0.9945\n",
      "Epoch 27/100\n",
      "40/40 [==============================] - 7s 188ms/step - loss: 0.0743 - accuracy: 0.9727 - val_loss: 0.0225 - val_accuracy: 0.9922\n",
      "Epoch 28/100\n",
      "40/40 [==============================] - 8s 193ms/step - loss: 0.0613 - accuracy: 0.9793 - val_loss: 0.0246 - val_accuracy: 0.9937\n",
      "Epoch 29/100\n",
      "40/40 [==============================] - 9s 214ms/step - loss: 0.0461 - accuracy: 0.9836 - val_loss: 0.0373 - val_accuracy: 0.9875\n",
      "Epoch 30/100\n",
      "40/40 [==============================] - 8s 196ms/step - loss: 0.0492 - accuracy: 0.9852 - val_loss: 0.0324 - val_accuracy: 0.9898\n",
      "Epoch 31/100\n",
      "40/40 [==============================] - 7s 186ms/step - loss: 0.1181 - accuracy: 0.9648 - val_loss: 0.0564 - val_accuracy: 0.9812\n",
      "Epoch 32/100\n",
      "40/40 [==============================] - 7s 180ms/step - loss: 0.0556 - accuracy: 0.9840 - val_loss: 0.0163 - val_accuracy: 0.9953\n",
      "Epoch 33/100\n",
      "40/40 [==============================] - 8s 191ms/step - loss: 0.0532 - accuracy: 0.9824 - val_loss: 0.0880 - val_accuracy: 0.9680\n",
      "Epoch 34/100\n",
      "40/40 [==============================] - 9s 237ms/step - loss: 0.0898 - accuracy: 0.9680 - val_loss: 0.0138 - val_accuracy: 0.9977\n",
      "Epoch 35/100\n",
      "40/40 [==============================] - 7s 185ms/step - loss: 0.0322 - accuracy: 0.9891 - val_loss: 0.0097 - val_accuracy: 0.9977\n",
      "Epoch 36/100\n",
      "40/40 [==============================] - 7s 188ms/step - loss: 0.0312 - accuracy: 0.9906 - val_loss: 0.0192 - val_accuracy: 0.9930\n",
      "Epoch 37/100\n",
      "40/40 [==============================] - 8s 191ms/step - loss: 0.0338 - accuracy: 0.9895 - val_loss: 0.0188 - val_accuracy: 0.9945\n",
      "Epoch 38/100\n",
      "40/40 [==============================] - 7s 172ms/step - loss: 0.0333 - accuracy: 0.9875 - val_loss: 0.0198 - val_accuracy: 0.9945\n",
      "Epoch 39/100\n",
      "40/40 [==============================] - 8s 208ms/step - loss: 0.0350 - accuracy: 0.9887 - val_loss: 0.0156 - val_accuracy: 0.9937\n",
      "Epoch 40/100\n",
      "40/40 [==============================] - 7s 177ms/step - loss: 0.0313 - accuracy: 0.9898 - val_loss: 0.0310 - val_accuracy: 0.9906\n",
      "Epoch 41/100\n",
      "40/40 [==============================] - 7s 164ms/step - loss: 0.0378 - accuracy: 0.9887 - val_loss: 0.0127 - val_accuracy: 0.9961\n",
      "Epoch 42/100\n",
      "40/40 [==============================] - 6s 161ms/step - loss: 0.0204 - accuracy: 0.9937 - val_loss: 0.0064 - val_accuracy: 0.9969\n",
      "Epoch 43/100\n",
      "40/40 [==============================] - 7s 162ms/step - loss: 0.0425 - accuracy: 0.9883 - val_loss: 0.0271 - val_accuracy: 0.9930\n",
      "Epoch 44/100\n",
      "40/40 [==============================] - 6s 160ms/step - loss: 0.0334 - accuracy: 0.9871 - val_loss: 0.0087 - val_accuracy: 0.9977\n",
      "Epoch 45/100\n",
      "40/40 [==============================] - 7s 170ms/step - loss: 0.0510 - accuracy: 0.9855 - val_loss: 0.0167 - val_accuracy: 0.9953\n",
      "Epoch 46/100\n",
      "40/40 [==============================] - 8s 197ms/step - loss: 0.0578 - accuracy: 0.9797 - val_loss: 0.0148 - val_accuracy: 0.9953\n",
      "Epoch 47/100\n",
      "40/40 [==============================] - 7s 168ms/step - loss: 0.0330 - accuracy: 0.9898 - val_loss: 0.0105 - val_accuracy: 0.9977\n",
      "Epoch 48/100\n",
      "40/40 [==============================] - 7s 167ms/step - loss: 0.0237 - accuracy: 0.9922 - val_loss: 0.0135 - val_accuracy: 0.9945\n",
      "Epoch 49/100\n",
      "40/40 [==============================] - 7s 176ms/step - loss: 0.0276 - accuracy: 0.9883 - val_loss: 0.0123 - val_accuracy: 0.9969\n",
      "Epoch 50/100\n",
      "40/40 [==============================] - 7s 177ms/step - loss: 0.0307 - accuracy: 0.9891 - val_loss: 0.0164 - val_accuracy: 0.9922\n",
      "Epoch 51/100\n",
      "40/40 [==============================] - 7s 162ms/step - loss: 0.0178 - accuracy: 0.9922 - val_loss: 0.0086 - val_accuracy: 0.9977\n",
      "Epoch 52/100\n",
      "40/40 [==============================] - 7s 181ms/step - loss: 0.0241 - accuracy: 0.9918 - val_loss: 0.0042 - val_accuracy: 0.9984\n",
      "Epoch 53/100\n",
      "40/40 [==============================] - 7s 173ms/step - loss: 0.0264 - accuracy: 0.9922 - val_loss: 0.0171 - val_accuracy: 0.9953\n",
      "Epoch 54/100\n",
      "40/40 [==============================] - 6s 153ms/step - loss: 0.0235 - accuracy: 0.9922 - val_loss: 0.0053 - val_accuracy: 0.9992\n",
      "Epoch 55/100\n",
      "40/40 [==============================] - 6s 156ms/step - loss: 0.0240 - accuracy: 0.9934 - val_loss: 0.0115 - val_accuracy: 0.9977\n",
      "Epoch 56/100\n",
      "40/40 [==============================] - 6s 156ms/step - loss: 0.0337 - accuracy: 0.9901 - val_loss: 0.0229 - val_accuracy: 0.9906\n",
      "Epoch 57/100\n",
      "40/40 [==============================] - 6s 156ms/step - loss: 0.0353 - accuracy: 0.9883 - val_loss: 0.0143 - val_accuracy: 0.9977\n"
     ]
    },
    {
     "name": "stdout",
     "output_type": "stream",
     "text": [
      "Epoch 58/100\n",
      "40/40 [==============================] - 6s 153ms/step - loss: 0.0217 - accuracy: 0.9914 - val_loss: 0.0104 - val_accuracy: 0.9961\n",
      "Epoch 59/100\n",
      "40/40 [==============================] - 6s 151ms/step - loss: 0.0236 - accuracy: 0.9914 - val_loss: 0.0093 - val_accuracy: 0.9961\n",
      "Epoch 60/100\n",
      "40/40 [==============================] - 6s 149ms/step - loss: 0.0285 - accuracy: 0.9902 - val_loss: 0.0048 - val_accuracy: 1.0000\n",
      "Epoch 61/100\n",
      "40/40 [==============================] - 6s 159ms/step - loss: 0.0173 - accuracy: 0.9930 - val_loss: 0.0067 - val_accuracy: 0.9984\n",
      "Epoch 62/100\n",
      "40/40 [==============================] - 6s 148ms/step - loss: 0.0102 - accuracy: 0.9969 - val_loss: 0.0047 - val_accuracy: 0.9992\n",
      "Epoch 63/100\n",
      "40/40 [==============================] - 6s 147ms/step - loss: 0.0077 - accuracy: 0.9973 - val_loss: 0.0039 - val_accuracy: 0.9992\n",
      "Epoch 64/100\n",
      "40/40 [==============================] - 6s 142ms/step - loss: 0.0226 - accuracy: 0.9926 - val_loss: 0.0171 - val_accuracy: 0.9937\n",
      "Epoch 65/100\n",
      "40/40 [==============================] - 6s 141ms/step - loss: 0.0257 - accuracy: 0.9906 - val_loss: 0.0060 - val_accuracy: 0.9984\n",
      "Epoch 66/100\n",
      "40/40 [==============================] - 6s 143ms/step - loss: 0.0308 - accuracy: 0.9898 - val_loss: 0.0080 - val_accuracy: 0.9984\n",
      "Epoch 67/100\n",
      "40/40 [==============================] - 6s 146ms/step - loss: 0.0612 - accuracy: 0.9797 - val_loss: 0.0160 - val_accuracy: 0.9953\n",
      "Epoch 68/100\n",
      "40/40 [==============================] - 6s 141ms/step - loss: 0.0212 - accuracy: 0.9937 - val_loss: 0.0091 - val_accuracy: 0.9977\n",
      "Epoch 69/100\n",
      "40/40 [==============================] - 6s 143ms/step - loss: 0.0269 - accuracy: 0.9914 - val_loss: 0.0094 - val_accuracy: 0.9977\n",
      "Epoch 70/100\n",
      "40/40 [==============================] - 6s 143ms/step - loss: 0.0144 - accuracy: 0.9953 - val_loss: 0.0061 - val_accuracy: 0.9984\n",
      "Epoch 71/100\n",
      "40/40 [==============================] - 6s 138ms/step - loss: 0.0429 - accuracy: 0.9836 - val_loss: 0.0098 - val_accuracy: 0.9977\n",
      "Epoch 72/100\n",
      "40/40 [==============================] - 6s 140ms/step - loss: 0.0239 - accuracy: 0.9902 - val_loss: 0.0203 - val_accuracy: 0.9945\n",
      "Epoch 73/100\n",
      "40/40 [==============================] - 6s 139ms/step - loss: 0.0245 - accuracy: 0.9906 - val_loss: 0.0075 - val_accuracy: 0.9969\n",
      "Epoch 74/100\n",
      "40/40 [==============================] - 6s 138ms/step - loss: 0.0163 - accuracy: 0.9969 - val_loss: 0.0079 - val_accuracy: 0.9984\n",
      "Epoch 75/100\n",
      "40/40 [==============================] - 6s 140ms/step - loss: 0.0103 - accuracy: 0.9957 - val_loss: 0.0113 - val_accuracy: 0.9977\n",
      "Epoch 76/100\n",
      "40/40 [==============================] - 6s 140ms/step - loss: 0.0183 - accuracy: 0.9957 - val_loss: 0.0054 - val_accuracy: 0.9992\n",
      "Epoch 77/100\n",
      "40/40 [==============================] - 6s 140ms/step - loss: 0.0215 - accuracy: 0.9918 - val_loss: 0.0061 - val_accuracy: 0.9984\n",
      "Epoch 78/100\n",
      "40/40 [==============================] - 6s 139ms/step - loss: 0.0249 - accuracy: 0.9914 - val_loss: 0.0045 - val_accuracy: 1.0000\n",
      "Epoch 79/100\n",
      "40/40 [==============================] - 6s 138ms/step - loss: 0.0203 - accuracy: 0.9922 - val_loss: 0.0147 - val_accuracy: 0.9937\n",
      "Epoch 80/100\n",
      "40/40 [==============================] - 6s 138ms/step - loss: 0.0141 - accuracy: 0.9949 - val_loss: 0.0038 - val_accuracy: 0.9977\n",
      "Epoch 81/100\n",
      "40/40 [==============================] - 6s 142ms/step - loss: 0.0108 - accuracy: 0.9965 - val_loss: 0.0032 - val_accuracy: 0.9984\n",
      "Epoch 82/100\n",
      "40/40 [==============================] - 6s 141ms/step - loss: 0.0129 - accuracy: 0.9945 - val_loss: 0.0045 - val_accuracy: 0.9977\n",
      "Epoch 83/100\n",
      "40/40 [==============================] - 6s 141ms/step - loss: 0.0130 - accuracy: 0.9957 - val_loss: 0.0058 - val_accuracy: 0.9984\n",
      "Epoch 84/100\n",
      "40/40 [==============================] - 6s 142ms/step - loss: 0.0169 - accuracy: 0.9953 - val_loss: 0.0073 - val_accuracy: 0.9984\n",
      "Epoch 85/100\n",
      "40/40 [==============================] - 6s 141ms/step - loss: 0.0264 - accuracy: 0.9918 - val_loss: 0.0034 - val_accuracy: 0.9992\n",
      "Epoch 86/100\n",
      "40/40 [==============================] - 6s 139ms/step - loss: 0.0165 - accuracy: 0.9961 - val_loss: 0.0087 - val_accuracy: 0.9969\n",
      "Epoch 87/100\n",
      "40/40 [==============================] - 6s 138ms/step - loss: 0.0181 - accuracy: 0.9934 - val_loss: 0.0128 - val_accuracy: 0.9969\n",
      "Epoch 88/100\n",
      "40/40 [==============================] - 6s 140ms/step - loss: 0.0215 - accuracy: 0.9934 - val_loss: 0.0122 - val_accuracy: 0.9977\n",
      "Epoch 89/100\n",
      "40/40 [==============================] - 6s 140ms/step - loss: 0.0096 - accuracy: 0.9969 - val_loss: 0.0050 - val_accuracy: 0.9977\n",
      "Epoch 90/100\n",
      "40/40 [==============================] - 6s 139ms/step - loss: 0.0203 - accuracy: 0.9941 - val_loss: 0.0024 - val_accuracy: 0.9992\n",
      "Epoch 91/100\n",
      "40/40 [==============================] - 6s 138ms/step - loss: 0.0171 - accuracy: 0.9930 - val_loss: 0.0084 - val_accuracy: 0.9984\n",
      "Epoch 92/100\n",
      "40/40 [==============================] - 6s 154ms/step - loss: 0.0132 - accuracy: 0.9953 - val_loss: 0.0048 - val_accuracy: 0.9992\n",
      "Epoch 93/100\n",
      "40/40 [==============================] - 7s 163ms/step - loss: 0.0110 - accuracy: 0.9965 - val_loss: 0.0013 - val_accuracy: 1.0000\n",
      "Epoch 94/100\n",
      "40/40 [==============================] - 6s 159ms/step - loss: 0.0038 - accuracy: 0.9988 - val_loss: 0.0016 - val_accuracy: 0.9992\n",
      "Epoch 95/100\n",
      "40/40 [==============================] - 6s 143ms/step - loss: 0.0147 - accuracy: 0.9937 - val_loss: 0.0082 - val_accuracy: 0.9977\n",
      "Epoch 96/100\n",
      "40/40 [==============================] - 6s 145ms/step - loss: 0.0193 - accuracy: 0.9930 - val_loss: 0.0163 - val_accuracy: 0.9945\n",
      "Epoch 97/100\n",
      "40/40 [==============================] - 6s 144ms/step - loss: 0.0159 - accuracy: 0.9949 - val_loss: 0.0028 - val_accuracy: 0.9977\n",
      "Epoch 98/100\n",
      "40/40 [==============================] - 6s 149ms/step - loss: 0.0135 - accuracy: 0.9957 - val_loss: 0.0225 - val_accuracy: 0.9922\n",
      "Epoch 99/100\n",
      "40/40 [==============================] - 6s 145ms/step - loss: 0.0222 - accuracy: 0.9906 - val_loss: 0.0165 - val_accuracy: 0.9945\n",
      "Epoch 100/100\n",
      "40/40 [==============================] - 6s 143ms/step - loss: 0.0145 - accuracy: 0.9957 - val_loss: 0.0062 - val_accuracy: 0.9992\n"
     ]
    }
   ],
   "source": [
    "results = model.fit(\n",
    "    trainGenSet,\n",
    "    steps_per_epoch=40,\n",
    "    epochs=100,\n",
    "    validation_data=valGenSet,\n",
    "    validation_steps=20\n",
    ")"
   ]
  },
  {
   "cell_type": "markdown",
   "id": "59e502bb",
   "metadata": {},
   "source": [
    "### 모델 accuracy, loss 그래프로 표현"
   ]
  },
  {
   "cell_type": "code",
   "execution_count": 21,
   "id": "79740048",
   "metadata": {
    "scrolled": true
   },
   "outputs": [
    {
     "data": {
      "image/png": "[encoded data removed]",
      "text/plain": [
       "<Figure size 640x480 with 1 Axes>"
      ]
     },
     "metadata": {},
     "output_type": "display_data"
    },
    {
     "data": {
      "image/png": "[encoded data removed]",
      "text/plain": [
       "<Figure size 640x480 with 1 Axes>"
      ]
     },
     "metadata": {},
     "output_type": "display_data"
    }
   ],
   "source": [
    "import matplotlib.pyplot as plt\n",
    "\n",
    "# summarize history for accuracy\n",
    "plt.plot(results.history['accuracy'])\n",
    "plt.plot(results.history['val_accuracy'])\n",
    "plt.title('model accuracy')\n",
    "plt.ylabel('accuracy')\n",
    "plt.xlabel('epoch')\n",
    "plt.legend(['train', 'test'], loc='upper left')\n",
    "plt.show()\n",
    "\n",
    "# summarize history for loss\n",
    "plt.plot(results.history['loss'])\n",
    "plt.plot(results.history['val_loss'])\n",
    "plt.title('model loss')\n",
    "plt.ylabel('loss')\n",
    "plt.xlabel('epoch')\n",
    "plt.legend(['train', 'test'], loc='upper left')\n",
    "plt.show()"
   ]
  },
  {
   "cell_type": "markdown",
   "id": "13a9aa3c",
   "metadata": {},
   "source": [
    "### 모델 테스트 및 정확도 출력 "
   ]
  },
  {
   "cell_type": "code",
   "execution_count": 22,
   "id": "0a4cc82d",
   "metadata": {},
   "outputs": [
    {
     "name": "stderr",
     "output_type": "stream",
     "text": [
      "C:\\Users\\angel\\AppData\\Local\\Temp\\ipykernel_8124\\3026207986.py:1: UserWarning: `Model.evaluate_generator` is deprecated and will be removed in a future version. Please use `Model.evaluate`, which supports generators.\n",
      "  scores = model.evaluate_generator(testGenSet)\n"
     ]
    },
    {
     "name": "stdout",
     "output_type": "stream",
     "text": [
      "[3.1685945987701416, 0.4576040804386139]\n"
     ]
    }
   ],
   "source": [
    "scores = model.evaluate_generator(testGenSet)\n",
    "print(scores)"
   ]
  },
  {
   "cell_type": "code",
   "execution_count": null,
   "id": "05ef9f5b",
   "metadata": {},
   "outputs": [],
   "source": []
  }
 ],
 "metadata": {
  "kernelspec": {
   "display_name": "Python 3 (ipykernel)",
   "language": "python",
   "name": "python3"
  },
  "language_info": {
   "codemirror_mode": {
    "name": "ipython",
    "version": 3
   },
   "file_extension": ".py",
   "mimetype": "text/x-python",
   "name": "python",
   "nbconvert_exporter": "python",
   "pygments_lexer": "ipython3",
   "version": "3.11.4"
  },
  "toc": {
   "base_numbering": 1,
   "nav_menu": {},
   "number_sections": true,
   "sideBar": true,
   "skip_h1_title": false,
   "title_cell": "Table of Contents",
   "title_sidebar": "Contents",
   "toc_cell": false,
   "toc_position": {},
   "toc_section_display": true,
   "toc_window_display": false
  }
 },
 "nbformat": 4,
 "nbformat_minor": 5
}
